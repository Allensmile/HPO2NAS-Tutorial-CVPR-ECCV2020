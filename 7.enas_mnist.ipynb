{
 "cells": [
  {
   "cell_type": "markdown",
   "metadata": {},
   "source": [
    "# How to Use ENAS in 10 mins\n",
    "\n",
    ":label:`sec_proxyless`\n",
    "\n",
    "\n",
    "## What is the key idea of ENAS and ProxylessNAS\n",
    "\n",
    "Traditional reinforcement learning based neural architecture search learns a architecture controller\n",
    "by teratively sampling the architecture and training the model to get final reward to update the controller.\n",
    "It is extremely expensive process due to training CNN.\n",
    "\n",
    "![ProxylessNAS](https://autogluon.s3.amazonaws.com/_images/proxyless.png)\n",
    "\n",
    "Recent work of ENAS and ProxylessNAS construct an over-parameterized network (supernet) and share the weights\n",
    "across different architecutre to speed up the search speed. The reward is calculated every few iters instead\n",
    "of every entire training period.\n",
    "\n",
    "import MXNet and AutoGluon:"
   ]
  },
  {
   "cell_type": "code",
   "execution_count": 1,
   "metadata": {},
   "outputs": [],
   "source": [
    "import autogluon as ag\n",
    "import mxnet as mx\n",
    "import mxnet.gluon.nn as nn"
   ]
  },
  {
   "cell_type": "markdown",
   "metadata": {},
   "source": [
    "## How to construct a SuperNet?\n",
    "\n",
    "Basic NN blocks for CNN."
   ]
  },
  {
   "cell_type": "code",
   "execution_count": 2,
   "metadata": {},
   "outputs": [],
   "source": [
    "class Identity(mx.gluon.HybridBlock):\n",
    "    def hybrid_forward(self, F, x):\n",
    "        return x\n",
    "    \n",
    "class ConvBNReLU(mx.gluon.HybridBlock):\n",
    "    def __init__(self, in_channels, channels, kernel, stride):\n",
    "        super().__init__()\n",
    "        padding = (kernel - 1) // 2\n",
    "        self.conv = nn.Conv2D(channels, kernel, stride, padding, in_channels=in_channels)\n",
    "        self.bn = nn.BatchNorm(in_channels=channels)\n",
    "        self.relu = nn.Activation('relu')\n",
    "    def hybrid_forward(self, F, x):\n",
    "        return self.relu(self.bn(self.conv(x)))"
   ]
  },
  {
   "cell_type": "markdown",
   "metadata": {},
   "source": [
    "### AutoGluon ENAS Unit"
   ]
  },
  {
   "cell_type": "code",
   "execution_count": 3,
   "metadata": {},
   "outputs": [],
   "source": [
    "from autogluon.contrib.enas import *\n",
    "\n",
    "@enas_unit()\n",
    "class ResUnit(mx.gluon.HybridBlock):\n",
    "    def __init__(self, in_channels, channels, hidden_channels, kernel, stride):\n",
    "        super().__init__()\n",
    "        self.conv1 = ConvBNReLU(in_channels, hidden_channels, kernel, stride)\n",
    "        self.conv2 = ConvBNReLU(hidden_channels, channels, kernel, 1)\n",
    "        if in_channels == channels and stride == 1:\n",
    "            self.shortcut = Identity()\n",
    "        else:\n",
    "            self.shortcut = nn.Conv2D(channels, 1, stride, in_channels=in_channels)\n",
    "    def hybrid_forward(self, F, x):\n",
    "        return self.conv2(self.conv1(x)) + self.shortcut(x)"
   ]
  },
  {
   "cell_type": "markdown",
   "metadata": {},
   "source": [
    "### AutoGluon Sequntial\n",
    "\n",
    "Creating a ENAS network using Sequential Block"
   ]
  },
  {
   "cell_type": "code",
   "execution_count": 4,
   "metadata": {},
   "outputs": [],
   "source": [
    "mynet = ENAS_Sequential(\n",
    "    ResUnit(1, 8, hidden_channels=ag.space.Categorical(4, 8), kernel=ag.space.Categorical(3, 5), stride=2),\n",
    "    ResUnit(8, 8, hidden_channels=8, kernel=ag.space.Categorical(3, 5), stride=2),\n",
    "    ResUnit(8, 16, hidden_channels=8, kernel=ag.space.Categorical(3, 5), stride=2),\n",
    "    ResUnit(16, 16, hidden_channels=8, kernel=ag.space.Categorical(3, 5), stride=1, with_zero=True),\n",
    "    ResUnit(16, 16, hidden_channels=8, kernel=ag.space.Categorical(3, 5), stride=1, with_zero=True),\n",
    "    nn.GlobalAvgPool2D(),\n",
    "    nn.Flatten(),\n",
    "    nn.Activation('relu'),\n",
    "    nn.Dense(10, in_units=16),\n",
    ")\n",
    "\n",
    "mynet.initialize()\n",
    "\n",
    "#mynet.graph"
   ]
  },
  {
   "cell_type": "markdown",
   "metadata": {},
   "source": [
    "### Evaluate Network Latency and Define Reward Function"
   ]
  },
  {
   "cell_type": "code",
   "execution_count": 5,
   "metadata": {},
   "outputs": [],
   "source": [
    "x = mx.nd.random.uniform(shape=(1, 1, 28, 28))\n",
    "y = mynet.evaluate_latency(x)"
   ]
  },
  {
   "cell_type": "markdown",
   "metadata": {},
   "source": [
    "Show the latencies:"
   ]
  },
  {
   "cell_type": "code",
   "execution_count": 6,
   "metadata": {},
   "outputs": [
    {
     "name": "stdout",
     "output_type": "stream",
     "text": [
      "Average latency is 3.21 ms, latency of the current architecutre is 3.84 ms\n"
     ]
    }
   ],
   "source": [
    "print('Average latency is {:.2f} ms, latency of the current architecutre is {:.2f} ms'.format(mynet.avg_latency, mynet.latency))"
   ]
  },
  {
   "cell_type": "markdown",
   "metadata": {},
   "source": [
    "We also provide number of params"
   ]
  },
  {
   "cell_type": "code",
   "execution_count": 7,
   "metadata": {},
   "outputs": [
    {
     "data": {
      "text/plain": [
       "8714"
      ]
     },
     "execution_count": 7,
     "metadata": {},
     "output_type": "execute_result"
    }
   ],
   "source": [
    "mynet.nparams"
   ]
  },
  {
   "cell_type": "markdown",
   "metadata": {},
   "source": [
    "Defind the reward function:"
   ]
  },
  {
   "cell_type": "code",
   "execution_count": 8,
   "metadata": {},
   "outputs": [],
   "source": [
    "reward_fn = lambda metric, net: metric * ((net.avg_latency / net.latency) ** 0.1)"
   ]
  },
  {
   "cell_type": "markdown",
   "metadata": {},
   "source": [
    "## Start the Training\n",
    "\n",
    "Construct experiment scheduler, which automatically cretes a RL controller based on user defined search space."
   ]
  },
  {
   "cell_type": "code",
   "execution_count": 9,
   "metadata": {},
   "outputs": [
    {
     "name": "stdout",
     "output_type": "stream",
     "text": [
      "get_built_in_dataset mnist\n",
      "get_built_in_dataset mnist\n"
     ]
    }
   ],
   "source": [
    "scheduler = ENAS_Scheduler(mynet, train_set='mnist',\n",
    "                           reward_fn=reward_fn, batch_size=128, num_gpus=1,\n",
    "                           warmup_epochs=0, epochs=1, controller_lr=3e-3,\n",
    "                           plot_frequency=10, update_arch_frequency=5)"
   ]
  },
  {
   "cell_type": "markdown",
   "metadata": {},
   "source": [
    "Start the training:"
   ]
  },
  {
   "cell_type": "code",
   "execution_count": 10,
   "metadata": {},
   "outputs": [
    {
     "data": {
      "application/vnd.jupyter.widget-view+json": {
       "model_id": "d4a3e6bb69ae4367895d90c513b93ed4",
       "version_major": 2,
       "version_minor": 0
      },
      "text/plain": [
       "VBox(children=(HBox(children=(IntProgress(value=0, max=1), HTML(value=''))), HTML(value='')))"
      ]
     },
     "metadata": {},
     "output_type": "display_data"
    },
    {
     "data": {
      "application/vnd.jupyter.widget-view+json": {
       "model_id": "c20ab9ef97454259bd7e4698b9316b4b",
       "version_major": 2,
       "version_minor": 0
      },
      "text/plain": [
       "VBox(children=(HBox(children=(IntProgress(value=0, max=468), HTML(value=''))), HTML(value='')))"
      ]
     },
     "metadata": {},
     "output_type": "display_data"
    },
    {
     "name": "stdout",
     "output_type": "stream",
     "text": [
      "\n"
     ]
    },
    {
     "data": {
      "application/vnd.jupyter.widget-view+json": {
       "model_id": "20a1248b95ab40faa4b8bf2e930a7197",
       "version_major": 2,
       "version_minor": 0
      },
      "text/plain": [
       "VBox(children=(HBox(children=(IntProgress(value=0, max=79), HTML(value=''))), HTML(value='')))"
      ]
     },
     "metadata": {},
     "output_type": "display_data"
    },
    {
     "name": "stdout",
     "output_type": "stream",
     "text": [
      "\n",
      "\n"
     ]
    }
   ],
   "source": [
    "scheduler.run()"
   ]
  },
  {
   "cell_type": "markdown",
   "metadata": {},
   "source": [
    "The resulting architecture is:"
   ]
  },
  {
   "cell_type": "code",
   "execution_count": 11,
   "metadata": {},
   "outputs": [
    {
     "data": {
      "image/svg+xml": [
       "<?xml version=\"1.0\" encoding=\"UTF-8\" standalone=\"no\"?>\n",
       "<!DOCTYPE svg PUBLIC \"-//W3C//DTD SVG 1.1//EN\"\n",
       " \"http://www.w3.org/Graphics/SVG/1.1/DTD/svg11.dtd\">\n",
       "<!-- Generated by graphviz version 2.40.1 (20161225.0304)\n",
       " -->\n",
       "<!-- Title: %3 Pages: 1 -->\n",
       "<svg width=\"136pt\" height=\"476pt\"\n",
       " viewBox=\"0.00 0.00 136.00 476.00\" xmlns=\"http://www.w3.org/2000/svg\" xmlns:xlink=\"http://www.w3.org/1999/xlink\">\n",
       "<g id=\"graph0\" class=\"graph\" transform=\"scale(1 1) rotate(0) translate(4 472)\">\n",
       "<title>%3</title>\n",
       "<polygon fill=\"#ffffff\" stroke=\"transparent\" points=\"-4,4 -4,-472 132,-472 132,4 -4,4\"/>\n",
       "<!-- 0 -->\n",
       "<g id=\"node1\" class=\"node\">\n",
       "<title>0</title>\n",
       "<polygon fill=\"#fdb462\" stroke=\"#b2dfee\" points=\"128,-468 0,-468 0,-432 128,-432 128,-468\"/>\n",
       "<text text-anchor=\"middle\" x=\"64\" y=\"-446.3\" font-family=\"Times,serif\" font-size=\"14.00\" fill=\"#000000\">ResUnit(H8.K5.S2.)</text>\n",
       "</g>\n",
       "<!-- 1 -->\n",
       "<g id=\"node2\" class=\"node\">\n",
       "<title>1</title>\n",
       "<polygon fill=\"#bebada\" stroke=\"#b2dfee\" points=\"128,-396 0,-396 0,-360 128,-360 128,-396\"/>\n",
       "<text text-anchor=\"middle\" x=\"64\" y=\"-374.3\" font-family=\"Times,serif\" font-size=\"14.00\" fill=\"#000000\">ResUnit(K3.H8.S2.)</text>\n",
       "</g>\n",
       "<!-- 0&#45;&gt;1 -->\n",
       "<g id=\"edge1\" class=\"edge\">\n",
       "<title>0&#45;&gt;1</title>\n",
       "<path fill=\"none\" stroke=\"#000000\" d=\"M64,-431.8314C64,-424.131 64,-414.9743 64,-406.4166\"/>\n",
       "<polygon fill=\"#000000\" stroke=\"#000000\" points=\"67.5001,-406.4132 64,-396.4133 60.5001,-406.4133 67.5001,-406.4132\"/>\n",
       "</g>\n",
       "<!-- 2 -->\n",
       "<g id=\"node3\" class=\"node\">\n",
       "<title>2</title>\n",
       "<polygon fill=\"#fdb462\" stroke=\"#b2dfee\" points=\"128,-324 0,-324 0,-288 128,-288 128,-324\"/>\n",
       "<text text-anchor=\"middle\" x=\"64\" y=\"-302.3\" font-family=\"Times,serif\" font-size=\"14.00\" fill=\"#000000\">ResUnit(K5.H8.S2.)</text>\n",
       "</g>\n",
       "<!-- 1&#45;&gt;2 -->\n",
       "<g id=\"edge2\" class=\"edge\">\n",
       "<title>1&#45;&gt;2</title>\n",
       "<path fill=\"none\" stroke=\"#000000\" d=\"M64,-359.8314C64,-352.131 64,-342.9743 64,-334.4166\"/>\n",
       "<polygon fill=\"#000000\" stroke=\"#000000\" points=\"67.5001,-334.4132 64,-324.4133 60.5001,-334.4133 67.5001,-334.4132\"/>\n",
       "</g>\n",
       "<!-- 5 -->\n",
       "<g id=\"node4\" class=\"node\">\n",
       "<title>5</title>\n",
       "<polygon fill=\"#b2dfee\" stroke=\"#b2dfee\" points=\"123,-252 5,-252 5,-216 123,-216 123,-252\"/>\n",
       "<text text-anchor=\"middle\" x=\"64\" y=\"-230.3\" font-family=\"Times,serif\" font-size=\"14.00\" fill=\"#000000\">GlobalAvgPool2D</text>\n",
       "</g>\n",
       "<!-- 2&#45;&gt;5 -->\n",
       "<g id=\"edge3\" class=\"edge\">\n",
       "<title>2&#45;&gt;5</title>\n",
       "<path fill=\"none\" stroke=\"#000000\" d=\"M64,-287.8314C64,-280.131 64,-270.9743 64,-262.4166\"/>\n",
       "<polygon fill=\"#000000\" stroke=\"#000000\" points=\"67.5001,-262.4132 64,-252.4133 60.5001,-262.4133 67.5001,-262.4132\"/>\n",
       "</g>\n",
       "<!-- 6 -->\n",
       "<g id=\"node5\" class=\"node\">\n",
       "<title>6</title>\n",
       "<polygon fill=\"#b2dfee\" stroke=\"#b2dfee\" points=\"91,-180 37,-180 37,-144 91,-144 91,-180\"/>\n",
       "<text text-anchor=\"middle\" x=\"64\" y=\"-158.3\" font-family=\"Times,serif\" font-size=\"14.00\" fill=\"#000000\">Flatten</text>\n",
       "</g>\n",
       "<!-- 5&#45;&gt;6 -->\n",
       "<g id=\"edge4\" class=\"edge\">\n",
       "<title>5&#45;&gt;6</title>\n",
       "<path fill=\"none\" stroke=\"#000000\" d=\"M64,-215.8314C64,-208.131 64,-198.9743 64,-190.4166\"/>\n",
       "<polygon fill=\"#000000\" stroke=\"#000000\" points=\"67.5001,-190.4132 64,-180.4133 60.5001,-190.4133 67.5001,-190.4132\"/>\n",
       "</g>\n",
       "<!-- 7 -->\n",
       "<g id=\"node6\" class=\"node\">\n",
       "<title>7</title>\n",
       "<polygon fill=\"#b2dfee\" stroke=\"#b2dfee\" points=\"101,-108 27,-108 27,-72 101,-72 101,-108\"/>\n",
       "<text text-anchor=\"middle\" x=\"64\" y=\"-86.3\" font-family=\"Times,serif\" font-size=\"14.00\" fill=\"#000000\">Activation</text>\n",
       "</g>\n",
       "<!-- 6&#45;&gt;7 -->\n",
       "<g id=\"edge5\" class=\"edge\">\n",
       "<title>6&#45;&gt;7</title>\n",
       "<path fill=\"none\" stroke=\"#000000\" d=\"M64,-143.8314C64,-136.131 64,-126.9743 64,-118.4166\"/>\n",
       "<polygon fill=\"#000000\" stroke=\"#000000\" points=\"67.5001,-118.4132 64,-108.4133 60.5001,-118.4133 67.5001,-118.4132\"/>\n",
       "</g>\n",
       "<!-- 8 -->\n",
       "<g id=\"node7\" class=\"node\">\n",
       "<title>8</title>\n",
       "<polygon fill=\"#b2dfee\" stroke=\"#b2dfee\" points=\"91,-36 37,-36 37,0 91,0 91,-36\"/>\n",
       "<text text-anchor=\"middle\" x=\"64\" y=\"-14.3\" font-family=\"Times,serif\" font-size=\"14.00\" fill=\"#000000\">Dense</text>\n",
       "</g>\n",
       "<!-- 7&#45;&gt;8 -->\n",
       "<g id=\"edge6\" class=\"edge\">\n",
       "<title>7&#45;&gt;8</title>\n",
       "<path fill=\"none\" stroke=\"#000000\" d=\"M64,-71.8314C64,-64.131 64,-54.9743 64,-46.4166\"/>\n",
       "<polygon fill=\"#000000\" stroke=\"#000000\" points=\"67.5001,-46.4132 64,-36.4133 60.5001,-46.4133 67.5001,-46.4132\"/>\n",
       "</g>\n",
       "</g>\n",
       "</svg>\n"
      ],
      "text/plain": [
       "<graphviz.dot.Digraph at 0x7f3bbf8498d0>"
      ]
     },
     "execution_count": 11,
     "metadata": {},
     "output_type": "execute_result"
    }
   ],
   "source": [
    "mynet.graph"
   ]
  },
  {
   "cell_type": "markdown",
   "metadata": {},
   "source": [
    "**Change the reward trade-off:**"
   ]
  },
  {
   "cell_type": "code",
   "execution_count": 12,
   "metadata": {},
   "outputs": [
    {
     "name": "stdout",
     "output_type": "stream",
     "text": [
      "get_built_in_dataset mnist\n",
      "get_built_in_dataset mnist\n"
     ]
    },
    {
     "data": {
      "application/vnd.jupyter.widget-view+json": {
       "model_id": "56b038380b2f4d30b6b737ff4560ae18",
       "version_major": 2,
       "version_minor": 0
      },
      "text/plain": [
       "VBox(children=(HBox(children=(IntProgress(value=0, max=1), HTML(value=''))), HTML(value='')))"
      ]
     },
     "metadata": {},
     "output_type": "display_data"
    },
    {
     "data": {
      "application/vnd.jupyter.widget-view+json": {
       "model_id": "398f9b9986804982b5c2086e47be07e2",
       "version_major": 2,
       "version_minor": 0
      },
      "text/plain": [
       "VBox(children=(HBox(children=(IntProgress(value=0, max=468), HTML(value=''))), HTML(value='')))"
      ]
     },
     "metadata": {},
     "output_type": "display_data"
    },
    {
     "name": "stdout",
     "output_type": "stream",
     "text": [
      "\n"
     ]
    },
    {
     "data": {
      "application/vnd.jupyter.widget-view+json": {
       "model_id": "c5baa6c89bd243ef86d3c99f6264b19c",
       "version_major": 2,
       "version_minor": 0
      },
      "text/plain": [
       "VBox(children=(HBox(children=(IntProgress(value=0, max=79), HTML(value=''))), HTML(value='')))"
      ]
     },
     "metadata": {},
     "output_type": "display_data"
    },
    {
     "name": "stdout",
     "output_type": "stream",
     "text": [
      "\n",
      "\n"
     ]
    }
   ],
   "source": [
    "reward_fn = lambda metric, net: metric * ((net.avg_latency / net.latency) ** 0.8)\n",
    "mynet.initialize(force_reinit=True)\n",
    "scheduler = ENAS_Scheduler(mynet, train_set='mnist',\n",
    "                           reward_fn=reward_fn, batch_size=128, num_gpus=1,\n",
    "                           warmup_epochs=0, epochs=1, controller_lr=3e-3,\n",
    "                           plot_frequency=10, update_arch_frequency=5)\n",
    "scheduler.run()"
   ]
  },
  {
   "cell_type": "markdown",
   "metadata": {},
   "source": [
    "The resulting architecture is:"
   ]
  },
  {
   "cell_type": "code",
   "execution_count": 13,
   "metadata": {},
   "outputs": [
    {
     "data": {
      "image/svg+xml": [
       "<?xml version=\"1.0\" encoding=\"UTF-8\" standalone=\"no\"?>\n",
       "<!DOCTYPE svg PUBLIC \"-//W3C//DTD SVG 1.1//EN\"\n",
       " \"http://www.w3.org/Graphics/SVG/1.1/DTD/svg11.dtd\">\n",
       "<!-- Generated by graphviz version 2.40.1 (20161225.0304)\n",
       " -->\n",
       "<!-- Title: %3 Pages: 1 -->\n",
       "<svg width=\"136pt\" height=\"476pt\"\n",
       " viewBox=\"0.00 0.00 136.00 476.00\" xmlns=\"http://www.w3.org/2000/svg\" xmlns:xlink=\"http://www.w3.org/1999/xlink\">\n",
       "<g id=\"graph0\" class=\"graph\" transform=\"scale(1 1) rotate(0) translate(4 472)\">\n",
       "<title>%3</title>\n",
       "<polygon fill=\"#ffffff\" stroke=\"transparent\" points=\"-4,4 -4,-472 132,-472 132,4 -4,4\"/>\n",
       "<!-- 0 -->\n",
       "<g id=\"node1\" class=\"node\">\n",
       "<title>0</title>\n",
       "<polygon fill=\"#bebada\" stroke=\"#b2dfee\" points=\"128,-468 0,-468 0,-432 128,-432 128,-468\"/>\n",
       "<text text-anchor=\"middle\" x=\"64\" y=\"-446.3\" font-family=\"Times,serif\" font-size=\"14.00\" fill=\"#000000\">ResUnit(H8.K3.S2.)</text>\n",
       "</g>\n",
       "<!-- 1 -->\n",
       "<g id=\"node2\" class=\"node\">\n",
       "<title>1</title>\n",
       "<polygon fill=\"#bebada\" stroke=\"#b2dfee\" points=\"128,-396 0,-396 0,-360 128,-360 128,-396\"/>\n",
       "<text text-anchor=\"middle\" x=\"64\" y=\"-374.3\" font-family=\"Times,serif\" font-size=\"14.00\" fill=\"#000000\">ResUnit(K3.H8.S2.)</text>\n",
       "</g>\n",
       "<!-- 0&#45;&gt;1 -->\n",
       "<g id=\"edge1\" class=\"edge\">\n",
       "<title>0&#45;&gt;1</title>\n",
       "<path fill=\"none\" stroke=\"#000000\" d=\"M64,-431.8314C64,-424.131 64,-414.9743 64,-406.4166\"/>\n",
       "<polygon fill=\"#000000\" stroke=\"#000000\" points=\"67.5001,-406.4132 64,-396.4133 60.5001,-406.4133 67.5001,-406.4132\"/>\n",
       "</g>\n",
       "<!-- 2 -->\n",
       "<g id=\"node3\" class=\"node\">\n",
       "<title>2</title>\n",
       "<polygon fill=\"#fdb462\" stroke=\"#b2dfee\" points=\"128,-324 0,-324 0,-288 128,-288 128,-324\"/>\n",
       "<text text-anchor=\"middle\" x=\"64\" y=\"-302.3\" font-family=\"Times,serif\" font-size=\"14.00\" fill=\"#000000\">ResUnit(K5.H8.S2.)</text>\n",
       "</g>\n",
       "<!-- 1&#45;&gt;2 -->\n",
       "<g id=\"edge2\" class=\"edge\">\n",
       "<title>1&#45;&gt;2</title>\n",
       "<path fill=\"none\" stroke=\"#000000\" d=\"M64,-359.8314C64,-352.131 64,-342.9743 64,-334.4166\"/>\n",
       "<polygon fill=\"#000000\" stroke=\"#000000\" points=\"67.5001,-334.4132 64,-324.4133 60.5001,-334.4133 67.5001,-334.4132\"/>\n",
       "</g>\n",
       "<!-- 5 -->\n",
       "<g id=\"node4\" class=\"node\">\n",
       "<title>5</title>\n",
       "<polygon fill=\"#b2dfee\" stroke=\"#b2dfee\" points=\"123,-252 5,-252 5,-216 123,-216 123,-252\"/>\n",
       "<text text-anchor=\"middle\" x=\"64\" y=\"-230.3\" font-family=\"Times,serif\" font-size=\"14.00\" fill=\"#000000\">GlobalAvgPool2D</text>\n",
       "</g>\n",
       "<!-- 2&#45;&gt;5 -->\n",
       "<g id=\"edge3\" class=\"edge\">\n",
       "<title>2&#45;&gt;5</title>\n",
       "<path fill=\"none\" stroke=\"#000000\" d=\"M64,-287.8314C64,-280.131 64,-270.9743 64,-262.4166\"/>\n",
       "<polygon fill=\"#000000\" stroke=\"#000000\" points=\"67.5001,-262.4132 64,-252.4133 60.5001,-262.4133 67.5001,-262.4132\"/>\n",
       "</g>\n",
       "<!-- 6 -->\n",
       "<g id=\"node5\" class=\"node\">\n",
       "<title>6</title>\n",
       "<polygon fill=\"#b2dfee\" stroke=\"#b2dfee\" points=\"91,-180 37,-180 37,-144 91,-144 91,-180\"/>\n",
       "<text text-anchor=\"middle\" x=\"64\" y=\"-158.3\" font-family=\"Times,serif\" font-size=\"14.00\" fill=\"#000000\">Flatten</text>\n",
       "</g>\n",
       "<!-- 5&#45;&gt;6 -->\n",
       "<g id=\"edge4\" class=\"edge\">\n",
       "<title>5&#45;&gt;6</title>\n",
       "<path fill=\"none\" stroke=\"#000000\" d=\"M64,-215.8314C64,-208.131 64,-198.9743 64,-190.4166\"/>\n",
       "<polygon fill=\"#000000\" stroke=\"#000000\" points=\"67.5001,-190.4132 64,-180.4133 60.5001,-190.4133 67.5001,-190.4132\"/>\n",
       "</g>\n",
       "<!-- 7 -->\n",
       "<g id=\"node6\" class=\"node\">\n",
       "<title>7</title>\n",
       "<polygon fill=\"#b2dfee\" stroke=\"#b2dfee\" points=\"101,-108 27,-108 27,-72 101,-72 101,-108\"/>\n",
       "<text text-anchor=\"middle\" x=\"64\" y=\"-86.3\" font-family=\"Times,serif\" font-size=\"14.00\" fill=\"#000000\">Activation</text>\n",
       "</g>\n",
       "<!-- 6&#45;&gt;7 -->\n",
       "<g id=\"edge5\" class=\"edge\">\n",
       "<title>6&#45;&gt;7</title>\n",
       "<path fill=\"none\" stroke=\"#000000\" d=\"M64,-143.8314C64,-136.131 64,-126.9743 64,-118.4166\"/>\n",
       "<polygon fill=\"#000000\" stroke=\"#000000\" points=\"67.5001,-118.4132 64,-108.4133 60.5001,-118.4133 67.5001,-118.4132\"/>\n",
       "</g>\n",
       "<!-- 8 -->\n",
       "<g id=\"node7\" class=\"node\">\n",
       "<title>8</title>\n",
       "<polygon fill=\"#b2dfee\" stroke=\"#b2dfee\" points=\"91,-36 37,-36 37,0 91,0 91,-36\"/>\n",
       "<text text-anchor=\"middle\" x=\"64\" y=\"-14.3\" font-family=\"Times,serif\" font-size=\"14.00\" fill=\"#000000\">Dense</text>\n",
       "</g>\n",
       "<!-- 7&#45;&gt;8 -->\n",
       "<g id=\"edge6\" class=\"edge\">\n",
       "<title>7&#45;&gt;8</title>\n",
       "<path fill=\"none\" stroke=\"#000000\" d=\"M64,-71.8314C64,-64.131 64,-54.9743 64,-46.4166\"/>\n",
       "<polygon fill=\"#000000\" stroke=\"#000000\" points=\"67.5001,-46.4132 64,-36.4133 60.5001,-46.4133 67.5001,-46.4132\"/>\n",
       "</g>\n",
       "</g>\n",
       "</svg>\n"
      ],
      "text/plain": [
       "<graphviz.dot.Digraph at 0x7f3bbf7c6450>"
      ]
     },
     "execution_count": 13,
     "metadata": {},
     "output_type": "execute_result"
    }
   ],
   "source": [
    "mynet.graph"
   ]
  },
  {
   "cell_type": "markdown",
   "metadata": {},
   "source": [
    "## Defining a Complicated Network\n",
    "\n",
    "Can we define a more complicated network than just sequential?\n",
    "\n",
    "\n",
    "Finish and exit:"
   ]
  },
  {
   "cell_type": "code",
   "execution_count": 14,
   "metadata": {},
   "outputs": [],
   "source": [
    "ag.done()"
   ]
  }
 ],
 "metadata": {
  "kernelspec": {
   "display_name": "conda_autogluon",
   "language": "python",
   "name": "conda_autogluon"
  },
  "language_info": {
   "codemirror_mode": {
    "name": "ipython",
    "version": 3
   },
   "file_extension": ".py",
   "mimetype": "text/x-python",
   "name": "python",
   "nbconvert_exporter": "python",
   "pygments_lexer": "ipython3",
   "version": "3.7.5"
  },
  "widgets": {
   "application/vnd.jupyter.widget-state+json": {
    "state": {
     "00815d78f5cd482e8c79707920de9523": {
      "model_module": "@jupyter-widgets/controls",
      "model_module_version": "1.5.0",
      "model_name": "HTMLModel",
      "state": {
       "layout": "IPY_MODEL_7f7e610f4802423fa4dd90dd2dded000",
       "style": "IPY_MODEL_4d87f4564b95407e932cf3e9fb727d44",
       "value": "<br><?xml version=\"1.0\" encoding=\"UTF-8\" standalone=\"no\"?>\n<!DOCTYPE svg PUBLIC \"-//W3C//DTD SVG 1.1//EN\"\n \"http://www.w3.org/Graphics/SVG/1.1/DTD/svg11.dtd\">\n<!-- Generated by graphviz version 2.40.1 (20161225.0304)\n -->\n<!-- Title: %3 Pages: 1 -->\n<svg width=\"576pt\" height=\"28pt\"\n viewBox=\"0.00 0.00 576.00 27.91\" xmlns=\"http://www.w3.org/2000/svg\" xmlns:xlink=\"http://www.w3.org/1999/xlink\">\n<g id=\"graph0\" class=\"graph\" transform=\"scale(.6344 .6344) rotate(0) translate(4 40)\">\n<title>%3</title>\n<polygon fill=\"#ffffff\" stroke=\"transparent\" points=\"-4,4 -4,-40 904,-40 904,4 -4,4\"/>\n<!-- 0 -->\n<g id=\"node1\" class=\"node\">\n<title>0</title>\n<polygon fill=\"#fdb462\" stroke=\"#b2dfee\" points=\"128,-36 0,-36 0,0 128,0 128,-36\"/>\n<text text-anchor=\"middle\" x=\"64\" y=\"-14.3\" font-family=\"Times,serif\" font-size=\"14.00\" fill=\"#000000\">ResUnit(H8.K5.S2.)</text>\n</g>\n<!-- 1 -->\n<g id=\"node2\" class=\"node\">\n<title>1</title>\n<polygon fill=\"#bebada\" stroke=\"#b2dfee\" points=\"292,-36 164,-36 164,0 292,0 292,-36\"/>\n<text text-anchor=\"middle\" x=\"228\" y=\"-14.3\" font-family=\"Times,serif\" font-size=\"14.00\" fill=\"#000000\">ResUnit(K3.H8.S2.)</text>\n</g>\n<!-- 0&#45;&gt;1 -->\n<g id=\"edge1\" class=\"edge\">\n<title>0&#45;&gt;1</title>\n<path fill=\"none\" stroke=\"#000000\" d=\"M128.3464,-18C136.6401,-18 145.1868,-18 153.6248,-18\"/>\n<polygon fill=\"#000000\" stroke=\"#000000\" points=\"153.8392,-21.5001 163.8391,-18 153.8391,-14.5001 153.8392,-21.5001\"/>\n</g>\n<!-- 2 -->\n<g id=\"node3\" class=\"node\">\n<title>2</title>\n<polygon fill=\"#bebada\" stroke=\"#b2dfee\" points=\"456,-36 328,-36 328,0 456,0 456,-36\"/>\n<text text-anchor=\"middle\" x=\"392\" y=\"-14.3\" font-family=\"Times,serif\" font-size=\"14.00\" fill=\"#000000\">ResUnit(K3.H8.S2.)</text>\n</g>\n<!-- 1&#45;&gt;2 -->\n<g id=\"edge2\" class=\"edge\">\n<title>1&#45;&gt;2</title>\n<path fill=\"none\" stroke=\"#000000\" d=\"M292.3464,-18C300.6401,-18 309.1868,-18 317.6248,-18\"/>\n<polygon fill=\"#000000\" stroke=\"#000000\" points=\"317.8392,-21.5001 327.8391,-18 317.8391,-14.5001 317.8392,-21.5001\"/>\n</g>\n<!-- 5 -->\n<g id=\"node4\" class=\"node\">\n<title>5</title>\n<polygon fill=\"#b2dfee\" stroke=\"#b2dfee\" points=\"610,-36 492,-36 492,0 610,0 610,-36\"/>\n<text text-anchor=\"middle\" x=\"551\" y=\"-14.3\" font-family=\"Times,serif\" font-size=\"14.00\" fill=\"#000000\">GlobalAvgPool2D</text>\n</g>\n<!-- 2&#45;&gt;5 -->\n<g id=\"edge3\" class=\"edge\">\n<title>2&#45;&gt;5</title>\n<path fill=\"none\" stroke=\"#000000\" d=\"M456.2131,-18C464.6077,-18 473.2386,-18 481.7121,-18\"/>\n<polygon fill=\"#000000\" stroke=\"#000000\" points=\"481.9435,-21.5001 491.9434,-18 481.9434,-14.5001 481.9435,-21.5001\"/>\n</g>\n<!-- 6 -->\n<g id=\"node5\" class=\"node\">\n<title>6</title>\n<polygon fill=\"#b2dfee\" stroke=\"#b2dfee\" points=\"700,-36 646,-36 646,0 700,0 700,-36\"/>\n<text text-anchor=\"middle\" x=\"673\" y=\"-14.3\" font-family=\"Times,serif\" font-size=\"14.00\" fill=\"#000000\">Flatten</text>\n</g>\n<!-- 5&#45;&gt;6 -->\n<g id=\"edge4\" class=\"edge\">\n<title>5&#45;&gt;6</title>\n<path fill=\"none\" stroke=\"#000000\" d=\"M610.2131,-18C618.909,-18 627.6533,-18 635.7384,-18\"/>\n<polygon fill=\"#000000\" stroke=\"#000000\" points=\"635.9278,-21.5001 645.9278,-18 635.9278,-14.5001 635.9278,-21.5001\"/>\n</g>\n<!-- 7 -->\n<g id=\"node6\" class=\"node\">\n<title>7</title>\n<polygon fill=\"#b2dfee\" stroke=\"#b2dfee\" points=\"810,-36 736,-36 736,0 810,0 810,-36\"/>\n<text text-anchor=\"middle\" x=\"773\" y=\"-14.3\" font-family=\"Times,serif\" font-size=\"14.00\" fill=\"#000000\">Activation</text>\n</g>\n<!-- 6&#45;&gt;7 -->\n<g id=\"edge5\" class=\"edge\">\n<title>6&#45;&gt;7</title>\n<path fill=\"none\" stroke=\"#000000\" d=\"M700.0614,-18C707.9606,-18 716.8349,-18 725.6022,-18\"/>\n<polygon fill=\"#000000\" stroke=\"#000000\" points=\"725.7804,-21.5001 735.7803,-18 725.7803,-14.5001 725.7804,-21.5001\"/>\n</g>\n<!-- 8 -->\n<g id=\"node7\" class=\"node\">\n<title>8</title>\n<polygon fill=\"#b2dfee\" stroke=\"#b2dfee\" points=\"900,-36 846,-36 846,0 900,0 900,-36\"/>\n<text text-anchor=\"middle\" x=\"873\" y=\"-14.3\" font-family=\"Times,serif\" font-size=\"14.00\" fill=\"#000000\">Dense</text>\n</g>\n<!-- 7&#45;&gt;8 -->\n<g id=\"edge6\" class=\"edge\">\n<title>7&#45;&gt;8</title>\n<path fill=\"none\" stroke=\"#000000\" d=\"M810.2363,-18C818.5138,-18 827.2914,-18 835.5763,-18\"/>\n<polygon fill=\"#000000\" stroke=\"#000000\" points=\"835.7324,-21.5001 845.7324,-18 835.7323,-14.5001 835.7324,-21.5001\"/>\n</g>\n</g>\n</svg>\n<br>"
      }
     },
     "02e3e750c8e44bedbddec7d9650a3437": {
      "model_module": "@jupyter-widgets/controls",
      "model_module_version": "1.5.0",
      "model_name": "HTMLModel",
      "state": {
       "layout": "IPY_MODEL_c4fdae6e62004ff1ba27f72ebc7cefce",
       "style": "IPY_MODEL_10f54fddf9834546b6dee9f255fda6a6",
       "value": " 79/79 [00:01&lt;00:00, 55.32it/s]"
      }
     },
     "0341fae8cda042eb95d8dfee4435ea73": {
      "model_module": "@jupyter-widgets/base",
      "model_module_version": "1.2.0",
      "model_name": "LayoutModel",
      "state": {}
     },
     "0343d53b99744845b79f87c9252b9a9f": {
      "model_module": "@jupyter-widgets/base",
      "model_module_version": "1.2.0",
      "model_name": "LayoutModel",
      "state": {}
     },
     "035c898e8f3d470aa4602322722645f8": {
      "model_module": "@jupyter-widgets/base",
      "model_module_version": "1.2.0",
      "model_name": "LayoutModel",
      "state": {}
     },
     "050778745be24da1b2b0ca2a176210bd": {
      "model_module": "@jupyter-widgets/base",
      "model_module_version": "1.2.0",
      "model_name": "LayoutModel",
      "state": {}
     },
     "077858d11d164ecebcf8ca3c5fd13fa3": {
      "model_module": "@jupyter-widgets/controls",
      "model_module_version": "1.5.0",
      "model_name": "HTMLModel",
      "state": {
       "layout": "IPY_MODEL_9aff2010d5544622bd459c5b6a270cb6",
       "style": "IPY_MODEL_86d99c24b6a04d85b714964bdcbcbced",
       "value": " 79/79 [00:01&lt;00:00, 45.60it/s]"
      }
     },
     "0855b216aa1442f0a0eb305151972a80": {
      "model_module": "@jupyter-widgets/controls",
      "model_module_version": "1.5.0",
      "model_name": "ProgressStyleModel",
      "state": {
       "description_width": "initial"
      }
     },
     "0987b70042984da4959d6ebf14e0e985": {
      "model_module": "@jupyter-widgets/controls",
      "model_module_version": "1.5.0",
      "model_name": "DescriptionStyleModel",
      "state": {
       "description_width": ""
      }
     },
     "0b39466d2a684684b2721deb8c02bc99": {
      "model_module": "@jupyter-widgets/base",
      "model_module_version": "1.2.0",
      "model_name": "LayoutModel",
      "state": {}
     },
     "0b3de3e296df4a78a7baedc3dacef944": {
      "model_module": "@jupyter-widgets/controls",
      "model_module_version": "1.5.0",
      "model_name": "HBoxModel",
      "state": {
       "children": [
        "IPY_MODEL_5e2917f1684544cbb027b00b7e801776",
        "IPY_MODEL_2ce2e975ee9848c694684655c3bd3501"
       ],
       "layout": "IPY_MODEL_ffda61ee5a8242fea21ca64b203b6afe"
      }
     },
     "0c4bd3c72b1f42f19fce0260222a0f2e": {
      "model_module": "@jupyter-widgets/base",
      "model_module_version": "1.2.0",
      "model_name": "LayoutModel",
      "state": {}
     },
     "0f272beca9c849e18fdb8ffd949d319c": {
      "model_module": "@jupyter-widgets/base",
      "model_module_version": "1.2.0",
      "model_name": "LayoutModel",
      "state": {}
     },
     "10f54fddf9834546b6dee9f255fda6a6": {
      "model_module": "@jupyter-widgets/controls",
      "model_module_version": "1.5.0",
      "model_name": "DescriptionStyleModel",
      "state": {
       "description_width": ""
      }
     },
     "11876076735749799b954f954e322a87": {
      "model_module": "@jupyter-widgets/controls",
      "model_module_version": "1.5.0",
      "model_name": "HBoxModel",
      "state": {
       "children": [
        "IPY_MODEL_72177b43c8434087b249a7694ee35a2b",
        "IPY_MODEL_5a2022c4b7f54f349e9648c7ca33101d"
       ],
       "layout": "IPY_MODEL_f27459df81d44f0d880975d841933162"
      }
     },
     "11c2c05facc9490b9556aa45b0b793dd": {
      "model_module": "@jupyter-widgets/controls",
      "model_module_version": "1.5.0",
      "model_name": "DescriptionStyleModel",
      "state": {
       "description_width": ""
      }
     },
     "11cbbaa7976f46659b54b172f59796b4": {
      "model_module": "@jupyter-widgets/controls",
      "model_module_version": "1.5.0",
      "model_name": "DescriptionStyleModel",
      "state": {
       "description_width": ""
      }
     },
     "121ed9bac1d84622a34efbacfd9fba33": {
      "model_module": "@jupyter-widgets/controls",
      "model_module_version": "1.5.0",
      "model_name": "ProgressStyleModel",
      "state": {
       "description_width": "initial"
      }
     },
     "13332e601dac4ac98c3227606df60068": {
      "model_module": "@jupyter-widgets/controls",
      "model_module_version": "1.5.0",
      "model_name": "DescriptionStyleModel",
      "state": {
       "description_width": ""
      }
     },
     "133dd54c69e74ff1872b8aeea9650a9d": {
      "model_module": "@jupyter-widgets/controls",
      "model_module_version": "1.5.0",
      "model_name": "HTMLModel",
      "state": {
       "layout": "IPY_MODEL_6f3b86efcc33440ca0f638cf11cd80ff",
       "style": "IPY_MODEL_ff92c549ec454166a069f78415ce2dfa"
      }
     },
     "13a8bbf63ae94fbcbae6f2457dd83ed5": {
      "model_module": "@jupyter-widgets/base",
      "model_module_version": "1.2.0",
      "model_name": "LayoutModel",
      "state": {}
     },
     "152eb3f972694066b6f5fc32e0b97f34": {
      "model_module": "@jupyter-widgets/controls",
      "model_module_version": "1.5.0",
      "model_name": "VBoxModel",
      "state": {
       "children": [
        "IPY_MODEL_11876076735749799b954f954e322a87",
        "IPY_MODEL_77f6ea01e83f4b3aa96f85663b14c9e8"
       ],
       "layout": "IPY_MODEL_24561b73c8564772adbd176ffbb17a06"
      }
     },
     "15bb42b0657049d19f6182a8d9b115bb": {
      "model_module": "@jupyter-widgets/controls",
      "model_module_version": "1.5.0",
      "model_name": "IntProgressModel",
      "state": {
       "bar_style": "success",
       "description": "Val Acc: 0.9669: 100%",
       "layout": "IPY_MODEL_180135e4137242d0aae64073ff7e5460",
       "max": 79,
       "style": "IPY_MODEL_44cb0b3bed414de2a621d782e4ed3bb0",
       "value": 79
      }
     },
     "17c685855ed04bc080fcea5f554beab5": {
      "model_module": "@jupyter-widgets/controls",
      "model_module_version": "1.5.0",
      "model_name": "DescriptionStyleModel",
      "state": {
       "description_width": ""
      }
     },
     "180135e4137242d0aae64073ff7e5460": {
      "model_module": "@jupyter-widgets/base",
      "model_module_version": "1.2.0",
      "model_name": "LayoutModel",
      "state": {}
     },
     "1815912cfac54744aaa87c39f849e63a": {
      "model_module": "@jupyter-widgets/controls",
      "model_module_version": "1.5.0",
      "model_name": "IntProgressModel",
      "state": {
       "bar_style": "success",
       "description": "epoch 0, val_acc: 0.97, avg reward: 1.26: 100%",
       "layout": "IPY_MODEL_ecafec3131ae46a39109de7739d9423c",
       "max": 1,
       "style": "IPY_MODEL_43cd6d14b0b74ff8be41bec68abd23b4",
       "value": 1
      }
     },
     "18d1a8939b424e06b3bdfa13a1d80e80": {
      "model_module": "@jupyter-widgets/controls",
      "model_module_version": "1.5.0",
      "model_name": "HBoxModel",
      "state": {
       "children": [
        "IPY_MODEL_40d3ae88da16462f8866f09adfb69772",
        "IPY_MODEL_9a86daf1827a4442ad85e2d802211589"
       ],
       "layout": "IPY_MODEL_050778745be24da1b2b0ca2a176210bd"
      }
     },
     "1973cfe6cebc4a869e2697f1991efa6c": {
      "model_module": "@jupyter-widgets/controls",
      "model_module_version": "1.5.0",
      "model_name": "HTMLModel",
      "state": {
       "layout": "IPY_MODEL_0343d53b99744845b79f87c9252b9a9f",
       "style": "IPY_MODEL_315b0c0449a2484688bc04bfa5d9967e"
      }
     },
     "1a0744e26abb4c6fb28c1f64359de801": {
      "model_module": "@jupyter-widgets/controls",
      "model_module_version": "1.5.0",
      "model_name": "IntProgressModel",
      "state": {
       "bar_style": "success",
       "description": "avg reward: 1.28: 100%",
       "layout": "IPY_MODEL_d25f877c9b2648a49addf02fd9c47f84",
       "max": 468,
       "style": "IPY_MODEL_d0e9f1dbd4334d2fa3318004f2e8777d",
       "value": 468
      }
     },
     "1a942341e762489b8723808a0316fc78": {
      "model_module": "@jupyter-widgets/base",
      "model_module_version": "1.2.0",
      "model_name": "LayoutModel",
      "state": {}
     },
     "1a9a00f973f04530b5c3aa58c9146d45": {
      "model_module": "@jupyter-widgets/base",
      "model_module_version": "1.2.0",
      "model_name": "LayoutModel",
      "state": {}
     },
     "1c4703cebcad4130ad812dd6ac989a43": {
      "model_module": "@jupyter-widgets/base",
      "model_module_version": "1.2.0",
      "model_name": "LayoutModel",
      "state": {}
     },
     "1ce4fba341d6427288c809c364e3fd68": {
      "model_module": "@jupyter-widgets/controls",
      "model_module_version": "1.5.0",
      "model_name": "HTMLModel",
      "state": {
       "layout": "IPY_MODEL_8cca3a37555c4aaeb2009d2756825d2a",
       "style": "IPY_MODEL_9f1a8668206e48a3aa984aeba28214f3"
      }
     },
     "1cfa5b3d21334b74ac339f657a0d0b93": {
      "model_module": "@jupyter-widgets/base",
      "model_module_version": "1.2.0",
      "model_name": "LayoutModel",
      "state": {}
     },
     "1ddb04a459b04417b17ba415b60be506": {
      "model_module": "@jupyter-widgets/controls",
      "model_module_version": "1.5.0",
      "model_name": "ProgressStyleModel",
      "state": {
       "description_width": "initial"
      }
     },
     "1e8905ce1ac6410f87dd2323e57a34aa": {
      "model_module": "@jupyter-widgets/controls",
      "model_module_version": "1.5.0",
      "model_name": "DescriptionStyleModel",
      "state": {
       "description_width": ""
      }
     },
     "1f5b5c76f6884b5eb2d28a195cea2fe3": {
      "model_module": "@jupyter-widgets/controls",
      "model_module_version": "1.5.0",
      "model_name": "HBoxModel",
      "state": {
       "children": [
        "IPY_MODEL_97b1cb5239cb455a9e592b70b5ebdaba",
        "IPY_MODEL_4d0319c7341d4aee842ae7165c9c48aa"
       ],
       "layout": "IPY_MODEL_25382b03015b4d13bf6bdc0a40ac5732"
      }
     },
     "20a1248b95ab40faa4b8bf2e930a7197": {
      "model_module": "@jupyter-widgets/controls",
      "model_module_version": "1.5.0",
      "model_name": "VBoxModel",
      "state": {
       "children": [
        "IPY_MODEL_3624fb4cbc9f48fa8923d33339a05be1",
        "IPY_MODEL_1973cfe6cebc4a869e2697f1991efa6c"
       ],
       "layout": "IPY_MODEL_499a0f4e408042bbbb35e0789c8115d6"
      }
     },
     "20ab4a6fca7e4c07b5f754246054e10c": {
      "model_module": "@jupyter-widgets/controls",
      "model_module_version": "1.5.0",
      "model_name": "HTMLModel",
      "state": {
       "layout": "IPY_MODEL_497afcfe08fd49f691da3a2945ef311a",
       "style": "IPY_MODEL_9687eec6379b44f6ae9690d36c7d811b",
       "value": " 468/468 [00:32&lt;00:00, 14.28it/s]"
      }
     },
     "20d24ed3e0d941188241aeb059c54411": {
      "model_module": "@jupyter-widgets/controls",
      "model_module_version": "1.5.0",
      "model_name": "DescriptionStyleModel",
      "state": {
       "description_width": ""
      }
     },
     "2232dfaa94a346f5ac4b7620c1f1298a": {
      "model_module": "@jupyter-widgets/controls",
      "model_module_version": "1.5.0",
      "model_name": "HBoxModel",
      "state": {
       "children": [
        "IPY_MODEL_9051a400753140e3b1f96972f046b11a",
        "IPY_MODEL_7051b6accad4475a95adcc3b9d879abb"
       ],
       "layout": "IPY_MODEL_0b39466d2a684684b2721deb8c02bc99"
      }
     },
     "22830a44ff4b4ef8840a1c3143c2193a": {
      "model_module": "@jupyter-widgets/controls",
      "model_module_version": "1.5.0",
      "model_name": "ProgressStyleModel",
      "state": {
       "description_width": "initial"
      }
     },
     "232dd20299884bd88488bf7bb6b3911e": {
      "model_module": "@jupyter-widgets/base",
      "model_module_version": "1.2.0",
      "model_name": "LayoutModel",
      "state": {}
     },
     "23c7484d4cd84bd4b03ebc254d54c6e8": {
      "model_module": "@jupyter-widgets/base",
      "model_module_version": "1.2.0",
      "model_name": "LayoutModel",
      "state": {}
     },
     "24561b73c8564772adbd176ffbb17a06": {
      "model_module": "@jupyter-widgets/base",
      "model_module_version": "1.2.0",
      "model_name": "LayoutModel",
      "state": {}
     },
     "25382b03015b4d13bf6bdc0a40ac5732": {
      "model_module": "@jupyter-widgets/base",
      "model_module_version": "1.2.0",
      "model_name": "LayoutModel",
      "state": {}
     },
     "25e21dec85564a8d96faeb127282edf7": {
      "model_module": "@jupyter-widgets/base",
      "model_module_version": "1.2.0",
      "model_name": "LayoutModel",
      "state": {}
     },
     "2625210b11854c20a4015a817f5383ba": {
      "model_module": "@jupyter-widgets/controls",
      "model_module_version": "1.5.0",
      "model_name": "DescriptionStyleModel",
      "state": {
       "description_width": ""
      }
     },
     "279a6f943e44440fbf0a9871c75b053f": {
      "model_module": "@jupyter-widgets/controls",
      "model_module_version": "1.5.0",
      "model_name": "VBoxModel",
      "state": {
       "children": [
        "IPY_MODEL_78ec4a7d8f614734a0a2a03a0913af67",
        "IPY_MODEL_1ce4fba341d6427288c809c364e3fd68"
       ],
       "layout": "IPY_MODEL_4c6f3c2c885d48c8b19a27bca4750498"
      }
     },
     "29f2eb4fc5a64ea5aca70637d078ae1b": {
      "model_module": "@jupyter-widgets/controls",
      "model_module_version": "1.5.0",
      "model_name": "HTMLModel",
      "state": {
       "layout": "IPY_MODEL_0341fae8cda042eb95d8dfee4435ea73",
       "style": "IPY_MODEL_4d9afafc0d4f4d97bf262c8c4513fdd7"
      }
     },
     "2bb3fec0a8624f5ba8b89db821066ef8": {
      "model_module": "@jupyter-widgets/base",
      "model_module_version": "1.2.0",
      "model_name": "LayoutModel",
      "state": {}
     },
     "2cd08dc90a5f4ab1af8403c729e33318": {
      "model_module": "@jupyter-widgets/controls",
      "model_module_version": "1.5.0",
      "model_name": "VBoxModel",
      "state": {
       "children": [
        "IPY_MODEL_2232dfaa94a346f5ac4b7620c1f1298a",
        "IPY_MODEL_521f5447089742bd82dc15797f244a32"
       ],
       "layout": "IPY_MODEL_1cfa5b3d21334b74ac339f657a0d0b93"
      }
     },
     "2ce2e975ee9848c694684655c3bd3501": {
      "model_module": "@jupyter-widgets/controls",
      "model_module_version": "1.5.0",
      "model_name": "HTMLModel",
      "state": {
       "layout": "IPY_MODEL_9bcbb7f5dfc8420d87c8f3a97cf28e3a",
       "style": "IPY_MODEL_ef8a21202dc24062a371791159df9999",
       "value": " 468/468 [01:35&lt;00:00,  4.88it/s]"
      }
     },
     "2d0cfae54fca4024b43dee4f74c59b81": {
      "model_module": "@jupyter-widgets/controls",
      "model_module_version": "1.5.0",
      "model_name": "DescriptionStyleModel",
      "state": {
       "description_width": ""
      }
     },
     "2e7d8f74414645fda3319a3e88b9d543": {
      "model_module": "@jupyter-widgets/controls",
      "model_module_version": "1.5.0",
      "model_name": "DescriptionStyleModel",
      "state": {
       "description_width": ""
      }
     },
     "302f74f9aea34632b36ab9d1a385322c": {
      "model_module": "@jupyter-widgets/controls",
      "model_module_version": "1.5.0",
      "model_name": "DescriptionStyleModel",
      "state": {
       "description_width": ""
      }
     },
     "30e2587dd7764667ae4f111e34f3ac28": {
      "model_module": "@jupyter-widgets/controls",
      "model_module_version": "1.5.0",
      "model_name": "HBoxModel",
      "state": {
       "children": [
        "IPY_MODEL_c90a1620a1bb49a99321908049d3e822",
        "IPY_MODEL_ddb39c5b11944dada4f431eee98462ea"
       ],
       "layout": "IPY_MODEL_ae44b76786eb45228dd1536f350c8a91"
      }
     },
     "315b0c0449a2484688bc04bfa5d9967e": {
      "model_module": "@jupyter-widgets/controls",
      "model_module_version": "1.5.0",
      "model_name": "DescriptionStyleModel",
      "state": {
       "description_width": ""
      }
     },
     "319d57e422974d4593141816dd1b4ca4": {
      "model_module": "@jupyter-widgets/controls",
      "model_module_version": "1.5.0",
      "model_name": "ProgressStyleModel",
      "state": {
       "description_width": "initial"
      }
     },
     "32ba5cc3fc854bf78dc59f8874255f1a": {
      "model_module": "@jupyter-widgets/base",
      "model_module_version": "1.2.0",
      "model_name": "LayoutModel",
      "state": {}
     },
     "331500d6c61d4fdd9c8f70c0c5ea7cf4": {
      "model_module": "@jupyter-widgets/base",
      "model_module_version": "1.2.0",
      "model_name": "LayoutModel",
      "state": {}
     },
     "335a77df5faf4f51a46a593f38f641e4": {
      "model_module": "@jupyter-widgets/controls",
      "model_module_version": "1.5.0",
      "model_name": "HBoxModel",
      "state": {
       "children": [
        "IPY_MODEL_44534ca9fc9c445e8a4f9367da6accf2",
        "IPY_MODEL_7f86bd51b4b146269e61eba0f9e186e3"
       ],
       "layout": "IPY_MODEL_966c850b7e334057aed156feccab70f5"
      }
     },
     "339669d3a3ee4a28957ac61f8e1894c9": {
      "model_module": "@jupyter-widgets/controls",
      "model_module_version": "1.5.0",
      "model_name": "DescriptionStyleModel",
      "state": {
       "description_width": ""
      }
     },
     "344ae6d19f074635890fcb75078885e1": {
      "model_module": "@jupyter-widgets/base",
      "model_module_version": "1.2.0",
      "model_name": "LayoutModel",
      "state": {}
     },
     "3624fb4cbc9f48fa8923d33339a05be1": {
      "model_module": "@jupyter-widgets/controls",
      "model_module_version": "1.5.0",
      "model_name": "HBoxModel",
      "state": {
       "children": [
        "IPY_MODEL_15bb42b0657049d19f6182a8d9b115bb",
        "IPY_MODEL_077858d11d164ecebcf8ca3c5fd13fa3"
       ],
       "layout": "IPY_MODEL_2bb3fec0a8624f5ba8b89db821066ef8"
      }
     },
     "37f0d6adb7a6433abc4e03de7ee53e9a": {
      "model_module": "@jupyter-widgets/base",
      "model_module_version": "1.2.0",
      "model_name": "LayoutModel",
      "state": {}
     },
     "3800a744e2414d2ea6d1b86281a4a29e": {
      "model_module": "@jupyter-widgets/base",
      "model_module_version": "1.2.0",
      "model_name": "LayoutModel",
      "state": {}
     },
     "398f9b9986804982b5c2086e47be07e2": {
      "model_module": "@jupyter-widgets/controls",
      "model_module_version": "1.5.0",
      "model_name": "VBoxModel",
      "state": {
       "children": [
        "IPY_MODEL_abeb41f4a1024f0a931ff32b587639ba",
        "IPY_MODEL_fdfb6f10d74b45f99bd7b14776d57776"
       ],
       "layout": "IPY_MODEL_f36545094d6b411c95adccafd0c5dcf7"
      }
     },
     "39b7db37d8444342b7bbdc8c44405fa7": {
      "model_module": "@jupyter-widgets/base",
      "model_module_version": "1.2.0",
      "model_name": "LayoutModel",
      "state": {}
     },
     "3aaf511913b343b1aa01afeb3f9c90cd": {
      "model_module": "@jupyter-widgets/base",
      "model_module_version": "1.2.0",
      "model_name": "LayoutModel",
      "state": {}
     },
     "3b0a05eb51b24494a7a73fb5fbab5bec": {
      "model_module": "@jupyter-widgets/controls",
      "model_module_version": "1.5.0",
      "model_name": "IntProgressModel",
      "state": {
       "bar_style": "success",
       "description": "Val Acc: 0.9666: 100%",
       "layout": "IPY_MODEL_344ae6d19f074635890fcb75078885e1",
       "max": 79,
       "style": "IPY_MODEL_cab985a396c3438ca58e450ac876f5ba",
       "value": 79
      }
     },
     "3bcafb235ed746efa9f45359f0632720": {
      "model_module": "@jupyter-widgets/controls",
      "model_module_version": "1.5.0",
      "model_name": "ProgressStyleModel",
      "state": {
       "description_width": "initial"
      }
     },
     "3c3e3e6887784638b153ff90ec589a4d": {
      "model_module": "@jupyter-widgets/base",
      "model_module_version": "1.2.0",
      "model_name": "LayoutModel",
      "state": {}
     },
     "3cc52d7021684cce94e1c5144fd9ecd1": {
      "model_module": "@jupyter-widgets/base",
      "model_module_version": "1.2.0",
      "model_name": "LayoutModel",
      "state": {}
     },
     "3e86d85b743442a9a1e62e9e375278f8": {
      "model_module": "@jupyter-widgets/base",
      "model_module_version": "1.2.0",
      "model_name": "LayoutModel",
      "state": {}
     },
     "3f463b4b070a4a0ca313b52e1992fb37": {
      "model_module": "@jupyter-widgets/base",
      "model_module_version": "1.2.0",
      "model_name": "LayoutModel",
      "state": {}
     },
     "40ac5c905d2b498b8800b2646a74aa0c": {
      "model_module": "@jupyter-widgets/base",
      "model_module_version": "1.2.0",
      "model_name": "LayoutModel",
      "state": {}
     },
     "40d3ae88da16462f8866f09adfb69772": {
      "model_module": "@jupyter-widgets/controls",
      "model_module_version": "1.5.0",
      "model_name": "IntProgressModel",
      "state": {
       "bar_style": "success",
       "description": "Val Acc: 0.9673: 100%",
       "layout": "IPY_MODEL_5385d293adf1457792c325a098763ef3",
       "max": 79,
       "style": "IPY_MODEL_f7e2ee5be1b34e4887400a1d4f097d55",
       "value": 79
      }
     },
     "4174bf49d4a047bd8162c668ac63099b": {
      "model_module": "@jupyter-widgets/base",
      "model_module_version": "1.2.0",
      "model_name": "LayoutModel",
      "state": {}
     },
     "426f0f969e1d4c459970e339d72f9db4": {
      "model_module": "@jupyter-widgets/controls",
      "model_module_version": "1.5.0",
      "model_name": "VBoxModel",
      "state": {
       "children": [
        "IPY_MODEL_8485bfaa1c4940c1a3d6f00a6f137ee5",
        "IPY_MODEL_29f2eb4fc5a64ea5aca70637d078ae1b"
       ],
       "layout": "IPY_MODEL_899c8ee21552465388b08e09d4a59290"
      }
     },
     "4288fa59f43a4647a332bcf0f04c0acf": {
      "model_module": "@jupyter-widgets/controls",
      "model_module_version": "1.5.0",
      "model_name": "ProgressStyleModel",
      "state": {
       "description_width": "initial"
      }
     },
     "42a3a4ab47fd405f90f41af74834b068": {
      "model_module": "@jupyter-widgets/controls",
      "model_module_version": "1.5.0",
      "model_name": "IntProgressModel",
      "state": {
       "bar_style": "success",
       "description": "avg reward: 0.98: 100%",
       "layout": "IPY_MODEL_23c7484d4cd84bd4b03ebc254d54c6e8",
       "max": 468,
       "style": "IPY_MODEL_dd3b41d4d5d8477b833c0ab482f46ec8",
       "value": 468
      }
     },
     "42ab2b5dac6c408498f23fc01ef535d3": {
      "model_module": "@jupyter-widgets/base",
      "model_module_version": "1.2.0",
      "model_name": "LayoutModel",
      "state": {}
     },
     "439076d70f6c4632b99714e29c361883": {
      "model_module": "@jupyter-widgets/controls",
      "model_module_version": "1.5.0",
      "model_name": "VBoxModel",
      "state": {
       "children": [
        "IPY_MODEL_d0a587d8c2484df7bc4808d211bdcc33",
        "IPY_MODEL_da7514d7faa3464eb3881fd16e6a41ec"
       ],
       "layout": "IPY_MODEL_0f272beca9c849e18fdb8ffd949d319c"
      }
     },
     "43cd6d14b0b74ff8be41bec68abd23b4": {
      "model_module": "@jupyter-widgets/controls",
      "model_module_version": "1.5.0",
      "model_name": "ProgressStyleModel",
      "state": {
       "description_width": "initial"
      }
     },
     "44534ca9fc9c445e8a4f9367da6accf2": {
      "model_module": "@jupyter-widgets/controls",
      "model_module_version": "1.5.0",
      "model_name": "IntProgressModel",
      "state": {
       "bar_style": "success",
       "description": "epoch 0, val_acc: 0.97, avg reward: 0.98: 100%",
       "layout": "IPY_MODEL_b7dda933595b4d019615797f8d8c48a5",
       "max": 1,
       "style": "IPY_MODEL_71948429b17d4a4ebedcd79f52bab037",
       "value": 1
      }
     },
     "44c80b7ef86940dab3f807f352201db3": {
      "model_module": "@jupyter-widgets/base",
      "model_module_version": "1.2.0",
      "model_name": "LayoutModel",
      "state": {}
     },
     "44cb0b3bed414de2a621d782e4ed3bb0": {
      "model_module": "@jupyter-widgets/controls",
      "model_module_version": "1.5.0",
      "model_name": "ProgressStyleModel",
      "state": {
       "description_width": "initial"
      }
     },
     "4523a8554b574fa59a2aefe781b822d9": {
      "model_module": "@jupyter-widgets/base",
      "model_module_version": "1.2.0",
      "model_name": "LayoutModel",
      "state": {}
     },
     "4836e335974e469a879c4791d681771a": {
      "model_module": "@jupyter-widgets/base",
      "model_module_version": "1.2.0",
      "model_name": "LayoutModel",
      "state": {}
     },
     "4858e71bc52448b49da1303ebb256977": {
      "model_module": "@jupyter-widgets/controls",
      "model_module_version": "1.5.0",
      "model_name": "HTMLModel",
      "state": {
       "layout": "IPY_MODEL_aab2955abb46466482a98f31010e9753",
       "style": "IPY_MODEL_b738037be10842c2a70c3c054eb6bbbc",
       "value": "<br><?xml version=\"1.0\" encoding=\"UTF-8\" standalone=\"no\"?>\n<!DOCTYPE svg PUBLIC \"-//W3C//DTD SVG 1.1//EN\"\n \"http://www.w3.org/Graphics/SVG/1.1/DTD/svg11.dtd\">\n<!-- Generated by graphviz version 2.40.1 (20161225.0304)\n -->\n<!-- Title: %3 Pages: 1 -->\n<svg width=\"576pt\" height=\"28pt\"\n viewBox=\"0.00 0.00 576.00 27.91\" xmlns=\"http://www.w3.org/2000/svg\" xmlns:xlink=\"http://www.w3.org/1999/xlink\">\n<g id=\"graph0\" class=\"graph\" transform=\"scale(.6344 .6344) rotate(0) translate(4 40)\">\n<title>%3</title>\n<polygon fill=\"#ffffff\" stroke=\"transparent\" points=\"-4,4 -4,-40 904,-40 904,4 -4,4\"/>\n<!-- 0 -->\n<g id=\"node1\" class=\"node\">\n<title>0</title>\n<polygon fill=\"#fdb462\" stroke=\"#b2dfee\" points=\"128,-36 0,-36 0,0 128,0 128,-36\"/>\n<text text-anchor=\"middle\" x=\"64\" y=\"-14.3\" font-family=\"Times,serif\" font-size=\"14.00\" fill=\"#000000\">ResUnit(H8.K5.S2.)</text>\n</g>\n<!-- 1 -->\n<g id=\"node2\" class=\"node\">\n<title>1</title>\n<polygon fill=\"#bebada\" stroke=\"#b2dfee\" points=\"292,-36 164,-36 164,0 292,0 292,-36\"/>\n<text text-anchor=\"middle\" x=\"228\" y=\"-14.3\" font-family=\"Times,serif\" font-size=\"14.00\" fill=\"#000000\">ResUnit(K3.H8.S2.)</text>\n</g>\n<!-- 0&#45;&gt;1 -->\n<g id=\"edge1\" class=\"edge\">\n<title>0&#45;&gt;1</title>\n<path fill=\"none\" stroke=\"#000000\" d=\"M128.3464,-18C136.6401,-18 145.1868,-18 153.6248,-18\"/>\n<polygon fill=\"#000000\" stroke=\"#000000\" points=\"153.8392,-21.5001 163.8391,-18 153.8391,-14.5001 153.8392,-21.5001\"/>\n</g>\n<!-- 2 -->\n<g id=\"node3\" class=\"node\">\n<title>2</title>\n<polygon fill=\"#fdb462\" stroke=\"#b2dfee\" points=\"456,-36 328,-36 328,0 456,0 456,-36\"/>\n<text text-anchor=\"middle\" x=\"392\" y=\"-14.3\" font-family=\"Times,serif\" font-size=\"14.00\" fill=\"#000000\">ResUnit(K5.H8.S2.)</text>\n</g>\n<!-- 1&#45;&gt;2 -->\n<g id=\"edge2\" class=\"edge\">\n<title>1&#45;&gt;2</title>\n<path fill=\"none\" stroke=\"#000000\" d=\"M292.3464,-18C300.6401,-18 309.1868,-18 317.6248,-18\"/>\n<polygon fill=\"#000000\" stroke=\"#000000\" points=\"317.8392,-21.5001 327.8391,-18 317.8391,-14.5001 317.8392,-21.5001\"/>\n</g>\n<!-- 5 -->\n<g id=\"node4\" class=\"node\">\n<title>5</title>\n<polygon fill=\"#b2dfee\" stroke=\"#b2dfee\" points=\"610,-36 492,-36 492,0 610,0 610,-36\"/>\n<text text-anchor=\"middle\" x=\"551\" y=\"-14.3\" font-family=\"Times,serif\" font-size=\"14.00\" fill=\"#000000\">GlobalAvgPool2D</text>\n</g>\n<!-- 2&#45;&gt;5 -->\n<g id=\"edge3\" class=\"edge\">\n<title>2&#45;&gt;5</title>\n<path fill=\"none\" stroke=\"#000000\" d=\"M456.2131,-18C464.6077,-18 473.2386,-18 481.7121,-18\"/>\n<polygon fill=\"#000000\" stroke=\"#000000\" points=\"481.9435,-21.5001 491.9434,-18 481.9434,-14.5001 481.9435,-21.5001\"/>\n</g>\n<!-- 6 -->\n<g id=\"node5\" class=\"node\">\n<title>6</title>\n<polygon fill=\"#b2dfee\" stroke=\"#b2dfee\" points=\"700,-36 646,-36 646,0 700,0 700,-36\"/>\n<text text-anchor=\"middle\" x=\"673\" y=\"-14.3\" font-family=\"Times,serif\" font-size=\"14.00\" fill=\"#000000\">Flatten</text>\n</g>\n<!-- 5&#45;&gt;6 -->\n<g id=\"edge4\" class=\"edge\">\n<title>5&#45;&gt;6</title>\n<path fill=\"none\" stroke=\"#000000\" d=\"M610.2131,-18C618.909,-18 627.6533,-18 635.7384,-18\"/>\n<polygon fill=\"#000000\" stroke=\"#000000\" points=\"635.9278,-21.5001 645.9278,-18 635.9278,-14.5001 635.9278,-21.5001\"/>\n</g>\n<!-- 7 -->\n<g id=\"node6\" class=\"node\">\n<title>7</title>\n<polygon fill=\"#b2dfee\" stroke=\"#b2dfee\" points=\"810,-36 736,-36 736,0 810,0 810,-36\"/>\n<text text-anchor=\"middle\" x=\"773\" y=\"-14.3\" font-family=\"Times,serif\" font-size=\"14.00\" fill=\"#000000\">Activation</text>\n</g>\n<!-- 6&#45;&gt;7 -->\n<g id=\"edge5\" class=\"edge\">\n<title>6&#45;&gt;7</title>\n<path fill=\"none\" stroke=\"#000000\" d=\"M700.0614,-18C707.9606,-18 716.8349,-18 725.6022,-18\"/>\n<polygon fill=\"#000000\" stroke=\"#000000\" points=\"725.7804,-21.5001 735.7803,-18 725.7803,-14.5001 725.7804,-21.5001\"/>\n</g>\n<!-- 8 -->\n<g id=\"node7\" class=\"node\">\n<title>8</title>\n<polygon fill=\"#b2dfee\" stroke=\"#b2dfee\" points=\"900,-36 846,-36 846,0 900,0 900,-36\"/>\n<text text-anchor=\"middle\" x=\"873\" y=\"-14.3\" font-family=\"Times,serif\" font-size=\"14.00\" fill=\"#000000\">Dense</text>\n</g>\n<!-- 7&#45;&gt;8 -->\n<g id=\"edge6\" class=\"edge\">\n<title>7&#45;&gt;8</title>\n<path fill=\"none\" stroke=\"#000000\" d=\"M810.2363,-18C818.5138,-18 827.2914,-18 835.5763,-18\"/>\n<polygon fill=\"#000000\" stroke=\"#000000\" points=\"835.7324,-21.5001 845.7324,-18 835.7323,-14.5001 835.7324,-21.5001\"/>\n</g>\n</g>\n</svg>\n<br>"
      }
     },
     "488efcd423cf4b23abbf669ee2a9cd67": {
      "model_module": "@jupyter-widgets/controls",
      "model_module_version": "1.5.0",
      "model_name": "DescriptionStyleModel",
      "state": {
       "description_width": ""
      }
     },
     "490743a65e2143b2bef9c02da59b9df5": {
      "model_module": "@jupyter-widgets/base",
      "model_module_version": "1.2.0",
      "model_name": "LayoutModel",
      "state": {}
     },
     "497afcfe08fd49f691da3a2945ef311a": {
      "model_module": "@jupyter-widgets/base",
      "model_module_version": "1.2.0",
      "model_name": "LayoutModel",
      "state": {}
     },
     "499a0f4e408042bbbb35e0789c8115d6": {
      "model_module": "@jupyter-widgets/base",
      "model_module_version": "1.2.0",
      "model_name": "LayoutModel",
      "state": {}
     },
     "4be167b979d345c884ce93ba5560b9c6": {
      "model_module": "@jupyter-widgets/controls",
      "model_module_version": "1.5.0",
      "model_name": "DescriptionStyleModel",
      "state": {
       "description_width": ""
      }
     },
     "4c28c1931a7f4f2f92fcf08bf515bc92": {
      "model_module": "@jupyter-widgets/base",
      "model_module_version": "1.2.0",
      "model_name": "LayoutModel",
      "state": {}
     },
     "4c6f3c2c885d48c8b19a27bca4750498": {
      "model_module": "@jupyter-widgets/base",
      "model_module_version": "1.2.0",
      "model_name": "LayoutModel",
      "state": {}
     },
     "4d0319c7341d4aee842ae7165c9c48aa": {
      "model_module": "@jupyter-widgets/controls",
      "model_module_version": "1.5.0",
      "model_name": "HTMLModel",
      "state": {
       "layout": "IPY_MODEL_f5a433dc05464ca58e18f4aa7c0563c0",
       "style": "IPY_MODEL_691fc7650b2040edbc326055c9418660",
       "value": " 1/1 [00:35&lt;00:00, 35.74s/it]"
      }
     },
     "4d326ab2637d41458738458c534f63ac": {
      "model_module": "@jupyter-widgets/base",
      "model_module_version": "1.2.0",
      "model_name": "LayoutModel",
      "state": {}
     },
     "4d87f4564b95407e932cf3e9fb727d44": {
      "model_module": "@jupyter-widgets/controls",
      "model_module_version": "1.5.0",
      "model_name": "DescriptionStyleModel",
      "state": {
       "description_width": ""
      }
     },
     "4d9afafc0d4f4d97bf262c8c4513fdd7": {
      "model_module": "@jupyter-widgets/controls",
      "model_module_version": "1.5.0",
      "model_name": "DescriptionStyleModel",
      "state": {
       "description_width": ""
      }
     },
     "4da4c56f23db4f919dddd8a05c10e104": {
      "model_module": "@jupyter-widgets/base",
      "model_module_version": "1.2.0",
      "model_name": "LayoutModel",
      "state": {}
     },
     "4e621b1b7f384dd0a012be8098f4eb84": {
      "model_module": "@jupyter-widgets/controls",
      "model_module_version": "1.5.0",
      "model_name": "HBoxModel",
      "state": {
       "children": [
        "IPY_MODEL_3b0a05eb51b24494a7a73fb5fbab5bec",
        "IPY_MODEL_8a986a54e0494ac2be634a3b76593dfe"
       ],
       "layout": "IPY_MODEL_7a62579cfc594bce85e090527835e218"
      }
     },
     "4e96e711ce6d4e88b8b347c63c112e3a": {
      "model_module": "@jupyter-widgets/controls",
      "model_module_version": "1.5.0",
      "model_name": "DescriptionStyleModel",
      "state": {
       "description_width": ""
      }
     },
     "4e9ceb2294254c2681e3afabdaf2fba2": {
      "model_module": "@jupyter-widgets/base",
      "model_module_version": "1.2.0",
      "model_name": "LayoutModel",
      "state": {}
     },
     "50d0179ae99f499e8e1feb3660c7d66e": {
      "model_module": "@jupyter-widgets/controls",
      "model_module_version": "1.5.0",
      "model_name": "DescriptionStyleModel",
      "state": {
       "description_width": ""
      }
     },
     "515f1bb2b30b45319838ea7d242a1e0e": {
      "model_module": "@jupyter-widgets/base",
      "model_module_version": "1.2.0",
      "model_name": "LayoutModel",
      "state": {}
     },
     "521f5447089742bd82dc15797f244a32": {
      "model_module": "@jupyter-widgets/controls",
      "model_module_version": "1.5.0",
      "model_name": "HTMLModel",
      "state": {
       "layout": "IPY_MODEL_fba3681101554e47bd1c472eae0309f0",
       "style": "IPY_MODEL_f8ab9b96e25e46d48d8f37c4d4393d06"
      }
     },
     "525b60234c2647c2b9f13fb302f6561c": {
      "model_module": "@jupyter-widgets/controls",
      "model_module_version": "1.5.0",
      "model_name": "VBoxModel",
      "state": {
       "children": [
        "IPY_MODEL_8566b70339204854a7a58b4942f81229",
        "IPY_MODEL_e399b1d551a7412cb497317591aa8ef8"
       ],
       "layout": "IPY_MODEL_9ef711786f894d3cb46562c047e2dc44"
      }
     },
     "52d3801b37b7418191df83c66d744778": {
      "model_module": "@jupyter-widgets/base",
      "model_module_version": "1.2.0",
      "model_name": "LayoutModel",
      "state": {}
     },
     "5385d293adf1457792c325a098763ef3": {
      "model_module": "@jupyter-widgets/base",
      "model_module_version": "1.2.0",
      "model_name": "LayoutModel",
      "state": {}
     },
     "54a1081f00264b8a87bfa1e23290273a": {
      "model_module": "@jupyter-widgets/base",
      "model_module_version": "1.2.0",
      "model_name": "LayoutModel",
      "state": {}
     },
     "54e7ad81da9243b691e172ee385aadea": {
      "model_module": "@jupyter-widgets/base",
      "model_module_version": "1.2.0",
      "model_name": "LayoutModel",
      "state": {}
     },
     "55a87dfcf7494eb59e6b14e96938ee3f": {
      "model_module": "@jupyter-widgets/base",
      "model_module_version": "1.2.0",
      "model_name": "LayoutModel",
      "state": {}
     },
     "5688041929534dea87345de79759e8c2": {
      "model_module": "@jupyter-widgets/controls",
      "model_module_version": "1.5.0",
      "model_name": "DescriptionStyleModel",
      "state": {
       "description_width": ""
      }
     },
     "56b038380b2f4d30b6b737ff4560ae18": {
      "model_module": "@jupyter-widgets/controls",
      "model_module_version": "1.5.0",
      "model_name": "VBoxModel",
      "state": {
       "children": [
        "IPY_MODEL_754a10dc2dc8489cb59fbc685c90abd4",
        "IPY_MODEL_a171d7d23fd5467abd54fe0a88a656f4"
       ],
       "layout": "IPY_MODEL_d5d4d43d5b814883b215d0314f9a434f"
      }
     },
     "578458447cbf4829aeccbfa407f417c7": {
      "model_module": "@jupyter-widgets/controls",
      "model_module_version": "1.5.0",
      "model_name": "HTMLModel",
      "state": {
       "layout": "IPY_MODEL_d12026f9cc3a4371abfc1c30c6aa515b",
       "style": "IPY_MODEL_20d24ed3e0d941188241aeb059c54411",
       "value": " 468/468 [01:00&lt;00:00,  7.80it/s]"
      }
     },
     "57f1b52cdeb54cc9af364e017b275e76": {
      "model_module": "@jupyter-widgets/controls",
      "model_module_version": "1.5.0",
      "model_name": "ProgressStyleModel",
      "state": {
       "description_width": "initial"
      }
     },
     "5945edc17eb441d1ab581b9c39141a25": {
      "model_module": "@jupyter-widgets/controls",
      "model_module_version": "1.5.0",
      "model_name": "DescriptionStyleModel",
      "state": {
       "description_width": ""
      }
     },
     "59945c8061d54fa1b5518dd479b7ddb8": {
      "model_module": "@jupyter-widgets/controls",
      "model_module_version": "1.5.0",
      "model_name": "HTMLModel",
      "state": {
       "layout": "IPY_MODEL_a2433cd75c16441aa5079ea5d690dc42",
       "style": "IPY_MODEL_11cbbaa7976f46659b54b172f59796b4"
      }
     },
     "5a2022c4b7f54f349e9648c7ca33101d": {
      "model_module": "@jupyter-widgets/controls",
      "model_module_version": "1.5.0",
      "model_name": "HTMLModel",
      "state": {
       "layout": "IPY_MODEL_4836e335974e469a879c4791d681771a",
       "style": "IPY_MODEL_fea00c68832b429f98bdde6d073ddd0a",
       "value": " 468/468 [01:00&lt;00:00,  7.76it/s]"
      }
     },
     "5a25defdbd7f400cb52499e514087d8c": {
      "model_module": "@jupyter-widgets/controls",
      "model_module_version": "1.5.0",
      "model_name": "HTMLModel",
      "state": {
       "layout": "IPY_MODEL_adc722d2162d41609290e478962ceccc",
       "style": "IPY_MODEL_13332e601dac4ac98c3227606df60068",
       "value": "<br><?xml version=\"1.0\" encoding=\"UTF-8\" standalone=\"no\"?>\n<!DOCTYPE svg PUBLIC \"-//W3C//DTD SVG 1.1//EN\"\n \"http://www.w3.org/Graphics/SVG/1.1/DTD/svg11.dtd\">\n<!-- Generated by graphviz version 2.40.1 (20161225.0304)\n -->\n<!-- Title: %3 Pages: 1 -->\n<svg width=\"576pt\" height=\"28pt\"\n viewBox=\"0.00 0.00 576.00 27.91\" xmlns=\"http://www.w3.org/2000/svg\" xmlns:xlink=\"http://www.w3.org/1999/xlink\">\n<g id=\"graph0\" class=\"graph\" transform=\"scale(.6344 .6344) rotate(0) translate(4 40)\">\n<title>%3</title>\n<polygon fill=\"#ffffff\" stroke=\"transparent\" points=\"-4,4 -4,-40 904,-40 904,4 -4,4\"/>\n<!-- 0 -->\n<g id=\"node1\" class=\"node\">\n<title>0</title>\n<polygon fill=\"#fdb462\" stroke=\"#b2dfee\" points=\"128,-36 0,-36 0,0 128,0 128,-36\"/>\n<text text-anchor=\"middle\" x=\"64\" y=\"-14.3\" font-family=\"Times,serif\" font-size=\"14.00\" fill=\"#000000\">ResUnit(H8.K5.S2.)</text>\n</g>\n<!-- 1 -->\n<g id=\"node2\" class=\"node\">\n<title>1</title>\n<polygon fill=\"#bebada\" stroke=\"#b2dfee\" points=\"292,-36 164,-36 164,0 292,0 292,-36\"/>\n<text text-anchor=\"middle\" x=\"228\" y=\"-14.3\" font-family=\"Times,serif\" font-size=\"14.00\" fill=\"#000000\">ResUnit(K3.H8.S2.)</text>\n</g>\n<!-- 0&#45;&gt;1 -->\n<g id=\"edge1\" class=\"edge\">\n<title>0&#45;&gt;1</title>\n<path fill=\"none\" stroke=\"#000000\" d=\"M128.3464,-18C136.6401,-18 145.1868,-18 153.6248,-18\"/>\n<polygon fill=\"#000000\" stroke=\"#000000\" points=\"153.8392,-21.5001 163.8391,-18 153.8391,-14.5001 153.8392,-21.5001\"/>\n</g>\n<!-- 2 -->\n<g id=\"node3\" class=\"node\">\n<title>2</title>\n<polygon fill=\"#bebada\" stroke=\"#b2dfee\" points=\"456,-36 328,-36 328,0 456,0 456,-36\"/>\n<text text-anchor=\"middle\" x=\"392\" y=\"-14.3\" font-family=\"Times,serif\" font-size=\"14.00\" fill=\"#000000\">ResUnit(K3.H8.S2.)</text>\n</g>\n<!-- 1&#45;&gt;2 -->\n<g id=\"edge2\" class=\"edge\">\n<title>1&#45;&gt;2</title>\n<path fill=\"none\" stroke=\"#000000\" d=\"M292.3464,-18C300.6401,-18 309.1868,-18 317.6248,-18\"/>\n<polygon fill=\"#000000\" stroke=\"#000000\" points=\"317.8392,-21.5001 327.8391,-18 317.8391,-14.5001 317.8392,-21.5001\"/>\n</g>\n<!-- 5 -->\n<g id=\"node4\" class=\"node\">\n<title>5</title>\n<polygon fill=\"#b2dfee\" stroke=\"#b2dfee\" points=\"610,-36 492,-36 492,0 610,0 610,-36\"/>\n<text text-anchor=\"middle\" x=\"551\" y=\"-14.3\" font-family=\"Times,serif\" font-size=\"14.00\" fill=\"#000000\">GlobalAvgPool2D</text>\n</g>\n<!-- 2&#45;&gt;5 -->\n<g id=\"edge3\" class=\"edge\">\n<title>2&#45;&gt;5</title>\n<path fill=\"none\" stroke=\"#000000\" d=\"M456.2131,-18C464.6077,-18 473.2386,-18 481.7121,-18\"/>\n<polygon fill=\"#000000\" stroke=\"#000000\" points=\"481.9435,-21.5001 491.9434,-18 481.9434,-14.5001 481.9435,-21.5001\"/>\n</g>\n<!-- 6 -->\n<g id=\"node5\" class=\"node\">\n<title>6</title>\n<polygon fill=\"#b2dfee\" stroke=\"#b2dfee\" points=\"700,-36 646,-36 646,0 700,0 700,-36\"/>\n<text text-anchor=\"middle\" x=\"673\" y=\"-14.3\" font-family=\"Times,serif\" font-size=\"14.00\" fill=\"#000000\">Flatten</text>\n</g>\n<!-- 5&#45;&gt;6 -->\n<g id=\"edge4\" class=\"edge\">\n<title>5&#45;&gt;6</title>\n<path fill=\"none\" stroke=\"#000000\" d=\"M610.2131,-18C618.909,-18 627.6533,-18 635.7384,-18\"/>\n<polygon fill=\"#000000\" stroke=\"#000000\" points=\"635.9278,-21.5001 645.9278,-18 635.9278,-14.5001 635.9278,-21.5001\"/>\n</g>\n<!-- 7 -->\n<g id=\"node6\" class=\"node\">\n<title>7</title>\n<polygon fill=\"#b2dfee\" stroke=\"#b2dfee\" points=\"810,-36 736,-36 736,0 810,0 810,-36\"/>\n<text text-anchor=\"middle\" x=\"773\" y=\"-14.3\" font-family=\"Times,serif\" font-size=\"14.00\" fill=\"#000000\">Activation</text>\n</g>\n<!-- 6&#45;&gt;7 -->\n<g id=\"edge5\" class=\"edge\">\n<title>6&#45;&gt;7</title>\n<path fill=\"none\" stroke=\"#000000\" d=\"M700.0614,-18C707.9606,-18 716.8349,-18 725.6022,-18\"/>\n<polygon fill=\"#000000\" stroke=\"#000000\" points=\"725.7804,-21.5001 735.7803,-18 725.7803,-14.5001 725.7804,-21.5001\"/>\n</g>\n<!-- 8 -->\n<g id=\"node7\" class=\"node\">\n<title>8</title>\n<polygon fill=\"#b2dfee\" stroke=\"#b2dfee\" points=\"900,-36 846,-36 846,0 900,0 900,-36\"/>\n<text text-anchor=\"middle\" x=\"873\" y=\"-14.3\" font-family=\"Times,serif\" font-size=\"14.00\" fill=\"#000000\">Dense</text>\n</g>\n<!-- 7&#45;&gt;8 -->\n<g id=\"edge6\" class=\"edge\">\n<title>7&#45;&gt;8</title>\n<path fill=\"none\" stroke=\"#000000\" d=\"M810.2363,-18C818.5138,-18 827.2914,-18 835.5763,-18\"/>\n<polygon fill=\"#000000\" stroke=\"#000000\" points=\"835.7324,-21.5001 845.7324,-18 835.7323,-14.5001 835.7324,-21.5001\"/>\n</g>\n</g>\n</svg>\n<br>"
      }
     },
     "5a85ed60854e4574a30c8c561e7f145b": {
      "model_module": "@jupyter-widgets/controls",
      "model_module_version": "1.5.0",
      "model_name": "VBoxModel",
      "state": {
       "children": [
        "IPY_MODEL_18d1a8939b424e06b3bdfa13a1d80e80",
        "IPY_MODEL_b3a66a9639df451d8706d0c5bd061526"
       ],
       "layout": "IPY_MODEL_490743a65e2143b2bef9c02da59b9df5"
      }
     },
     "5b01f86e205143b19efa672fc57caf11": {
      "model_module": "@jupyter-widgets/base",
      "model_module_version": "1.2.0",
      "model_name": "LayoutModel",
      "state": {}
     },
     "5c46f4bb8452447d83b91166c4069003": {
      "model_module": "@jupyter-widgets/base",
      "model_module_version": "1.2.0",
      "model_name": "LayoutModel",
      "state": {}
     },
     "5c5a42e096494509a9e0d32e8733432d": {
      "model_module": "@jupyter-widgets/controls",
      "model_module_version": "1.5.0",
      "model_name": "DescriptionStyleModel",
      "state": {
       "description_width": ""
      }
     },
     "5e2917f1684544cbb027b00b7e801776": {
      "model_module": "@jupyter-widgets/controls",
      "model_module_version": "1.5.0",
      "model_name": "IntProgressModel",
      "state": {
       "bar_style": "success",
       "description": "avg reward: 1.23: 100%",
       "layout": "IPY_MODEL_1a9a00f973f04530b5c3aa58c9146d45",
       "max": 468,
       "style": "IPY_MODEL_1ddb04a459b04417b17ba415b60be506",
       "value": 468
      }
     },
     "62f1e984eba245d5965fb5c1fb80f220": {
      "model_module": "@jupyter-widgets/base",
      "model_module_version": "1.2.0",
      "model_name": "LayoutModel",
      "state": {}
     },
     "654fe195a882417ea21689b9009d26c7": {
      "model_module": "@jupyter-widgets/base",
      "model_module_version": "1.2.0",
      "model_name": "LayoutModel",
      "state": {}
     },
     "68204efc85f94e378911bcd3712ff0f0": {
      "model_module": "@jupyter-widgets/controls",
      "model_module_version": "1.5.0",
      "model_name": "HTMLModel",
      "state": {
       "layout": "IPY_MODEL_4da4c56f23db4f919dddd8a05c10e104",
       "style": "IPY_MODEL_50d0179ae99f499e8e1feb3660c7d66e",
       "value": " 79/79 [00:02&lt;00:00, 28.21it/s]"
      }
     },
     "691fc7650b2040edbc326055c9418660": {
      "model_module": "@jupyter-widgets/controls",
      "model_module_version": "1.5.0",
      "model_name": "DescriptionStyleModel",
      "state": {
       "description_width": ""
      }
     },
     "6c2c981b3b1e4793964f798e4db01f11": {
      "model_module": "@jupyter-widgets/controls",
      "model_module_version": "1.5.0",
      "model_name": "HTMLModel",
      "state": {
       "layout": "IPY_MODEL_39b7db37d8444342b7bbdc8c44405fa7",
       "style": "IPY_MODEL_4e96e711ce6d4e88b8b347c63c112e3a",
       "value": " 1/1 [00:34&lt;00:00, 34.80s/it]"
      }
     },
     "6dc7a850154c42ed986ca4451001679d": {
      "model_module": "@jupyter-widgets/controls",
      "model_module_version": "1.5.0",
      "model_name": "HBoxModel",
      "state": {
       "children": [
        "IPY_MODEL_1815912cfac54744aaa87c39f849e63a",
        "IPY_MODEL_6f9a7a618a7442829ade935945a52001"
       ],
       "layout": "IPY_MODEL_54e7ad81da9243b691e172ee385aadea"
      }
     },
     "6e5efd3728c246a498280f63cc7312eb": {
      "model_module": "@jupyter-widgets/controls",
      "model_module_version": "1.5.0",
      "model_name": "IntProgressModel",
      "state": {
       "bar_style": "success",
       "description": "avg reward: 1.25: 100%",
       "layout": "IPY_MODEL_8393e05ac78a442d92d4a75e10c09fe7",
       "max": 468,
       "style": "IPY_MODEL_22830a44ff4b4ef8840a1c3143c2193a",
       "value": 468
      }
     },
     "6f3b86efcc33440ca0f638cf11cd80ff": {
      "model_module": "@jupyter-widgets/base",
      "model_module_version": "1.2.0",
      "model_name": "LayoutModel",
      "state": {}
     },
     "6f9a7a618a7442829ade935945a52001": {
      "model_module": "@jupyter-widgets/controls",
      "model_module_version": "1.5.0",
      "model_name": "HTMLModel",
      "state": {
       "layout": "IPY_MODEL_ef8ba293c09d4a4081d10ace57414739",
       "style": "IPY_MODEL_0987b70042984da4959d6ebf14e0e985",
       "value": " 1/1 [00:41&lt;00:00, 41.27s/it]"
      }
     },
     "7051b6accad4475a95adcc3b9d879abb": {
      "model_module": "@jupyter-widgets/controls",
      "model_module_version": "1.5.0",
      "model_name": "HTMLModel",
      "state": {
       "layout": "IPY_MODEL_3c3e3e6887784638b153ff90ec589a4d",
       "style": "IPY_MODEL_bb9091142e794a31ba7b934b8cad0ae3",
       "value": " 79/79 [00:01&lt;00:00, 47.58it/s]"
      }
     },
     "70f3d3dcaa1a48818ac557a4f244ec93": {
      "model_module": "@jupyter-widgets/controls",
      "model_module_version": "1.5.0",
      "model_name": "ProgressStyleModel",
      "state": {
       "description_width": "initial"
      }
     },
     "715b02eeba42487aba2e250d0e57c1a5": {
      "model_module": "@jupyter-widgets/base",
      "model_module_version": "1.2.0",
      "model_name": "LayoutModel",
      "state": {}
     },
     "71948429b17d4a4ebedcd79f52bab037": {
      "model_module": "@jupyter-widgets/controls",
      "model_module_version": "1.5.0",
      "model_name": "ProgressStyleModel",
      "state": {
       "description_width": "initial"
      }
     },
     "72177b43c8434087b249a7694ee35a2b": {
      "model_module": "@jupyter-widgets/controls",
      "model_module_version": "1.5.0",
      "model_name": "IntProgressModel",
      "state": {
       "bar_style": "success",
       "description": "avg reward: 0.98: 100%",
       "layout": "IPY_MODEL_bf55c8fb328c48b69091b72fe8354744",
       "max": 468,
       "style": "IPY_MODEL_f7d9b5fe81ca46d7aa452c59699e18a5",
       "value": 468
      }
     },
     "73256d860d9f46089f1053630051ffe8": {
      "model_module": "@jupyter-widgets/controls",
      "model_module_version": "1.5.0",
      "model_name": "VBoxModel",
      "state": {
       "children": [
        "IPY_MODEL_335a77df5faf4f51a46a593f38f641e4",
        "IPY_MODEL_7898f5ac84b840cb984bb82c00469509"
       ],
       "layout": "IPY_MODEL_fce16173cec844848b2281d67da1eb99"
      }
     },
     "7377fe217b9a4148bfac81a6f593e3ba": {
      "model_module": "@jupyter-widgets/controls",
      "model_module_version": "1.5.0",
      "model_name": "HTMLModel",
      "state": {
       "layout": "IPY_MODEL_44c80b7ef86940dab3f807f352201db3",
       "style": "IPY_MODEL_2e7d8f74414645fda3319a3e88b9d543"
      }
     },
     "7391a3491d264071954a2c1ab7985dad": {
      "model_module": "@jupyter-widgets/controls",
      "model_module_version": "1.5.0",
      "model_name": "HTMLModel",
      "state": {
       "layout": "IPY_MODEL_866f7516dd9543ec8eca2e56cff4c0af",
       "style": "IPY_MODEL_488efcd423cf4b23abbf669ee2a9cd67",
       "value": "<br><?xml version=\"1.0\" encoding=\"UTF-8\" standalone=\"no\"?>\n<!DOCTYPE svg PUBLIC \"-//W3C//DTD SVG 1.1//EN\"\n \"http://www.w3.org/Graphics/SVG/1.1/DTD/svg11.dtd\">\n<!-- Generated by graphviz version 2.40.1 (20161225.0304)\n -->\n<!-- Title: %3 Pages: 1 -->\n<svg width=\"576pt\" height=\"24pt\"\n viewBox=\"0.00 0.00 576.00 23.64\" xmlns=\"http://www.w3.org/2000/svg\" xmlns:xlink=\"http://www.w3.org/1999/xlink\">\n<g id=\"graph0\" class=\"graph\" transform=\"scale(.5373 .5373) rotate(0) translate(4 40)\">\n<title>%3</title>\n<polygon fill=\"#ffffff\" stroke=\"transparent\" points=\"-4,4 -4,-40 1068,-40 1068,4 -4,4\"/>\n<!-- 0 -->\n<g id=\"node1\" class=\"node\">\n<title>0</title>\n<polygon fill=\"#fdb462\" stroke=\"#b2dfee\" points=\"128,-36 0,-36 0,0 128,0 128,-36\"/>\n<text text-anchor=\"middle\" x=\"64\" y=\"-14.3\" font-family=\"Times,serif\" font-size=\"14.00\" fill=\"#000000\">ResUnit(H8.K5.S2.)</text>\n</g>\n<!-- 1 -->\n<g id=\"node2\" class=\"node\">\n<title>1</title>\n<polygon fill=\"#bebada\" stroke=\"#b2dfee\" points=\"292,-36 164,-36 164,0 292,0 292,-36\"/>\n<text text-anchor=\"middle\" x=\"228\" y=\"-14.3\" font-family=\"Times,serif\" font-size=\"14.00\" fill=\"#000000\">ResUnit(K3.H8.S2.)</text>\n</g>\n<!-- 0&#45;&gt;1 -->\n<g id=\"edge1\" class=\"edge\">\n<title>0&#45;&gt;1</title>\n<path fill=\"none\" stroke=\"#000000\" d=\"M128.3464,-18C136.6401,-18 145.1868,-18 153.6248,-18\"/>\n<polygon fill=\"#000000\" stroke=\"#000000\" points=\"153.8392,-21.5001 163.8391,-18 153.8391,-14.5001 153.8392,-21.5001\"/>\n</g>\n<!-- 2 -->\n<g id=\"node3\" class=\"node\">\n<title>2</title>\n<polygon fill=\"#bebada\" stroke=\"#b2dfee\" points=\"456,-36 328,-36 328,0 456,0 456,-36\"/>\n<text text-anchor=\"middle\" x=\"392\" y=\"-14.3\" font-family=\"Times,serif\" font-size=\"14.00\" fill=\"#000000\">ResUnit(K3.H8.S2.)</text>\n</g>\n<!-- 1&#45;&gt;2 -->\n<g id=\"edge2\" class=\"edge\">\n<title>1&#45;&gt;2</title>\n<path fill=\"none\" stroke=\"#000000\" d=\"M292.3464,-18C300.6401,-18 309.1868,-18 317.6248,-18\"/>\n<polygon fill=\"#000000\" stroke=\"#000000\" points=\"317.8392,-21.5001 327.8391,-18 317.8391,-14.5001 317.8392,-21.5001\"/>\n</g>\n<!-- 3 -->\n<g id=\"node4\" class=\"node\">\n<title>3</title>\n<polygon fill=\"#fdb462\" stroke=\"#b2dfee\" points=\"620,-36 492,-36 492,0 620,0 620,-36\"/>\n<text text-anchor=\"middle\" x=\"556\" y=\"-14.3\" font-family=\"Times,serif\" font-size=\"14.00\" fill=\"#000000\">ResUnit(K5.H8.S1.)</text>\n</g>\n<!-- 2&#45;&gt;3 -->\n<g id=\"edge3\" class=\"edge\">\n<title>2&#45;&gt;3</title>\n<path fill=\"none\" stroke=\"#000000\" d=\"M456.3464,-18C464.6401,-18 473.1868,-18 481.6248,-18\"/>\n<polygon fill=\"#000000\" stroke=\"#000000\" points=\"481.8392,-21.5001 491.8391,-18 481.8391,-14.5001 481.8392,-21.5001\"/>\n</g>\n<!-- 5 -->\n<g id=\"node5\" class=\"node\">\n<title>5</title>\n<polygon fill=\"#b2dfee\" stroke=\"#b2dfee\" points=\"774,-36 656,-36 656,0 774,0 774,-36\"/>\n<text text-anchor=\"middle\" x=\"715\" y=\"-14.3\" font-family=\"Times,serif\" font-size=\"14.00\" fill=\"#000000\">GlobalAvgPool2D</text>\n</g>\n<!-- 3&#45;&gt;5 -->\n<g id=\"edge4\" class=\"edge\">\n<title>3&#45;&gt;5</title>\n<path fill=\"none\" stroke=\"#000000\" d=\"M620.2131,-18C628.6077,-18 637.2386,-18 645.7121,-18\"/>\n<polygon fill=\"#000000\" stroke=\"#000000\" points=\"645.9435,-21.5001 655.9434,-18 645.9434,-14.5001 645.9435,-21.5001\"/>\n</g>\n<!-- 6 -->\n<g id=\"node6\" class=\"node\">\n<title>6</title>\n<polygon fill=\"#b2dfee\" stroke=\"#b2dfee\" points=\"864,-36 810,-36 810,0 864,0 864,-36\"/>\n<text text-anchor=\"middle\" x=\"837\" y=\"-14.3\" font-family=\"Times,serif\" font-size=\"14.00\" fill=\"#000000\">Flatten</text>\n</g>\n<!-- 5&#45;&gt;6 -->\n<g id=\"edge5\" class=\"edge\">\n<title>5&#45;&gt;6</title>\n<path fill=\"none\" stroke=\"#000000\" d=\"M774.2131,-18C782.909,-18 791.6533,-18 799.7384,-18\"/>\n<polygon fill=\"#000000\" stroke=\"#000000\" points=\"799.9278,-21.5001 809.9278,-18 799.9278,-14.5001 799.9278,-21.5001\"/>\n</g>\n<!-- 7 -->\n<g id=\"node7\" class=\"node\">\n<title>7</title>\n<polygon fill=\"#b2dfee\" stroke=\"#b2dfee\" points=\"974,-36 900,-36 900,0 974,0 974,-36\"/>\n<text text-anchor=\"middle\" x=\"937\" y=\"-14.3\" font-family=\"Times,serif\" font-size=\"14.00\" fill=\"#000000\">Activation</text>\n</g>\n<!-- 6&#45;&gt;7 -->\n<g id=\"edge6\" class=\"edge\">\n<title>6&#45;&gt;7</title>\n<path fill=\"none\" stroke=\"#000000\" d=\"M864.0614,-18C871.9606,-18 880.8349,-18 889.6022,-18\"/>\n<polygon fill=\"#000000\" stroke=\"#000000\" points=\"889.7804,-21.5001 899.7803,-18 889.7803,-14.5001 889.7804,-21.5001\"/>\n</g>\n<!-- 8 -->\n<g id=\"node8\" class=\"node\">\n<title>8</title>\n<polygon fill=\"#b2dfee\" stroke=\"#b2dfee\" points=\"1064,-36 1010,-36 1010,0 1064,0 1064,-36\"/>\n<text text-anchor=\"middle\" x=\"1037\" y=\"-14.3\" font-family=\"Times,serif\" font-size=\"14.00\" fill=\"#000000\">Dense</text>\n</g>\n<!-- 7&#45;&gt;8 -->\n<g id=\"edge7\" class=\"edge\">\n<title>7&#45;&gt;8</title>\n<path fill=\"none\" stroke=\"#000000\" d=\"M974.2363,-18C982.5138,-18 991.2914,-18 999.5763,-18\"/>\n<polygon fill=\"#000000\" stroke=\"#000000\" points=\"999.7324,-21.5001 1009.7324,-18 999.7323,-14.5001 999.7324,-21.5001\"/>\n</g>\n</g>\n</svg>\n<br>"
      }
     },
     "73bf231f46404c23adbfb056193c7b4b": {
      "model_module": "@jupyter-widgets/controls",
      "model_module_version": "1.5.0",
      "model_name": "VBoxModel",
      "state": {
       "children": [
        "IPY_MODEL_8b02505e1a2d42a695baa105691dbf3a",
        "IPY_MODEL_7391a3491d264071954a2c1ab7985dad"
       ],
       "layout": "IPY_MODEL_8a1b97c4c45548039771045aa442eaff"
      }
     },
     "73f97817c8664b0baaea58fd396960fd": {
      "model_module": "@jupyter-widgets/base",
      "model_module_version": "1.2.0",
      "model_name": "LayoutModel",
      "state": {}
     },
     "753c35dc132e42248cf49e262a08207a": {
      "model_module": "@jupyter-widgets/controls",
      "model_module_version": "1.5.0",
      "model_name": "HTMLModel",
      "state": {
       "layout": "IPY_MODEL_cbe4f51e424c402bbed5ef2767b2d515",
       "style": "IPY_MODEL_923cf908e0524a40a44caa4a295233fe"
      }
     },
     "754a10dc2dc8489cb59fbc685c90abd4": {
      "model_module": "@jupyter-widgets/controls",
      "model_module_version": "1.5.0",
      "model_name": "HBoxModel",
      "state": {
       "children": [
        "IPY_MODEL_d1b16ca21441447a8f8dcb38a4f62e4f",
        "IPY_MODEL_db0968ce7c8d4ab1b885f95fbb954de7"
       ],
       "layout": "IPY_MODEL_beac579001514de3bcc8ab077daeffd8"
      }
     },
     "77873e2e04d941a3b76cca2e71d33863": {
      "model_module": "@jupyter-widgets/controls",
      "model_module_version": "1.5.0",
      "model_name": "HBoxModel",
      "state": {
       "children": [
        "IPY_MODEL_7949c880009f457c8f0e0b2c04196029",
        "IPY_MODEL_78a5ee8e0b5644cf8698cf023a3b94dd"
       ],
       "layout": "IPY_MODEL_54a1081f00264b8a87bfa1e23290273a"
      }
     },
     "77f6ea01e83f4b3aa96f85663b14c9e8": {
      "model_module": "@jupyter-widgets/controls",
      "model_module_version": "1.5.0",
      "model_name": "HTMLModel",
      "state": {
       "layout": "IPY_MODEL_c1e10cf2aace436ca6698cb0f2071bad",
       "style": "IPY_MODEL_e64749784844465a82024c352dcb84c0",
       "value": "<br><?xml version=\"1.0\" encoding=\"UTF-8\" standalone=\"no\"?>\n<!DOCTYPE svg PUBLIC \"-//W3C//DTD SVG 1.1//EN\"\n \"http://www.w3.org/Graphics/SVG/1.1/DTD/svg11.dtd\">\n<!-- Generated by graphviz version 2.40.1 (20161225.0304)\n -->\n<!-- Title: %3 Pages: 1 -->\n<svg width=\"576pt\" height=\"24pt\"\n viewBox=\"0.00 0.00 576.00 23.64\" xmlns=\"http://www.w3.org/2000/svg\" xmlns:xlink=\"http://www.w3.org/1999/xlink\">\n<g id=\"graph0\" class=\"graph\" transform=\"scale(.5373 .5373) rotate(0) translate(4 40)\">\n<title>%3</title>\n<polygon fill=\"#ffffff\" stroke=\"transparent\" points=\"-4,4 -4,-40 1068,-40 1068,4 -4,4\"/>\n<!-- 0 -->\n<g id=\"node1\" class=\"node\">\n<title>0</title>\n<polygon fill=\"#fdb462\" stroke=\"#b2dfee\" points=\"128,-36 0,-36 0,0 128,0 128,-36\"/>\n<text text-anchor=\"middle\" x=\"64\" y=\"-14.3\" font-family=\"Times,serif\" font-size=\"14.00\" fill=\"#000000\">ResUnit(H8.K5.S2.)</text>\n</g>\n<!-- 1 -->\n<g id=\"node2\" class=\"node\">\n<title>1</title>\n<polygon fill=\"#bebada\" stroke=\"#b2dfee\" points=\"292,-36 164,-36 164,0 292,0 292,-36\"/>\n<text text-anchor=\"middle\" x=\"228\" y=\"-14.3\" font-family=\"Times,serif\" font-size=\"14.00\" fill=\"#000000\">ResUnit(K3.H8.S2.)</text>\n</g>\n<!-- 0&#45;&gt;1 -->\n<g id=\"edge1\" class=\"edge\">\n<title>0&#45;&gt;1</title>\n<path fill=\"none\" stroke=\"#000000\" d=\"M128.3464,-18C136.6401,-18 145.1868,-18 153.6248,-18\"/>\n<polygon fill=\"#000000\" stroke=\"#000000\" points=\"153.8392,-21.5001 163.8391,-18 153.8391,-14.5001 153.8392,-21.5001\"/>\n</g>\n<!-- 2 -->\n<g id=\"node3\" class=\"node\">\n<title>2</title>\n<polygon fill=\"#bebada\" stroke=\"#b2dfee\" points=\"456,-36 328,-36 328,0 456,0 456,-36\"/>\n<text text-anchor=\"middle\" x=\"392\" y=\"-14.3\" font-family=\"Times,serif\" font-size=\"14.00\" fill=\"#000000\">ResUnit(K3.H8.S2.)</text>\n</g>\n<!-- 1&#45;&gt;2 -->\n<g id=\"edge2\" class=\"edge\">\n<title>1&#45;&gt;2</title>\n<path fill=\"none\" stroke=\"#000000\" d=\"M292.3464,-18C300.6401,-18 309.1868,-18 317.6248,-18\"/>\n<polygon fill=\"#000000\" stroke=\"#000000\" points=\"317.8392,-21.5001 327.8391,-18 317.8391,-14.5001 317.8392,-21.5001\"/>\n</g>\n<!-- 3 -->\n<g id=\"node4\" class=\"node\">\n<title>3</title>\n<polygon fill=\"#fdb462\" stroke=\"#b2dfee\" points=\"620,-36 492,-36 492,0 620,0 620,-36\"/>\n<text text-anchor=\"middle\" x=\"556\" y=\"-14.3\" font-family=\"Times,serif\" font-size=\"14.00\" fill=\"#000000\">ResUnit(K5.H8.S1.)</text>\n</g>\n<!-- 2&#45;&gt;3 -->\n<g id=\"edge3\" class=\"edge\">\n<title>2&#45;&gt;3</title>\n<path fill=\"none\" stroke=\"#000000\" d=\"M456.3464,-18C464.6401,-18 473.1868,-18 481.6248,-18\"/>\n<polygon fill=\"#000000\" stroke=\"#000000\" points=\"481.8392,-21.5001 491.8391,-18 481.8391,-14.5001 481.8392,-21.5001\"/>\n</g>\n<!-- 5 -->\n<g id=\"node5\" class=\"node\">\n<title>5</title>\n<polygon fill=\"#b2dfee\" stroke=\"#b2dfee\" points=\"774,-36 656,-36 656,0 774,0 774,-36\"/>\n<text text-anchor=\"middle\" x=\"715\" y=\"-14.3\" font-family=\"Times,serif\" font-size=\"14.00\" fill=\"#000000\">GlobalAvgPool2D</text>\n</g>\n<!-- 3&#45;&gt;5 -->\n<g id=\"edge4\" class=\"edge\">\n<title>3&#45;&gt;5</title>\n<path fill=\"none\" stroke=\"#000000\" d=\"M620.2131,-18C628.6077,-18 637.2386,-18 645.7121,-18\"/>\n<polygon fill=\"#000000\" stroke=\"#000000\" points=\"645.9435,-21.5001 655.9434,-18 645.9434,-14.5001 645.9435,-21.5001\"/>\n</g>\n<!-- 6 -->\n<g id=\"node6\" class=\"node\">\n<title>6</title>\n<polygon fill=\"#b2dfee\" stroke=\"#b2dfee\" points=\"864,-36 810,-36 810,0 864,0 864,-36\"/>\n<text text-anchor=\"middle\" x=\"837\" y=\"-14.3\" font-family=\"Times,serif\" font-size=\"14.00\" fill=\"#000000\">Flatten</text>\n</g>\n<!-- 5&#45;&gt;6 -->\n<g id=\"edge5\" class=\"edge\">\n<title>5&#45;&gt;6</title>\n<path fill=\"none\" stroke=\"#000000\" d=\"M774.2131,-18C782.909,-18 791.6533,-18 799.7384,-18\"/>\n<polygon fill=\"#000000\" stroke=\"#000000\" points=\"799.9278,-21.5001 809.9278,-18 799.9278,-14.5001 799.9278,-21.5001\"/>\n</g>\n<!-- 7 -->\n<g id=\"node7\" class=\"node\">\n<title>7</title>\n<polygon fill=\"#b2dfee\" stroke=\"#b2dfee\" points=\"974,-36 900,-36 900,0 974,0 974,-36\"/>\n<text text-anchor=\"middle\" x=\"937\" y=\"-14.3\" font-family=\"Times,serif\" font-size=\"14.00\" fill=\"#000000\">Activation</text>\n</g>\n<!-- 6&#45;&gt;7 -->\n<g id=\"edge6\" class=\"edge\">\n<title>6&#45;&gt;7</title>\n<path fill=\"none\" stroke=\"#000000\" d=\"M864.0614,-18C871.9606,-18 880.8349,-18 889.6022,-18\"/>\n<polygon fill=\"#000000\" stroke=\"#000000\" points=\"889.7804,-21.5001 899.7803,-18 889.7803,-14.5001 889.7804,-21.5001\"/>\n</g>\n<!-- 8 -->\n<g id=\"node8\" class=\"node\">\n<title>8</title>\n<polygon fill=\"#b2dfee\" stroke=\"#b2dfee\" points=\"1064,-36 1010,-36 1010,0 1064,0 1064,-36\"/>\n<text text-anchor=\"middle\" x=\"1037\" y=\"-14.3\" font-family=\"Times,serif\" font-size=\"14.00\" fill=\"#000000\">Dense</text>\n</g>\n<!-- 7&#45;&gt;8 -->\n<g id=\"edge7\" class=\"edge\">\n<title>7&#45;&gt;8</title>\n<path fill=\"none\" stroke=\"#000000\" d=\"M974.2363,-18C982.5138,-18 991.2914,-18 999.5763,-18\"/>\n<polygon fill=\"#000000\" stroke=\"#000000\" points=\"999.7324,-21.5001 1009.7324,-18 999.7323,-14.5001 999.7324,-21.5001\"/>\n</g>\n</g>\n</svg>\n<br>"
      }
     },
     "780788351d10405691df1d94beaf21b1": {
      "model_module": "@jupyter-widgets/controls",
      "model_module_version": "1.5.0",
      "model_name": "VBoxModel",
      "state": {
       "children": [
        "IPY_MODEL_8c077a9eca354a208b7820b2b11bc5a7",
        "IPY_MODEL_5a25defdbd7f400cb52499e514087d8c"
       ],
       "layout": "IPY_MODEL_c93400969f0144a983124ac0afb9c2db"
      }
     },
     "7898f5ac84b840cb984bb82c00469509": {
      "model_module": "@jupyter-widgets/controls",
      "model_module_version": "1.5.0",
      "model_name": "HTMLModel",
      "state": {
       "layout": "IPY_MODEL_515f1bb2b30b45319838ea7d242a1e0e",
       "style": "IPY_MODEL_302f74f9aea34632b36ab9d1a385322c"
      }
     },
     "78a5ee8e0b5644cf8698cf023a3b94dd": {
      "model_module": "@jupyter-widgets/controls",
      "model_module_version": "1.5.0",
      "model_name": "HTMLModel",
      "state": {
       "layout": "IPY_MODEL_84d5c5b3a25445a3a6e33d272a34fe92",
       "style": "IPY_MODEL_b9d8f3f2d4ac435d9a4bfdffe8a6f72a",
       "value": " 1/1 [01:01&lt;00:00, 61.74s/it]"
      }
     },
     "78c2a767a41244b792a05ef36517dc62": {
      "model_module": "@jupyter-widgets/base",
      "model_module_version": "1.2.0",
      "model_name": "LayoutModel",
      "state": {}
     },
     "78ec4a7d8f614734a0a2a03a0913af67": {
      "model_module": "@jupyter-widgets/controls",
      "model_module_version": "1.5.0",
      "model_name": "HBoxModel",
      "state": {
       "children": [
        "IPY_MODEL_fe8b8c6cc1d14464bb1778ecfafd2aec",
        "IPY_MODEL_e7826d97ab6a4f3d8cb6ad1293f9be3c"
       ],
       "layout": "IPY_MODEL_4174bf49d4a047bd8162c668ac63099b"
      }
     },
     "7949c880009f457c8f0e0b2c04196029": {
      "model_module": "@jupyter-widgets/controls",
      "model_module_version": "1.5.0",
      "model_name": "IntProgressModel",
      "state": {
       "bar_style": "success",
       "description": "epoch 0, val_acc: 0.97, avg reward: 1.25: 100%",
       "layout": "IPY_MODEL_73f97817c8664b0baaea58fd396960fd",
       "max": 1,
       "style": "IPY_MODEL_d37adcb8ea664c96b34e0e94939f2cfc",
       "value": 1
      }
     },
     "7a03c76dced1405382e4d5cb916e9cfa": {
      "model_module": "@jupyter-widgets/base",
      "model_module_version": "1.2.0",
      "model_name": "LayoutModel",
      "state": {}
     },
     "7a62579cfc594bce85e090527835e218": {
      "model_module": "@jupyter-widgets/base",
      "model_module_version": "1.2.0",
      "model_name": "LayoutModel",
      "state": {}
     },
     "7aad73ce0e26470b94d1174b621791ca": {
      "model_module": "@jupyter-widgets/controls",
      "model_module_version": "1.5.0",
      "model_name": "ProgressStyleModel",
      "state": {
       "description_width": "initial"
      }
     },
     "7d02d75fab9844faa6b57081ecd923bd": {
      "model_module": "@jupyter-widgets/controls",
      "model_module_version": "1.5.0",
      "model_name": "VBoxModel",
      "state": {
       "children": [
        "IPY_MODEL_0b3de3e296df4a78a7baedc3dacef944",
        "IPY_MODEL_4858e71bc52448b49da1303ebb256977"
       ],
       "layout": "IPY_MODEL_232dd20299884bd88488bf7bb6b3911e"
      }
     },
     "7d33d4d69a034aea9f6a6ef8cb948abe": {
      "model_module": "@jupyter-widgets/controls",
      "model_module_version": "1.5.0",
      "model_name": "IntProgressModel",
      "state": {
       "bar_style": "success",
       "description": "Val Acc: 0.9692: 100%",
       "layout": "IPY_MODEL_654fe195a882417ea21689b9009d26c7",
       "max": 79,
       "style": "IPY_MODEL_ba55650f4ecb450e873c8f1dcdcf9afa",
       "value": 79
      }
     },
     "7f7e610f4802423fa4dd90dd2dded000": {
      "model_module": "@jupyter-widgets/base",
      "model_module_version": "1.2.0",
      "model_name": "LayoutModel",
      "state": {}
     },
     "7f86bd51b4b146269e61eba0f9e186e3": {
      "model_module": "@jupyter-widgets/controls",
      "model_module_version": "1.5.0",
      "model_name": "HTMLModel",
      "state": {
       "layout": "IPY_MODEL_8a4e6fa0e409485985ca11e16aec0ad7",
       "style": "IPY_MODEL_814a8f82c82b4ce49034cc5ee39c9ffe",
       "value": " 1/1 [01:02&lt;00:00, 62.05s/it]"
      }
     },
     "8076d0db899748c9bd8dbd108f118778": {
      "model_module": "@jupyter-widgets/controls",
      "model_module_version": "1.5.0",
      "model_name": "HBoxModel",
      "state": {
       "children": [
        "IPY_MODEL_7d33d4d69a034aea9f6a6ef8cb948abe",
        "IPY_MODEL_c7e5db07f6bd42dfac2c187d3b763409"
       ],
       "layout": "IPY_MODEL_a546f93f3f4f4396a864dff708bb0a2c"
      }
     },
     "812b279c900b4c2e94575c1048c10807": {
      "model_module": "@jupyter-widgets/controls",
      "model_module_version": "1.5.0",
      "model_name": "VBoxModel",
      "state": {
       "children": [
        "IPY_MODEL_77873e2e04d941a3b76cca2e71d33863",
        "IPY_MODEL_d79d48d3a29b4305a664a5102f400f19"
       ],
       "layout": "IPY_MODEL_13a8bbf63ae94fbcbae6f2457dd83ed5"
      }
     },
     "814a8f82c82b4ce49034cc5ee39c9ffe": {
      "model_module": "@jupyter-widgets/controls",
      "model_module_version": "1.5.0",
      "model_name": "DescriptionStyleModel",
      "state": {
       "description_width": ""
      }
     },
     "82e9fe21c6b84019acbb9b69918d922e": {
      "model_module": "@jupyter-widgets/controls",
      "model_module_version": "1.5.0",
      "model_name": "HTMLModel",
      "state": {
       "layout": "IPY_MODEL_5c46f4bb8452447d83b91166c4069003",
       "style": "IPY_MODEL_dff786b79ea841fbb93ef2d24b05a35c"
      }
     },
     "8393e05ac78a442d92d4a75e10c09fe7": {
      "model_module": "@jupyter-widgets/base",
      "model_module_version": "1.2.0",
      "model_name": "LayoutModel",
      "state": {}
     },
     "83ce1d6d74db40a9ab5e9a7b381010a0": {
      "model_module": "@jupyter-widgets/controls",
      "model_module_version": "1.5.0",
      "model_name": "HBoxModel",
      "state": {
       "children": [
        "IPY_MODEL_e98eba41163047c4b30d681f13724b79",
        "IPY_MODEL_da5c20c27a424138a5125e47be30f875"
       ],
       "layout": "IPY_MODEL_1c4703cebcad4130ad812dd6ac989a43"
      }
     },
     "843bbaec016243718f9487684ebcfb99": {
      "model_module": "@jupyter-widgets/base",
      "model_module_version": "1.2.0",
      "model_name": "LayoutModel",
      "state": {}
     },
     "8485bfaa1c4940c1a3d6f00a6f137ee5": {
      "model_module": "@jupyter-widgets/controls",
      "model_module_version": "1.5.0",
      "model_name": "HBoxModel",
      "state": {
       "children": [
        "IPY_MODEL_8cde18dd7d11420ab9f1a4f21960271e",
        "IPY_MODEL_6c2c981b3b1e4793964f798e4db01f11"
       ],
       "layout": "IPY_MODEL_ec699636719147f2a18be04ad4f20389"
      }
     },
     "84d5c5b3a25445a3a6e33d272a34fe92": {
      "model_module": "@jupyter-widgets/base",
      "model_module_version": "1.2.0",
      "model_name": "LayoutModel",
      "state": {}
     },
     "851df1f86b4244aa97f864ad1ca5ae27": {
      "model_module": "@jupyter-widgets/base",
      "model_module_version": "1.2.0",
      "model_name": "LayoutModel",
      "state": {}
     },
     "8566b70339204854a7a58b4942f81229": {
      "model_module": "@jupyter-widgets/controls",
      "model_module_version": "1.5.0",
      "model_name": "HBoxModel",
      "state": {
       "children": [
        "IPY_MODEL_ab8e1b23ab564dda8e3417ba58ec27e9",
        "IPY_MODEL_20ab4a6fca7e4c07b5f754246054e10c"
       ],
       "layout": "IPY_MODEL_cc192848cbef4930bc08ac56de83eb94"
      }
     },
     "86023156268c4469a4d2768d01c5e0d2": {
      "model_module": "@jupyter-widgets/controls",
      "model_module_version": "1.5.0",
      "model_name": "DescriptionStyleModel",
      "state": {
       "description_width": ""
      }
     },
     "866f7516dd9543ec8eca2e56cff4c0af": {
      "model_module": "@jupyter-widgets/base",
      "model_module_version": "1.2.0",
      "model_name": "LayoutModel",
      "state": {}
     },
     "86d99c24b6a04d85b714964bdcbcbced": {
      "model_module": "@jupyter-widgets/controls",
      "model_module_version": "1.5.0",
      "model_name": "DescriptionStyleModel",
      "state": {
       "description_width": ""
      }
     },
     "89829a23597648cbae0a91403519fa83": {
      "model_module": "@jupyter-widgets/base",
      "model_module_version": "1.2.0",
      "model_name": "LayoutModel",
      "state": {}
     },
     "899c8ee21552465388b08e09d4a59290": {
      "model_module": "@jupyter-widgets/base",
      "model_module_version": "1.2.0",
      "model_name": "LayoutModel",
      "state": {}
     },
     "8a1b97c4c45548039771045aa442eaff": {
      "model_module": "@jupyter-widgets/base",
      "model_module_version": "1.2.0",
      "model_name": "LayoutModel",
      "state": {}
     },
     "8a4e6fa0e409485985ca11e16aec0ad7": {
      "model_module": "@jupyter-widgets/base",
      "model_module_version": "1.2.0",
      "model_name": "LayoutModel",
      "state": {}
     },
     "8a772d87a6e4420fa2358f0ce1dd48d2": {
      "model_module": "@jupyter-widgets/controls",
      "model_module_version": "1.5.0",
      "model_name": "ProgressStyleModel",
      "state": {
       "description_width": "initial"
      }
     },
     "8a986a54e0494ac2be634a3b76593dfe": {
      "model_module": "@jupyter-widgets/controls",
      "model_module_version": "1.5.0",
      "model_name": "HTMLModel",
      "state": {
       "layout": "IPY_MODEL_89829a23597648cbae0a91403519fa83",
       "style": "IPY_MODEL_dcf2f42b5b2b42ca805d408aa251b384",
       "value": " 79/79 [00:02&lt;00:00, 31.45it/s]"
      }
     },
     "8af1689b70fd49809b72414ffbbda654": {
      "model_module": "@jupyter-widgets/controls",
      "model_module_version": "1.5.0",
      "model_name": "IntProgressModel",
      "state": {
       "bar_style": "success",
       "description": "Val Acc: 0.971: 100%",
       "layout": "IPY_MODEL_42ab2b5dac6c408498f23fc01ef535d3",
       "max": 79,
       "style": "IPY_MODEL_db4563468f8f4c4893cd0a4e1024d59c",
       "value": 79
      }
     },
     "8b02505e1a2d42a695baa105691dbf3a": {
      "model_module": "@jupyter-widgets/controls",
      "model_module_version": "1.5.0",
      "model_name": "HBoxModel",
      "state": {
       "children": [
        "IPY_MODEL_42a3a4ab47fd405f90f41af74834b068",
        "IPY_MODEL_ffbcb52e9c0049b491c173f940cf1b9f"
       ],
       "layout": "IPY_MODEL_843bbaec016243718f9487684ebcfb99"
      }
     },
     "8c077a9eca354a208b7820b2b11bc5a7": {
      "model_module": "@jupyter-widgets/controls",
      "model_module_version": "1.5.0",
      "model_name": "HBoxModel",
      "state": {
       "children": [
        "IPY_MODEL_b2167414df2f4d91a37f8c7e7c9b2932",
        "IPY_MODEL_9c4a59967bb346389dc3f05b85b80260"
       ],
       "layout": "IPY_MODEL_ede46ba9e9f94245b0be5c66b770262e"
      }
     },
     "8c262c8a8dc74a4896bbc957bf04fb8e": {
      "model_module": "@jupyter-widgets/base",
      "model_module_version": "1.2.0",
      "model_name": "LayoutModel",
      "state": {}
     },
     "8cca3a37555c4aaeb2009d2756825d2a": {
      "model_module": "@jupyter-widgets/base",
      "model_module_version": "1.2.0",
      "model_name": "LayoutModel",
      "state": {}
     },
     "8cde18dd7d11420ab9f1a4f21960271e": {
      "model_module": "@jupyter-widgets/controls",
      "model_module_version": "1.5.0",
      "model_name": "IntProgressModel",
      "state": {
       "bar_style": "success",
       "description": "epoch 0, val_acc: 0.97, avg reward: 0.98: 100%",
       "layout": "IPY_MODEL_78c2a767a41244b792a05ef36517dc62",
       "max": 1,
       "style": "IPY_MODEL_4288fa59f43a4647a332bcf0f04c0acf",
       "value": 1
      }
     },
     "9035b2be1450473ba47edcad95200379": {
      "model_module": "@jupyter-widgets/base",
      "model_module_version": "1.2.0",
      "model_name": "LayoutModel",
      "state": {}
     },
     "9051a400753140e3b1f96972f046b11a": {
      "model_module": "@jupyter-widgets/controls",
      "model_module_version": "1.5.0",
      "model_name": "IntProgressModel",
      "state": {
       "bar_style": "success",
       "description": "Val Acc: 0.9663: 100%",
       "layout": "IPY_MODEL_7a03c76dced1405382e4d5cb916e9cfa",
       "max": 79,
       "style": "IPY_MODEL_70f3d3dcaa1a48818ac557a4f244ec93",
       "value": 79
      }
     },
     "907113bea35d42f38542e40fb4b423cd": {
      "model_module": "@jupyter-widgets/controls",
      "model_module_version": "1.5.0",
      "model_name": "DescriptionStyleModel",
      "state": {
       "description_width": ""
      }
     },
     "915bd24f64644d6789f18525dc7b0b3b": {
      "model_module": "@jupyter-widgets/controls",
      "model_module_version": "1.5.0",
      "model_name": "HBoxModel",
      "state": {
       "children": [
        "IPY_MODEL_fa01f63d61cf4b76bb437c8ac522c246",
        "IPY_MODEL_02e3e750c8e44bedbddec7d9650a3437"
       ],
       "layout": "IPY_MODEL_62f1e984eba245d5965fb5c1fb80f220"
      }
     },
     "923cf908e0524a40a44caa4a295233fe": {
      "model_module": "@jupyter-widgets/controls",
      "model_module_version": "1.5.0",
      "model_name": "DescriptionStyleModel",
      "state": {
       "description_width": ""
      }
     },
     "933ada504a154448a02c601a1842adb1": {
      "model_module": "@jupyter-widgets/controls",
      "model_module_version": "1.5.0",
      "model_name": "VBoxModel",
      "state": {
       "children": [
        "IPY_MODEL_6dc7a850154c42ed986ca4451001679d",
        "IPY_MODEL_133dd54c69e74ff1872b8aeea9650a9d"
       ],
       "layout": "IPY_MODEL_0c4bd3c72b1f42f19fce0260222a0f2e"
      }
     },
     "966c850b7e334057aed156feccab70f5": {
      "model_module": "@jupyter-widgets/base",
      "model_module_version": "1.2.0",
      "model_name": "LayoutModel",
      "state": {}
     },
     "9687eec6379b44f6ae9690d36c7d811b": {
      "model_module": "@jupyter-widgets/controls",
      "model_module_version": "1.5.0",
      "model_name": "DescriptionStyleModel",
      "state": {
       "description_width": ""
      }
     },
     "96be510e0f8a4c7db130b0d2be188e8a": {
      "model_module": "@jupyter-widgets/controls",
      "model_module_version": "1.5.0",
      "model_name": "DescriptionStyleModel",
      "state": {
       "description_width": ""
      }
     },
     "97b1cb5239cb455a9e592b70b5ebdaba": {
      "model_module": "@jupyter-widgets/controls",
      "model_module_version": "1.5.0",
      "model_name": "IntProgressModel",
      "state": {
       "bar_style": "success",
       "description": "epoch 0, val_acc: 0.97, avg reward: 0.99: 100%",
       "layout": "IPY_MODEL_25e21dec85564a8d96faeb127282edf7",
       "max": 1,
       "style": "IPY_MODEL_8a772d87a6e4420fa2358f0ce1dd48d2",
       "value": 1
      }
     },
     "9a86daf1827a4442ad85e2d802211589": {
      "model_module": "@jupyter-widgets/controls",
      "model_module_version": "1.5.0",
      "model_name": "HTMLModel",
      "state": {
       "layout": "IPY_MODEL_ad658b62806f465da0e10a8142e5d4dd",
       "style": "IPY_MODEL_96be510e0f8a4c7db130b0d2be188e8a",
       "value": " 79/79 [00:01&lt;00:00, 45.58it/s]"
      }
     },
     "9aff2010d5544622bd459c5b6a270cb6": {
      "model_module": "@jupyter-widgets/base",
      "model_module_version": "1.2.0",
      "model_name": "LayoutModel",
      "state": {}
     },
     "9b0f37d02f8d483eaea8de410c79f228": {
      "model_module": "@jupyter-widgets/base",
      "model_module_version": "1.2.0",
      "model_name": "LayoutModel",
      "state": {}
     },
     "9bcbb7f5dfc8420d87c8f3a97cf28e3a": {
      "model_module": "@jupyter-widgets/base",
      "model_module_version": "1.2.0",
      "model_name": "LayoutModel",
      "state": {}
     },
     "9c4a59967bb346389dc3f05b85b80260": {
      "model_module": "@jupyter-widgets/controls",
      "model_module_version": "1.5.0",
      "model_name": "HTMLModel",
      "state": {
       "layout": "IPY_MODEL_035c898e8f3d470aa4602322722645f8",
       "style": "IPY_MODEL_5c5a42e096494509a9e0d32e8733432d",
       "value": " 468/468 [00:39&lt;00:00, 11.84it/s]"
      }
     },
     "9ef711786f894d3cb46562c047e2dc44": {
      "model_module": "@jupyter-widgets/base",
      "model_module_version": "1.2.0",
      "model_name": "LayoutModel",
      "state": {}
     },
     "9f1a8668206e48a3aa984aeba28214f3": {
      "model_module": "@jupyter-widgets/controls",
      "model_module_version": "1.5.0",
      "model_name": "DescriptionStyleModel",
      "state": {
       "description_width": ""
      }
     },
     "a171d7d23fd5467abd54fe0a88a656f4": {
      "model_module": "@jupyter-widgets/controls",
      "model_module_version": "1.5.0",
      "model_name": "HTMLModel",
      "state": {
       "layout": "IPY_MODEL_1a942341e762489b8723808a0316fc78",
       "style": "IPY_MODEL_2d0cfae54fca4024b43dee4f74c59b81"
      }
     },
     "a2433cd75c16441aa5079ea5d690dc42": {
      "model_module": "@jupyter-widgets/base",
      "model_module_version": "1.2.0",
      "model_name": "LayoutModel",
      "state": {}
     },
     "a546f93f3f4f4396a864dff708bb0a2c": {
      "model_module": "@jupyter-widgets/base",
      "model_module_version": "1.2.0",
      "model_name": "LayoutModel",
      "state": {}
     },
     "a961df76294f4cc581df1a8ae6d6761e": {
      "model_module": "@jupyter-widgets/controls",
      "model_module_version": "1.5.0",
      "model_name": "HTMLModel",
      "state": {
       "layout": "IPY_MODEL_d2d7f8bbf1f94652a60f634e045459b4",
       "style": "IPY_MODEL_4be167b979d345c884ce93ba5560b9c6"
      }
     },
     "a9b1618a06a741e487c0864b803425bc": {
      "model_module": "@jupyter-widgets/base",
      "model_module_version": "1.2.0",
      "model_name": "LayoutModel",
      "state": {}
     },
     "aab2955abb46466482a98f31010e9753": {
      "model_module": "@jupyter-widgets/base",
      "model_module_version": "1.2.0",
      "model_name": "LayoutModel",
      "state": {}
     },
     "ab8e1b23ab564dda8e3417ba58ec27e9": {
      "model_module": "@jupyter-widgets/controls",
      "model_module_version": "1.5.0",
      "model_name": "IntProgressModel",
      "state": {
       "bar_style": "success",
       "description": "avg reward: 0.99: 100%",
       "layout": "IPY_MODEL_3cc52d7021684cce94e1c5144fd9ecd1",
       "max": 468,
       "style": "IPY_MODEL_121ed9bac1d84622a34efbacfd9fba33",
       "value": 468
      }
     },
     "abeb41f4a1024f0a931ff32b587639ba": {
      "model_module": "@jupyter-widgets/controls",
      "model_module_version": "1.5.0",
      "model_name": "HBoxModel",
      "state": {
       "children": [
        "IPY_MODEL_1a0744e26abb4c6fb28c1f64359de801",
        "IPY_MODEL_d171b2a2393a420c995a636aafbab21c"
       ],
       "layout": "IPY_MODEL_d044f6d5da76488c9696606f0d0c962a"
      }
     },
     "ad658b62806f465da0e10a8142e5d4dd": {
      "model_module": "@jupyter-widgets/base",
      "model_module_version": "1.2.0",
      "model_name": "LayoutModel",
      "state": {}
     },
     "adc722d2162d41609290e478962ceccc": {
      "model_module": "@jupyter-widgets/base",
      "model_module_version": "1.2.0",
      "model_name": "LayoutModel",
      "state": {}
     },
     "ae44b76786eb45228dd1536f350c8a91": {
      "model_module": "@jupyter-widgets/base",
      "model_module_version": "1.2.0",
      "model_name": "LayoutModel",
      "state": {}
     },
     "b115b9e3c4d34940a09e627d66cf920b": {
      "model_module": "@jupyter-widgets/base",
      "model_module_version": "1.2.0",
      "model_name": "LayoutModel",
      "state": {}
     },
     "b2167414df2f4d91a37f8c7e7c9b2932": {
      "model_module": "@jupyter-widgets/controls",
      "model_module_version": "1.5.0",
      "model_name": "IntProgressModel",
      "state": {
       "bar_style": "success",
       "description": "avg reward: 1.26: 100%",
       "layout": "IPY_MODEL_40ac5c905d2b498b8800b2646a74aa0c",
       "max": 468,
       "style": "IPY_MODEL_f3bd2cfb51914758825b4d849c1b9740",
       "value": 468
      }
     },
     "b3a66a9639df451d8706d0c5bd061526": {
      "model_module": "@jupyter-widgets/controls",
      "model_module_version": "1.5.0",
      "model_name": "HTMLModel",
      "state": {
       "layout": "IPY_MODEL_3aaf511913b343b1aa01afeb3f9c90cd",
       "style": "IPY_MODEL_e1e9cef9b10b4003927737e689f8a5ad"
      }
     },
     "b47eab0a03e14d8d98be13e9f24af21c": {
      "model_module": "@jupyter-widgets/controls",
      "model_module_version": "1.5.0",
      "model_name": "HTMLModel",
      "state": {
       "layout": "IPY_MODEL_3f463b4b070a4a0ca313b52e1992fb37",
       "style": "IPY_MODEL_11c2c05facc9490b9556aa45b0b793dd"
      }
     },
     "b554407076654fb3b232144116514fae": {
      "model_module": "@jupyter-widgets/controls",
      "model_module_version": "1.5.0",
      "model_name": "VBoxModel",
      "state": {
       "children": [
        "IPY_MODEL_ddc7bbaa56134e33a0a1fdc45e2a8110",
        "IPY_MODEL_b47eab0a03e14d8d98be13e9f24af21c"
       ],
       "layout": "IPY_MODEL_851df1f86b4244aa97f864ad1ca5ae27"
      }
     },
     "b562f2e9ed984956b51d48ce6255e365": {
      "model_module": "@jupyter-widgets/base",
      "model_module_version": "1.2.0",
      "model_name": "LayoutModel",
      "state": {}
     },
     "b5a1e059bdb14eb6a7901f6c4f72e799": {
      "model_module": "@jupyter-widgets/controls",
      "model_module_version": "1.5.0",
      "model_name": "VBoxModel",
      "state": {
       "children": [
        "IPY_MODEL_e58a5a721bd8462f88d92309ad8bd2ef",
        "IPY_MODEL_a961df76294f4cc581df1a8ae6d6761e"
       ],
       "layout": "IPY_MODEL_52d3801b37b7418191df83c66d744778"
      }
     },
     "b738037be10842c2a70c3c054eb6bbbc": {
      "model_module": "@jupyter-widgets/controls",
      "model_module_version": "1.5.0",
      "model_name": "DescriptionStyleModel",
      "state": {
       "description_width": ""
      }
     },
     "b7acdcd8a0344cc78faae9fe1dcebbe7": {
      "model_module": "@jupyter-widgets/base",
      "model_module_version": "1.2.0",
      "model_name": "LayoutModel",
      "state": {}
     },
     "b7dda933595b4d019615797f8d8c48a5": {
      "model_module": "@jupyter-widgets/base",
      "model_module_version": "1.2.0",
      "model_name": "LayoutModel",
      "state": {}
     },
     "b84581caaa1b4075b6e76e430a0aae22": {
      "model_module": "@jupyter-widgets/base",
      "model_module_version": "1.2.0",
      "model_name": "LayoutModel",
      "state": {}
     },
     "b8a99733bbda4fcbb9f4544373d8d0d9": {
      "model_module": "@jupyter-widgets/base",
      "model_module_version": "1.2.0",
      "model_name": "LayoutModel",
      "state": {}
     },
     "b9d8f3f2d4ac435d9a4bfdffe8a6f72a": {
      "model_module": "@jupyter-widgets/controls",
      "model_module_version": "1.5.0",
      "model_name": "DescriptionStyleModel",
      "state": {
       "description_width": ""
      }
     },
     "ba55650f4ecb450e873c8f1dcdcf9afa": {
      "model_module": "@jupyter-widgets/controls",
      "model_module_version": "1.5.0",
      "model_name": "ProgressStyleModel",
      "state": {
       "description_width": "initial"
      }
     },
     "bafd38f6bdde4f8db9d5922cb6047303": {
      "model_module": "@jupyter-widgets/base",
      "model_module_version": "1.2.0",
      "model_name": "LayoutModel",
      "state": {}
     },
     "bb9091142e794a31ba7b934b8cad0ae3": {
      "model_module": "@jupyter-widgets/controls",
      "model_module_version": "1.5.0",
      "model_name": "DescriptionStyleModel",
      "state": {
       "description_width": ""
      }
     },
     "bbc5dc461b414ae1adaa58433ddca181": {
      "model_module": "@jupyter-widgets/base",
      "model_module_version": "1.2.0",
      "model_name": "LayoutModel",
      "state": {}
     },
     "beac579001514de3bcc8ab077daeffd8": {
      "model_module": "@jupyter-widgets/base",
      "model_module_version": "1.2.0",
      "model_name": "LayoutModel",
      "state": {}
     },
     "bf55c8fb328c48b69091b72fe8354744": {
      "model_module": "@jupyter-widgets/base",
      "model_module_version": "1.2.0",
      "model_name": "LayoutModel",
      "state": {}
     },
     "c1217bc74815409ca96cad74a6970dcf": {
      "model_module": "@jupyter-widgets/base",
      "model_module_version": "1.2.0",
      "model_name": "LayoutModel",
      "state": {}
     },
     "c1e10cf2aace436ca6698cb0f2071bad": {
      "model_module": "@jupyter-widgets/base",
      "model_module_version": "1.2.0",
      "model_name": "LayoutModel",
      "state": {}
     },
     "c20ab9ef97454259bd7e4698b9316b4b": {
      "model_module": "@jupyter-widgets/controls",
      "model_module_version": "1.5.0",
      "model_name": "VBoxModel",
      "state": {
       "children": [
        "IPY_MODEL_83ce1d6d74db40a9ab5e9a7b381010a0",
        "IPY_MODEL_00815d78f5cd482e8c79707920de9523"
       ],
       "layout": "IPY_MODEL_b115b9e3c4d34940a09e627d66cf920b"
      }
     },
     "c4fdae6e62004ff1ba27f72ebc7cefce": {
      "model_module": "@jupyter-widgets/base",
      "model_module_version": "1.2.0",
      "model_name": "LayoutModel",
      "state": {}
     },
     "c51b2b7e53634110883b0a7e3f6202c5": {
      "model_module": "@jupyter-widgets/controls",
      "model_module_version": "1.5.0",
      "model_name": "VBoxModel",
      "state": {
       "children": [
        "IPY_MODEL_8076d0db899748c9bd8dbd108f118778",
        "IPY_MODEL_fea4e894ac5b40dbbc1820a95e6fd3fe"
       ],
       "layout": "IPY_MODEL_37f0d6adb7a6433abc4e03de7ee53e9a"
      }
     },
     "c5baa6c89bd243ef86d3c99f6264b19c": {
      "model_module": "@jupyter-widgets/controls",
      "model_module_version": "1.5.0",
      "model_name": "VBoxModel",
      "state": {
       "children": [
        "IPY_MODEL_915bd24f64644d6789f18525dc7b0b3b",
        "IPY_MODEL_7377fe217b9a4148bfac81a6f593e3ba"
       ],
       "layout": "IPY_MODEL_e84ba201d4ca4784ad85827c27ef96de"
      }
     },
     "c7e5db07f6bd42dfac2c187d3b763409": {
      "model_module": "@jupyter-widgets/controls",
      "model_module_version": "1.5.0",
      "model_name": "HTMLModel",
      "state": {
       "layout": "IPY_MODEL_a9b1618a06a741e487c0864b803425bc",
       "style": "IPY_MODEL_ffc0b2beac514b8d96104eff4bd9f946",
       "value": " 79/79 [00:01&lt;00:00, 48.31it/s]"
      }
     },
     "c90a1620a1bb49a99321908049d3e822": {
      "model_module": "@jupyter-widgets/controls",
      "model_module_version": "1.5.0",
      "model_name": "IntProgressModel",
      "state": {
       "bar_style": "success",
       "description": "Val Acc: 0.971: 100%",
       "layout": "IPY_MODEL_b7acdcd8a0344cc78faae9fe1dcebbe7",
       "max": 79,
       "style": "IPY_MODEL_57f1b52cdeb54cc9af364e017b275e76",
       "value": 79
      }
     },
     "c93400969f0144a983124ac0afb9c2db": {
      "model_module": "@jupyter-widgets/base",
      "model_module_version": "1.2.0",
      "model_name": "LayoutModel",
      "state": {}
     },
     "cab985a396c3438ca58e450ac876f5ba": {
      "model_module": "@jupyter-widgets/controls",
      "model_module_version": "1.5.0",
      "model_name": "ProgressStyleModel",
      "state": {
       "description_width": "initial"
      }
     },
     "cbe4f51e424c402bbed5ef2767b2d515": {
      "model_module": "@jupyter-widgets/base",
      "model_module_version": "1.2.0",
      "model_name": "LayoutModel",
      "state": {}
     },
     "cc192848cbef4930bc08ac56de83eb94": {
      "model_module": "@jupyter-widgets/base",
      "model_module_version": "1.2.0",
      "model_name": "LayoutModel",
      "state": {}
     },
     "cf706d13bce14fb690e2c162b2705945": {
      "model_module": "@jupyter-widgets/controls",
      "model_module_version": "1.5.0",
      "model_name": "DescriptionStyleModel",
      "state": {
       "description_width": ""
      }
     },
     "d044f6d5da76488c9696606f0d0c962a": {
      "model_module": "@jupyter-widgets/base",
      "model_module_version": "1.2.0",
      "model_name": "LayoutModel",
      "state": {}
     },
     "d0a587d8c2484df7bc4808d211bdcc33": {
      "model_module": "@jupyter-widgets/controls",
      "model_module_version": "1.5.0",
      "model_name": "HBoxModel",
      "state": {
       "children": [
        "IPY_MODEL_6e5efd3728c246a498280f63cc7312eb",
        "IPY_MODEL_578458447cbf4829aeccbfa407f417c7"
       ],
       "layout": "IPY_MODEL_5b01f86e205143b19efa672fc57caf11"
      }
     },
     "d0e9f1dbd4334d2fa3318004f2e8777d": {
      "model_module": "@jupyter-widgets/controls",
      "model_module_version": "1.5.0",
      "model_name": "ProgressStyleModel",
      "state": {
       "description_width": "initial"
      }
     },
     "d12026f9cc3a4371abfc1c30c6aa515b": {
      "model_module": "@jupyter-widgets/base",
      "model_module_version": "1.2.0",
      "model_name": "LayoutModel",
      "state": {}
     },
     "d171b2a2393a420c995a636aafbab21c": {
      "model_module": "@jupyter-widgets/controls",
      "model_module_version": "1.5.0",
      "model_name": "HTMLModel",
      "state": {
       "layout": "IPY_MODEL_d34958a34e5f445ebe025d74caab2f02",
       "style": "IPY_MODEL_2625210b11854c20a4015a817f5383ba",
       "value": " 468/468 [00:33&lt;00:00, 13.98it/s]"
      }
     },
     "d1b16ca21441447a8f8dcb38a4f62e4f": {
      "model_module": "@jupyter-widgets/controls",
      "model_module_version": "1.5.0",
      "model_name": "IntProgressModel",
      "state": {
       "bar_style": "success",
       "description": "epoch 0, val_acc: 0.97, avg reward: 1.28: 100%",
       "layout": "IPY_MODEL_e2b3163e30324af7933631efbac582d6",
       "max": 1,
       "style": "IPY_MODEL_319d57e422974d4593141816dd1b4ca4",
       "value": 1
      }
     },
     "d25f877c9b2648a49addf02fd9c47f84": {
      "model_module": "@jupyter-widgets/base",
      "model_module_version": "1.2.0",
      "model_name": "LayoutModel",
      "state": {}
     },
     "d2d7f8bbf1f94652a60f634e045459b4": {
      "model_module": "@jupyter-widgets/base",
      "model_module_version": "1.2.0",
      "model_name": "LayoutModel",
      "state": {}
     },
     "d34958a34e5f445ebe025d74caab2f02": {
      "model_module": "@jupyter-widgets/base",
      "model_module_version": "1.2.0",
      "model_name": "LayoutModel",
      "state": {}
     },
     "d37adcb8ea664c96b34e0e94939f2cfc": {
      "model_module": "@jupyter-widgets/controls",
      "model_module_version": "1.5.0",
      "model_name": "ProgressStyleModel",
      "state": {
       "description_width": "initial"
      }
     },
     "d4a3e6bb69ae4367895d90c513b93ed4": {
      "model_module": "@jupyter-widgets/controls",
      "model_module_version": "1.5.0",
      "model_name": "VBoxModel",
      "state": {
       "children": [
        "IPY_MODEL_1f5b5c76f6884b5eb2d28a195cea2fe3",
        "IPY_MODEL_753c35dc132e42248cf49e262a08207a"
       ],
       "layout": "IPY_MODEL_3e86d85b743442a9a1e62e9e375278f8"
      }
     },
     "d5d4d43d5b814883b215d0314f9a434f": {
      "model_module": "@jupyter-widgets/base",
      "model_module_version": "1.2.0",
      "model_name": "LayoutModel",
      "state": {}
     },
     "d714377445374fb3b4154dc5eedc5604": {
      "model_module": "@jupyter-widgets/controls",
      "model_module_version": "1.5.0",
      "model_name": "VBoxModel",
      "state": {
       "children": [
        "IPY_MODEL_30e2587dd7764667ae4f111e34f3ac28",
        "IPY_MODEL_82e9fe21c6b84019acbb9b69918d922e"
       ],
       "layout": "IPY_MODEL_4e9ceb2294254c2681e3afabdaf2fba2"
      }
     },
     "d79d48d3a29b4305a664a5102f400f19": {
      "model_module": "@jupyter-widgets/controls",
      "model_module_version": "1.5.0",
      "model_name": "HTMLModel",
      "state": {
       "layout": "IPY_MODEL_3800a744e2414d2ea6d1b86281a4a29e",
       "style": "IPY_MODEL_dd2a4c78bd4646a8803b3cb3da703ebe"
      }
     },
     "da5c20c27a424138a5125e47be30f875": {
      "model_module": "@jupyter-widgets/controls",
      "model_module_version": "1.5.0",
      "model_name": "HTMLModel",
      "state": {
       "layout": "IPY_MODEL_4523a8554b574fa59a2aefe781b822d9",
       "style": "IPY_MODEL_339669d3a3ee4a28957ac61f8e1894c9",
       "value": " 468/468 [00:34&lt;00:00, 13.71it/s]"
      }
     },
     "da7514d7faa3464eb3881fd16e6a41ec": {
      "model_module": "@jupyter-widgets/controls",
      "model_module_version": "1.5.0",
      "model_name": "HTMLModel",
      "state": {
       "layout": "IPY_MODEL_bafd38f6bdde4f8db9d5922cb6047303",
       "style": "IPY_MODEL_1e8905ce1ac6410f87dd2323e57a34aa",
       "value": "<br><?xml version=\"1.0\" encoding=\"UTF-8\" standalone=\"no\"?>\n<!DOCTYPE svg PUBLIC \"-//W3C//DTD SVG 1.1//EN\"\n \"http://www.w3.org/Graphics/SVG/1.1/DTD/svg11.dtd\">\n<!-- Generated by graphviz version 2.40.1 (20161225.0304)\n -->\n<!-- Title: %3 Pages: 1 -->\n<svg width=\"576pt\" height=\"28pt\"\n viewBox=\"0.00 0.00 576.00 27.91\" xmlns=\"http://www.w3.org/2000/svg\" xmlns:xlink=\"http://www.w3.org/1999/xlink\">\n<g id=\"graph0\" class=\"graph\" transform=\"scale(.6344 .6344) rotate(0) translate(4 40)\">\n<title>%3</title>\n<polygon fill=\"#ffffff\" stroke=\"transparent\" points=\"-4,4 -4,-40 904,-40 904,4 -4,4\"/>\n<!-- 0 -->\n<g id=\"node1\" class=\"node\">\n<title>0</title>\n<polygon fill=\"#fdb462\" stroke=\"#b2dfee\" points=\"128,-36 0,-36 0,0 128,0 128,-36\"/>\n<text text-anchor=\"middle\" x=\"64\" y=\"-14.3\" font-family=\"Times,serif\" font-size=\"14.00\" fill=\"#000000\">ResUnit(H8.K5.S2.)</text>\n</g>\n<!-- 1 -->\n<g id=\"node2\" class=\"node\">\n<title>1</title>\n<polygon fill=\"#bebada\" stroke=\"#b2dfee\" points=\"292,-36 164,-36 164,0 292,0 292,-36\"/>\n<text text-anchor=\"middle\" x=\"228\" y=\"-14.3\" font-family=\"Times,serif\" font-size=\"14.00\" fill=\"#000000\">ResUnit(K3.H8.S2.)</text>\n</g>\n<!-- 0&#45;&gt;1 -->\n<g id=\"edge1\" class=\"edge\">\n<title>0&#45;&gt;1</title>\n<path fill=\"none\" stroke=\"#000000\" d=\"M128.3464,-18C136.6401,-18 145.1868,-18 153.6248,-18\"/>\n<polygon fill=\"#000000\" stroke=\"#000000\" points=\"153.8392,-21.5001 163.8391,-18 153.8391,-14.5001 153.8392,-21.5001\"/>\n</g>\n<!-- 2 -->\n<g id=\"node3\" class=\"node\">\n<title>2</title>\n<polygon fill=\"#fdb462\" stroke=\"#b2dfee\" points=\"456,-36 328,-36 328,0 456,0 456,-36\"/>\n<text text-anchor=\"middle\" x=\"392\" y=\"-14.3\" font-family=\"Times,serif\" font-size=\"14.00\" fill=\"#000000\">ResUnit(K5.H8.S2.)</text>\n</g>\n<!-- 1&#45;&gt;2 -->\n<g id=\"edge2\" class=\"edge\">\n<title>1&#45;&gt;2</title>\n<path fill=\"none\" stroke=\"#000000\" d=\"M292.3464,-18C300.6401,-18 309.1868,-18 317.6248,-18\"/>\n<polygon fill=\"#000000\" stroke=\"#000000\" points=\"317.8392,-21.5001 327.8391,-18 317.8391,-14.5001 317.8392,-21.5001\"/>\n</g>\n<!-- 5 -->\n<g id=\"node4\" class=\"node\">\n<title>5</title>\n<polygon fill=\"#b2dfee\" stroke=\"#b2dfee\" points=\"610,-36 492,-36 492,0 610,0 610,-36\"/>\n<text text-anchor=\"middle\" x=\"551\" y=\"-14.3\" font-family=\"Times,serif\" font-size=\"14.00\" fill=\"#000000\">GlobalAvgPool2D</text>\n</g>\n<!-- 2&#45;&gt;5 -->\n<g id=\"edge3\" class=\"edge\">\n<title>2&#45;&gt;5</title>\n<path fill=\"none\" stroke=\"#000000\" d=\"M456.2131,-18C464.6077,-18 473.2386,-18 481.7121,-18\"/>\n<polygon fill=\"#000000\" stroke=\"#000000\" points=\"481.9435,-21.5001 491.9434,-18 481.9434,-14.5001 481.9435,-21.5001\"/>\n</g>\n<!-- 6 -->\n<g id=\"node5\" class=\"node\">\n<title>6</title>\n<polygon fill=\"#b2dfee\" stroke=\"#b2dfee\" points=\"700,-36 646,-36 646,0 700,0 700,-36\"/>\n<text text-anchor=\"middle\" x=\"673\" y=\"-14.3\" font-family=\"Times,serif\" font-size=\"14.00\" fill=\"#000000\">Flatten</text>\n</g>\n<!-- 5&#45;&gt;6 -->\n<g id=\"edge4\" class=\"edge\">\n<title>5&#45;&gt;6</title>\n<path fill=\"none\" stroke=\"#000000\" d=\"M610.2131,-18C618.909,-18 627.6533,-18 635.7384,-18\"/>\n<polygon fill=\"#000000\" stroke=\"#000000\" points=\"635.9278,-21.5001 645.9278,-18 635.9278,-14.5001 635.9278,-21.5001\"/>\n</g>\n<!-- 7 -->\n<g id=\"node6\" class=\"node\">\n<title>7</title>\n<polygon fill=\"#b2dfee\" stroke=\"#b2dfee\" points=\"810,-36 736,-36 736,0 810,0 810,-36\"/>\n<text text-anchor=\"middle\" x=\"773\" y=\"-14.3\" font-family=\"Times,serif\" font-size=\"14.00\" fill=\"#000000\">Activation</text>\n</g>\n<!-- 6&#45;&gt;7 -->\n<g id=\"edge5\" class=\"edge\">\n<title>6&#45;&gt;7</title>\n<path fill=\"none\" stroke=\"#000000\" d=\"M700.0614,-18C707.9606,-18 716.8349,-18 725.6022,-18\"/>\n<polygon fill=\"#000000\" stroke=\"#000000\" points=\"725.7804,-21.5001 735.7803,-18 725.7803,-14.5001 725.7804,-21.5001\"/>\n</g>\n<!-- 8 -->\n<g id=\"node7\" class=\"node\">\n<title>8</title>\n<polygon fill=\"#b2dfee\" stroke=\"#b2dfee\" points=\"900,-36 846,-36 846,0 900,0 900,-36\"/>\n<text text-anchor=\"middle\" x=\"873\" y=\"-14.3\" font-family=\"Times,serif\" font-size=\"14.00\" fill=\"#000000\">Dense</text>\n</g>\n<!-- 7&#45;&gt;8 -->\n<g id=\"edge6\" class=\"edge\">\n<title>7&#45;&gt;8</title>\n<path fill=\"none\" stroke=\"#000000\" d=\"M810.2363,-18C818.5138,-18 827.2914,-18 835.5763,-18\"/>\n<polygon fill=\"#000000\" stroke=\"#000000\" points=\"835.7324,-21.5001 845.7324,-18 835.7323,-14.5001 835.7324,-21.5001\"/>\n</g>\n</g>\n</svg>\n<br>"
      }
     },
     "db0968ce7c8d4ab1b885f95fbb954de7": {
      "model_module": "@jupyter-widgets/controls",
      "model_module_version": "1.5.0",
      "model_name": "HTMLModel",
      "state": {
       "layout": "IPY_MODEL_b8a99733bbda4fcbb9f4544373d8d0d9",
       "style": "IPY_MODEL_17c685855ed04bc080fcea5f554beab5",
       "value": " 1/1 [00:34&lt;00:00, 34.98s/it]"
      }
     },
     "db4563468f8f4c4893cd0a4e1024d59c": {
      "model_module": "@jupyter-widgets/controls",
      "model_module_version": "1.5.0",
      "model_name": "ProgressStyleModel",
      "state": {
       "description_width": "initial"
      }
     },
     "dcf2f42b5b2b42ca805d408aa251b384": {
      "model_module": "@jupyter-widgets/controls",
      "model_module_version": "1.5.0",
      "model_name": "DescriptionStyleModel",
      "state": {
       "description_width": ""
      }
     },
     "dd2a4c78bd4646a8803b3cb3da703ebe": {
      "model_module": "@jupyter-widgets/controls",
      "model_module_version": "1.5.0",
      "model_name": "DescriptionStyleModel",
      "state": {
       "description_width": ""
      }
     },
     "dd3b41d4d5d8477b833c0ab482f46ec8": {
      "model_module": "@jupyter-widgets/controls",
      "model_module_version": "1.5.0",
      "model_name": "ProgressStyleModel",
      "state": {
       "description_width": "initial"
      }
     },
     "ddb39c5b11944dada4f431eee98462ea": {
      "model_module": "@jupyter-widgets/controls",
      "model_module_version": "1.5.0",
      "model_name": "HTMLModel",
      "state": {
       "layout": "IPY_MODEL_f9f87b2505654a28862a0ae46ebab1c2",
       "style": "IPY_MODEL_5945edc17eb441d1ab581b9c39141a25",
       "value": " 79/79 [00:01&lt;00:00, 48.58it/s]"
      }
     },
     "ddc7bbaa56134e33a0a1fdc45e2a8110": {
      "model_module": "@jupyter-widgets/controls",
      "model_module_version": "1.5.0",
      "model_name": "HBoxModel",
      "state": {
       "children": [
        "IPY_MODEL_8af1689b70fd49809b72414ffbbda654",
        "IPY_MODEL_68204efc85f94e378911bcd3712ff0f0"
       ],
       "layout": "IPY_MODEL_715b02eeba42487aba2e250d0e57c1a5"
      }
     },
     "dff786b79ea841fbb93ef2d24b05a35c": {
      "model_module": "@jupyter-widgets/controls",
      "model_module_version": "1.5.0",
      "model_name": "DescriptionStyleModel",
      "state": {
       "description_width": ""
      }
     },
     "e1e9cef9b10b4003927737e689f8a5ad": {
      "model_module": "@jupyter-widgets/controls",
      "model_module_version": "1.5.0",
      "model_name": "DescriptionStyleModel",
      "state": {
       "description_width": ""
      }
     },
     "e2b3163e30324af7933631efbac582d6": {
      "model_module": "@jupyter-widgets/base",
      "model_module_version": "1.2.0",
      "model_name": "LayoutModel",
      "state": {}
     },
     "e399b1d551a7412cb497317591aa8ef8": {
      "model_module": "@jupyter-widgets/controls",
      "model_module_version": "1.5.0",
      "model_name": "HTMLModel",
      "state": {
       "layout": "IPY_MODEL_331500d6c61d4fdd9c8f70c0c5ea7cf4",
       "style": "IPY_MODEL_86023156268c4469a4d2768d01c5e0d2",
       "value": "<br><?xml version=\"1.0\" encoding=\"UTF-8\" standalone=\"no\"?>\n<!DOCTYPE svg PUBLIC \"-//W3C//DTD SVG 1.1//EN\"\n \"http://www.w3.org/Graphics/SVG/1.1/DTD/svg11.dtd\">\n<!-- Generated by graphviz version 2.40.1 (20161225.0304)\n -->\n<!-- Title: %3 Pages: 1 -->\n<svg width=\"576pt\" height=\"28pt\"\n viewBox=\"0.00 0.00 576.00 27.91\" xmlns=\"http://www.w3.org/2000/svg\" xmlns:xlink=\"http://www.w3.org/1999/xlink\">\n<g id=\"graph0\" class=\"graph\" transform=\"scale(.6344 .6344) rotate(0) translate(4 40)\">\n<title>%3</title>\n<polygon fill=\"#ffffff\" stroke=\"transparent\" points=\"-4,4 -4,-40 904,-40 904,4 -4,4\"/>\n<!-- 0 -->\n<g id=\"node1\" class=\"node\">\n<title>0</title>\n<polygon fill=\"#fdb462\" stroke=\"#b2dfee\" points=\"128,-36 0,-36 0,0 128,0 128,-36\"/>\n<text text-anchor=\"middle\" x=\"64\" y=\"-14.3\" font-family=\"Times,serif\" font-size=\"14.00\" fill=\"#000000\">ResUnit(H8.K5.S2.)</text>\n</g>\n<!-- 1 -->\n<g id=\"node2\" class=\"node\">\n<title>1</title>\n<polygon fill=\"#bebada\" stroke=\"#b2dfee\" points=\"292,-36 164,-36 164,0 292,0 292,-36\"/>\n<text text-anchor=\"middle\" x=\"228\" y=\"-14.3\" font-family=\"Times,serif\" font-size=\"14.00\" fill=\"#000000\">ResUnit(K3.H8.S2.)</text>\n</g>\n<!-- 0&#45;&gt;1 -->\n<g id=\"edge1\" class=\"edge\">\n<title>0&#45;&gt;1</title>\n<path fill=\"none\" stroke=\"#000000\" d=\"M128.3464,-18C136.6401,-18 145.1868,-18 153.6248,-18\"/>\n<polygon fill=\"#000000\" stroke=\"#000000\" points=\"153.8392,-21.5001 163.8391,-18 153.8391,-14.5001 153.8392,-21.5001\"/>\n</g>\n<!-- 2 -->\n<g id=\"node3\" class=\"node\">\n<title>2</title>\n<polygon fill=\"#bebada\" stroke=\"#b2dfee\" points=\"456,-36 328,-36 328,0 456,0 456,-36\"/>\n<text text-anchor=\"middle\" x=\"392\" y=\"-14.3\" font-family=\"Times,serif\" font-size=\"14.00\" fill=\"#000000\">ResUnit(K3.H8.S2.)</text>\n</g>\n<!-- 1&#45;&gt;2 -->\n<g id=\"edge2\" class=\"edge\">\n<title>1&#45;&gt;2</title>\n<path fill=\"none\" stroke=\"#000000\" d=\"M292.3464,-18C300.6401,-18 309.1868,-18 317.6248,-18\"/>\n<polygon fill=\"#000000\" stroke=\"#000000\" points=\"317.8392,-21.5001 327.8391,-18 317.8391,-14.5001 317.8392,-21.5001\"/>\n</g>\n<!-- 5 -->\n<g id=\"node4\" class=\"node\">\n<title>5</title>\n<polygon fill=\"#b2dfee\" stroke=\"#b2dfee\" points=\"610,-36 492,-36 492,0 610,0 610,-36\"/>\n<text text-anchor=\"middle\" x=\"551\" y=\"-14.3\" font-family=\"Times,serif\" font-size=\"14.00\" fill=\"#000000\">GlobalAvgPool2D</text>\n</g>\n<!-- 2&#45;&gt;5 -->\n<g id=\"edge3\" class=\"edge\">\n<title>2&#45;&gt;5</title>\n<path fill=\"none\" stroke=\"#000000\" d=\"M456.2131,-18C464.6077,-18 473.2386,-18 481.7121,-18\"/>\n<polygon fill=\"#000000\" stroke=\"#000000\" points=\"481.9435,-21.5001 491.9434,-18 481.9434,-14.5001 481.9435,-21.5001\"/>\n</g>\n<!-- 6 -->\n<g id=\"node5\" class=\"node\">\n<title>6</title>\n<polygon fill=\"#b2dfee\" stroke=\"#b2dfee\" points=\"700,-36 646,-36 646,0 700,0 700,-36\"/>\n<text text-anchor=\"middle\" x=\"673\" y=\"-14.3\" font-family=\"Times,serif\" font-size=\"14.00\" fill=\"#000000\">Flatten</text>\n</g>\n<!-- 5&#45;&gt;6 -->\n<g id=\"edge4\" class=\"edge\">\n<title>5&#45;&gt;6</title>\n<path fill=\"none\" stroke=\"#000000\" d=\"M610.2131,-18C618.909,-18 627.6533,-18 635.7384,-18\"/>\n<polygon fill=\"#000000\" stroke=\"#000000\" points=\"635.9278,-21.5001 645.9278,-18 635.9278,-14.5001 635.9278,-21.5001\"/>\n</g>\n<!-- 7 -->\n<g id=\"node6\" class=\"node\">\n<title>7</title>\n<polygon fill=\"#b2dfee\" stroke=\"#b2dfee\" points=\"810,-36 736,-36 736,0 810,0 810,-36\"/>\n<text text-anchor=\"middle\" x=\"773\" y=\"-14.3\" font-family=\"Times,serif\" font-size=\"14.00\" fill=\"#000000\">Activation</text>\n</g>\n<!-- 6&#45;&gt;7 -->\n<g id=\"edge5\" class=\"edge\">\n<title>6&#45;&gt;7</title>\n<path fill=\"none\" stroke=\"#000000\" d=\"M700.0614,-18C707.9606,-18 716.8349,-18 725.6022,-18\"/>\n<polygon fill=\"#000000\" stroke=\"#000000\" points=\"725.7804,-21.5001 735.7803,-18 725.7803,-14.5001 725.7804,-21.5001\"/>\n</g>\n<!-- 8 -->\n<g id=\"node7\" class=\"node\">\n<title>8</title>\n<polygon fill=\"#b2dfee\" stroke=\"#b2dfee\" points=\"900,-36 846,-36 846,0 900,0 900,-36\"/>\n<text text-anchor=\"middle\" x=\"873\" y=\"-14.3\" font-family=\"Times,serif\" font-size=\"14.00\" fill=\"#000000\">Dense</text>\n</g>\n<!-- 7&#45;&gt;8 -->\n<g id=\"edge6\" class=\"edge\">\n<title>7&#45;&gt;8</title>\n<path fill=\"none\" stroke=\"#000000\" d=\"M810.2363,-18C818.5138,-18 827.2914,-18 835.5763,-18\"/>\n<polygon fill=\"#000000\" stroke=\"#000000\" points=\"835.7324,-21.5001 845.7324,-18 835.7323,-14.5001 835.7324,-21.5001\"/>\n</g>\n</g>\n</svg>\n<br>"
      }
     },
     "e401ff5c9a8743449e51756267327401": {
      "model_module": "@jupyter-widgets/controls",
      "model_module_version": "1.5.0",
      "model_name": "HTMLModel",
      "state": {
       "layout": "IPY_MODEL_4c28c1931a7f4f2f92fcf08bf515bc92",
       "style": "IPY_MODEL_cf706d13bce14fb690e2c162b2705945",
       "value": " 1/1 [01:38&lt;00:00, 98.83s/it]"
      }
     },
     "e4357d8606294b929f6acd9a2f845d43": {
      "model_module": "@jupyter-widgets/controls",
      "model_module_version": "1.5.0",
      "model_name": "DescriptionStyleModel",
      "state": {
       "description_width": ""
      }
     },
     "e58a5a721bd8462f88d92309ad8bd2ef": {
      "model_module": "@jupyter-widgets/controls",
      "model_module_version": "1.5.0",
      "model_name": "HBoxModel",
      "state": {
       "children": [
        "IPY_MODEL_efdc120c81ae4affb2a1173f06c3f34f",
        "IPY_MODEL_e401ff5c9a8743449e51756267327401"
       ],
       "layout": "IPY_MODEL_9035b2be1450473ba47edcad95200379"
      }
     },
     "e64749784844465a82024c352dcb84c0": {
      "model_module": "@jupyter-widgets/controls",
      "model_module_version": "1.5.0",
      "model_name": "DescriptionStyleModel",
      "state": {
       "description_width": ""
      }
     },
     "e7826d97ab6a4f3d8cb6ad1293f9be3c": {
      "model_module": "@jupyter-widgets/controls",
      "model_module_version": "1.5.0",
      "model_name": "HTMLModel",
      "state": {
       "layout": "IPY_MODEL_b84581caaa1b4075b6e76e430a0aae22",
       "style": "IPY_MODEL_e4357d8606294b929f6acd9a2f845d43",
       "value": " 1/1 [00:34&lt;00:00, 34.28s/it]"
      }
     },
     "e84ba201d4ca4784ad85827c27ef96de": {
      "model_module": "@jupyter-widgets/base",
      "model_module_version": "1.2.0",
      "model_name": "LayoutModel",
      "state": {}
     },
     "e98eba41163047c4b30d681f13724b79": {
      "model_module": "@jupyter-widgets/controls",
      "model_module_version": "1.5.0",
      "model_name": "IntProgressModel",
      "state": {
       "bar_style": "success",
       "description": "avg reward: 0.99: 100%",
       "layout": "IPY_MODEL_9b0f37d02f8d483eaea8de410c79f228",
       "max": 468,
       "style": "IPY_MODEL_0855b216aa1442f0a0eb305151972a80",
       "value": 468
      }
     },
     "ea63c4d7c05446439f066423cddce015": {
      "model_module": "@jupyter-widgets/controls",
      "model_module_version": "1.5.0",
      "model_name": "VBoxModel",
      "state": {
       "children": [
        "IPY_MODEL_4e621b1b7f384dd0a012be8098f4eb84",
        "IPY_MODEL_59945c8061d54fa1b5518dd479b7ddb8"
       ],
       "layout": "IPY_MODEL_bbc5dc461b414ae1adaa58433ddca181"
      }
     },
     "ec699636719147f2a18be04ad4f20389": {
      "model_module": "@jupyter-widgets/base",
      "model_module_version": "1.2.0",
      "model_name": "LayoutModel",
      "state": {}
     },
     "ecafec3131ae46a39109de7739d9423c": {
      "model_module": "@jupyter-widgets/base",
      "model_module_version": "1.2.0",
      "model_name": "LayoutModel",
      "state": {}
     },
     "ede46ba9e9f94245b0be5c66b770262e": {
      "model_module": "@jupyter-widgets/base",
      "model_module_version": "1.2.0",
      "model_name": "LayoutModel",
      "state": {}
     },
     "ef8a21202dc24062a371791159df9999": {
      "model_module": "@jupyter-widgets/controls",
      "model_module_version": "1.5.0",
      "model_name": "DescriptionStyleModel",
      "state": {
       "description_width": ""
      }
     },
     "ef8ba293c09d4a4081d10ace57414739": {
      "model_module": "@jupyter-widgets/base",
      "model_module_version": "1.2.0",
      "model_name": "LayoutModel",
      "state": {}
     },
     "efdc120c81ae4affb2a1173f06c3f34f": {
      "model_module": "@jupyter-widgets/controls",
      "model_module_version": "1.5.0",
      "model_name": "IntProgressModel",
      "state": {
       "bar_style": "success",
       "description": "epoch 0, val_acc: 0.97, avg reward: 1.23: 100%",
       "layout": "IPY_MODEL_c1217bc74815409ca96cad74a6970dcf",
       "max": 1,
       "style": "IPY_MODEL_3bcafb235ed746efa9f45359f0632720",
       "value": 1
      }
     },
     "f1b12445309249d9b4645b84a06ed969": {
      "model_module": "@jupyter-widgets/controls",
      "model_module_version": "1.5.0",
      "model_name": "ProgressStyleModel",
      "state": {
       "description_width": "initial"
      }
     },
     "f27459df81d44f0d880975d841933162": {
      "model_module": "@jupyter-widgets/base",
      "model_module_version": "1.2.0",
      "model_name": "LayoutModel",
      "state": {}
     },
     "f36545094d6b411c95adccafd0c5dcf7": {
      "model_module": "@jupyter-widgets/base",
      "model_module_version": "1.2.0",
      "model_name": "LayoutModel",
      "state": {}
     },
     "f3bd2cfb51914758825b4d849c1b9740": {
      "model_module": "@jupyter-widgets/controls",
      "model_module_version": "1.5.0",
      "model_name": "ProgressStyleModel",
      "state": {
       "description_width": "initial"
      }
     },
     "f5a433dc05464ca58e18f4aa7c0563c0": {
      "model_module": "@jupyter-widgets/base",
      "model_module_version": "1.2.0",
      "model_name": "LayoutModel",
      "state": {}
     },
     "f7d9b5fe81ca46d7aa452c59699e18a5": {
      "model_module": "@jupyter-widgets/controls",
      "model_module_version": "1.5.0",
      "model_name": "ProgressStyleModel",
      "state": {
       "description_width": "initial"
      }
     },
     "f7e2ee5be1b34e4887400a1d4f097d55": {
      "model_module": "@jupyter-widgets/controls",
      "model_module_version": "1.5.0",
      "model_name": "ProgressStyleModel",
      "state": {
       "description_width": "initial"
      }
     },
     "f8ab9b96e25e46d48d8f37c4d4393d06": {
      "model_module": "@jupyter-widgets/controls",
      "model_module_version": "1.5.0",
      "model_name": "DescriptionStyleModel",
      "state": {
       "description_width": ""
      }
     },
     "f9f87b2505654a28862a0ae46ebab1c2": {
      "model_module": "@jupyter-widgets/base",
      "model_module_version": "1.2.0",
      "model_name": "LayoutModel",
      "state": {}
     },
     "fa01f63d61cf4b76bb437c8ac522c246": {
      "model_module": "@jupyter-widgets/controls",
      "model_module_version": "1.5.0",
      "model_name": "IntProgressModel",
      "state": {
       "bar_style": "success",
       "description": "Val Acc: 0.9712: 100%",
       "layout": "IPY_MODEL_4d326ab2637d41458738458c534f63ac",
       "max": 79,
       "style": "IPY_MODEL_f1b12445309249d9b4645b84a06ed969",
       "value": 79
      }
     },
     "fba3681101554e47bd1c472eae0309f0": {
      "model_module": "@jupyter-widgets/base",
      "model_module_version": "1.2.0",
      "model_name": "LayoutModel",
      "state": {}
     },
     "fc98ac62cc9e411584f44db91ccf9716": {
      "model_module": "@jupyter-widgets/controls",
      "model_module_version": "1.5.0",
      "model_name": "DescriptionStyleModel",
      "state": {
       "description_width": ""
      }
     },
     "fce16173cec844848b2281d67da1eb99": {
      "model_module": "@jupyter-widgets/base",
      "model_module_version": "1.2.0",
      "model_name": "LayoutModel",
      "state": {}
     },
     "fdfb6f10d74b45f99bd7b14776d57776": {
      "model_module": "@jupyter-widgets/controls",
      "model_module_version": "1.5.0",
      "model_name": "HTMLModel",
      "state": {
       "layout": "IPY_MODEL_8c262c8a8dc74a4896bbc957bf04fb8e",
       "style": "IPY_MODEL_fc98ac62cc9e411584f44db91ccf9716",
       "value": "<br><?xml version=\"1.0\" encoding=\"UTF-8\" standalone=\"no\"?>\n<!DOCTYPE svg PUBLIC \"-//W3C//DTD SVG 1.1//EN\"\n \"http://www.w3.org/Graphics/SVG/1.1/DTD/svg11.dtd\">\n<!-- Generated by graphviz version 2.40.1 (20161225.0304)\n -->\n<!-- Title: %3 Pages: 1 -->\n<svg width=\"576pt\" height=\"28pt\"\n viewBox=\"0.00 0.00 576.00 27.91\" xmlns=\"http://www.w3.org/2000/svg\" xmlns:xlink=\"http://www.w3.org/1999/xlink\">\n<g id=\"graph0\" class=\"graph\" transform=\"scale(.6344 .6344) rotate(0) translate(4 40)\">\n<title>%3</title>\n<polygon fill=\"#ffffff\" stroke=\"transparent\" points=\"-4,4 -4,-40 904,-40 904,4 -4,4\"/>\n<!-- 0 -->\n<g id=\"node1\" class=\"node\">\n<title>0</title>\n<polygon fill=\"#fdb462\" stroke=\"#b2dfee\" points=\"128,-36 0,-36 0,0 128,0 128,-36\"/>\n<text text-anchor=\"middle\" x=\"64\" y=\"-14.3\" font-family=\"Times,serif\" font-size=\"14.00\" fill=\"#000000\">ResUnit(H8.K5.S2.)</text>\n</g>\n<!-- 1 -->\n<g id=\"node2\" class=\"node\">\n<title>1</title>\n<polygon fill=\"#bebada\" stroke=\"#b2dfee\" points=\"292,-36 164,-36 164,0 292,0 292,-36\"/>\n<text text-anchor=\"middle\" x=\"228\" y=\"-14.3\" font-family=\"Times,serif\" font-size=\"14.00\" fill=\"#000000\">ResUnit(K3.H8.S2.)</text>\n</g>\n<!-- 0&#45;&gt;1 -->\n<g id=\"edge1\" class=\"edge\">\n<title>0&#45;&gt;1</title>\n<path fill=\"none\" stroke=\"#000000\" d=\"M128.3464,-18C136.6401,-18 145.1868,-18 153.6248,-18\"/>\n<polygon fill=\"#000000\" stroke=\"#000000\" points=\"153.8392,-21.5001 163.8391,-18 153.8391,-14.5001 153.8392,-21.5001\"/>\n</g>\n<!-- 2 -->\n<g id=\"node3\" class=\"node\">\n<title>2</title>\n<polygon fill=\"#fdb462\" stroke=\"#b2dfee\" points=\"456,-36 328,-36 328,0 456,0 456,-36\"/>\n<text text-anchor=\"middle\" x=\"392\" y=\"-14.3\" font-family=\"Times,serif\" font-size=\"14.00\" fill=\"#000000\">ResUnit(K5.H8.S2.)</text>\n</g>\n<!-- 1&#45;&gt;2 -->\n<g id=\"edge2\" class=\"edge\">\n<title>1&#45;&gt;2</title>\n<path fill=\"none\" stroke=\"#000000\" d=\"M292.3464,-18C300.6401,-18 309.1868,-18 317.6248,-18\"/>\n<polygon fill=\"#000000\" stroke=\"#000000\" points=\"317.8392,-21.5001 327.8391,-18 317.8391,-14.5001 317.8392,-21.5001\"/>\n</g>\n<!-- 5 -->\n<g id=\"node4\" class=\"node\">\n<title>5</title>\n<polygon fill=\"#b2dfee\" stroke=\"#b2dfee\" points=\"610,-36 492,-36 492,0 610,0 610,-36\"/>\n<text text-anchor=\"middle\" x=\"551\" y=\"-14.3\" font-family=\"Times,serif\" font-size=\"14.00\" fill=\"#000000\">GlobalAvgPool2D</text>\n</g>\n<!-- 2&#45;&gt;5 -->\n<g id=\"edge3\" class=\"edge\">\n<title>2&#45;&gt;5</title>\n<path fill=\"none\" stroke=\"#000000\" d=\"M456.2131,-18C464.6077,-18 473.2386,-18 481.7121,-18\"/>\n<polygon fill=\"#000000\" stroke=\"#000000\" points=\"481.9435,-21.5001 491.9434,-18 481.9434,-14.5001 481.9435,-21.5001\"/>\n</g>\n<!-- 6 -->\n<g id=\"node5\" class=\"node\">\n<title>6</title>\n<polygon fill=\"#b2dfee\" stroke=\"#b2dfee\" points=\"700,-36 646,-36 646,0 700,0 700,-36\"/>\n<text text-anchor=\"middle\" x=\"673\" y=\"-14.3\" font-family=\"Times,serif\" font-size=\"14.00\" fill=\"#000000\">Flatten</text>\n</g>\n<!-- 5&#45;&gt;6 -->\n<g id=\"edge4\" class=\"edge\">\n<title>5&#45;&gt;6</title>\n<path fill=\"none\" stroke=\"#000000\" d=\"M610.2131,-18C618.909,-18 627.6533,-18 635.7384,-18\"/>\n<polygon fill=\"#000000\" stroke=\"#000000\" points=\"635.9278,-21.5001 645.9278,-18 635.9278,-14.5001 635.9278,-21.5001\"/>\n</g>\n<!-- 7 -->\n<g id=\"node6\" class=\"node\">\n<title>7</title>\n<polygon fill=\"#b2dfee\" stroke=\"#b2dfee\" points=\"810,-36 736,-36 736,0 810,0 810,-36\"/>\n<text text-anchor=\"middle\" x=\"773\" y=\"-14.3\" font-family=\"Times,serif\" font-size=\"14.00\" fill=\"#000000\">Activation</text>\n</g>\n<!-- 6&#45;&gt;7 -->\n<g id=\"edge5\" class=\"edge\">\n<title>6&#45;&gt;7</title>\n<path fill=\"none\" stroke=\"#000000\" d=\"M700.0614,-18C707.9606,-18 716.8349,-18 725.6022,-18\"/>\n<polygon fill=\"#000000\" stroke=\"#000000\" points=\"725.7804,-21.5001 735.7803,-18 725.7803,-14.5001 725.7804,-21.5001\"/>\n</g>\n<!-- 8 -->\n<g id=\"node7\" class=\"node\">\n<title>8</title>\n<polygon fill=\"#b2dfee\" stroke=\"#b2dfee\" points=\"900,-36 846,-36 846,0 900,0 900,-36\"/>\n<text text-anchor=\"middle\" x=\"873\" y=\"-14.3\" font-family=\"Times,serif\" font-size=\"14.00\" fill=\"#000000\">Dense</text>\n</g>\n<!-- 7&#45;&gt;8 -->\n<g id=\"edge6\" class=\"edge\">\n<title>7&#45;&gt;8</title>\n<path fill=\"none\" stroke=\"#000000\" d=\"M810.2363,-18C818.5138,-18 827.2914,-18 835.5763,-18\"/>\n<polygon fill=\"#000000\" stroke=\"#000000\" points=\"835.7324,-21.5001 845.7324,-18 835.7323,-14.5001 835.7324,-21.5001\"/>\n</g>\n</g>\n</svg>\n<br>"
      }
     },
     "fe8b8c6cc1d14464bb1778ecfafd2aec": {
      "model_module": "@jupyter-widgets/controls",
      "model_module_version": "1.5.0",
      "model_name": "IntProgressModel",
      "state": {
       "bar_style": "success",
       "description": "epoch 0, val_acc: 0.97, avg reward: 0.99: 100%",
       "layout": "IPY_MODEL_55a87dfcf7494eb59e6b14e96938ee3f",
       "max": 1,
       "style": "IPY_MODEL_7aad73ce0e26470b94d1174b621791ca",
       "value": 1
      }
     },
     "fea00c68832b429f98bdde6d073ddd0a": {
      "model_module": "@jupyter-widgets/controls",
      "model_module_version": "1.5.0",
      "model_name": "DescriptionStyleModel",
      "state": {
       "description_width": ""
      }
     },
     "fea4e894ac5b40dbbc1820a95e6fd3fe": {
      "model_module": "@jupyter-widgets/controls",
      "model_module_version": "1.5.0",
      "model_name": "HTMLModel",
      "state": {
       "layout": "IPY_MODEL_32ba5cc3fc854bf78dc59f8874255f1a",
       "style": "IPY_MODEL_907113bea35d42f38542e40fb4b423cd"
      }
     },
     "ff92c549ec454166a069f78415ce2dfa": {
      "model_module": "@jupyter-widgets/controls",
      "model_module_version": "1.5.0",
      "model_name": "DescriptionStyleModel",
      "state": {
       "description_width": ""
      }
     },
     "ffbcb52e9c0049b491c173f940cf1b9f": {
      "model_module": "@jupyter-widgets/controls",
      "model_module_version": "1.5.0",
      "model_name": "HTMLModel",
      "state": {
       "layout": "IPY_MODEL_b562f2e9ed984956b51d48ce6255e365",
       "style": "IPY_MODEL_5688041929534dea87345de79759e8c2",
       "value": " 468/468 [00:32&lt;00:00, 14.19it/s]"
      }
     },
     "ffc0b2beac514b8d96104eff4bd9f946": {
      "model_module": "@jupyter-widgets/controls",
      "model_module_version": "1.5.0",
      "model_name": "DescriptionStyleModel",
      "state": {
       "description_width": ""
      }
     },
     "ffda61ee5a8242fea21ca64b203b6afe": {
      "model_module": "@jupyter-widgets/base",
      "model_module_version": "1.2.0",
      "model_name": "LayoutModel",
      "state": {}
     }
    },
    "version_major": 2,
    "version_minor": 0
   }
  }
 },
 "nbformat": 4,
 "nbformat_minor": 2
}
