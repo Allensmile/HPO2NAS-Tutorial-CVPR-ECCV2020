{
 "cells": [
  {
   "cell_type": "markdown",
   "metadata": {},
   "source": [
    "# CIFAR Training in PyTorch\n",
    "\n",
    ":label:`sec_customstorch`\n",
    "\n",
    "\n",
    "In this tutorial, we are showing an example of doing HPO using AutoGluon using PyTorch.\n",
    "AutoGluon is a framework agnostic HPO toolkit, which is compatible with\n",
    "any training code written in python. (Training code is adapted from\n",
    "[git repo](https://github.com/kuangliu/pytorch-cifar)).\n",
    "\n",
    "Import the torch and torchvision:"
   ]
  },
  {
   "cell_type": "code",
   "execution_count": 1,
   "metadata": {},
   "outputs": [],
   "source": [
    "import torch\n",
    "import torch.nn as nn\n",
    "import torch.nn.functional as F\n",
    "\n",
    "import torchvision\n",
    "import torchvision.transforms as transforms\n",
    "from tqdm.auto import tqdm"
   ]
  },
  {
   "cell_type": "markdown",
   "metadata": {},
   "source": [
    "## Start with A CIFAR10 Example\n",
    "\n",
    "### Data Transforms\n",
    "\n",
    "Standard data transforms during training and validation:"
   ]
  },
  {
   "cell_type": "code",
   "execution_count": 2,
   "metadata": {},
   "outputs": [],
   "source": [
    "transform = transforms.Compose([\n",
    "   transforms.ToTensor(),\n",
    "   transforms.Normalize((0.1307,), (0.3081,))\n",
    "])\n",
    "\n",
    "# the datasets\n",
    "trainset = torchvision.datasets.MNIST(root='./data', train=True, download=True, transform=transform)\n",
    "testset = torchvision.datasets.MNIST(root='./data', train=False, download=True, transform=transform)"
   ]
  },
  {
   "cell_type": "markdown",
   "metadata": {},
   "source": [
    "### Main Training Loop\n",
    "\n",
    "The following `train_cifar` function is a normal training code a user would write for\n",
    "training on CIFAR dataset. Python users typically use an argparser for conveniently\n",
    "changing default values. The only extra component introduced is `reporter`,\n",
    "which we will discribe later."
   ]
  },
  {
   "cell_type": "code",
   "execution_count": 3,
   "metadata": {},
   "outputs": [],
   "source": [
    "def train_cifar(args, reporter):\n",
    "    # get varibles from args\n",
    "    lr = args.lr\n",
    "    wd = args.wd\n",
    "    epochs = args.epochs\n",
    "    net = args.net\n",
    "    print('lr: {}, wd: {}'.format(lr, wd))\n",
    "\n",
    "    device = 'cuda' if torch.cuda.is_available() else 'cpu'\n",
    "    # Model\n",
    "    net = net.to(device)\n",
    "\n",
    "    if device == 'cuda':\n",
    "        net = nn.DataParallel(net)\n",
    "    criterion = nn.CrossEntropyLoss()\n",
    "    optimizer = torch.optim.SGD(net.parameters(), lr=args.lr, momentum=0.9, weight_decay=wd)\n",
    "\n",
    "    # datasets and dataloaders\n",
    "    trainset = torchvision.datasets.MNIST(root='./data', train=True, download=False, transform=transform)\n",
    "    trainloader = torch.utils.data.DataLoader(trainset, batch_size=128, shuffle=True, num_workers=2)\n",
    "\n",
    "    testset = torchvision.datasets.MNIST(root='./data', train=False, download=False, transform=transform)\n",
    "    testloader = torch.utils.data.DataLoader(testset, batch_size=128, shuffle=False, num_workers=2)\n",
    "\n",
    "    # Training\n",
    "    def train(epoch):\n",
    "        net.train()\n",
    "        train_loss, correct, total = 0, 0, 0\n",
    "        for batch_idx, (inputs, targets) in enumerate(trainloader):\n",
    "            inputs, targets = inputs.to(device), targets.to(device)\n",
    "            optimizer.zero_grad()\n",
    "            outputs = net(inputs)\n",
    "            loss = criterion(outputs, targets)\n",
    "            loss.backward()\n",
    "            optimizer.step()\n",
    "\n",
    "            train_loss += loss.item()\n",
    "            _, predicted = outputs.max(1)\n",
    "            total += targets.size(0)\n",
    "            correct += predicted.eq(targets).sum().item()\n",
    "\n",
    "    def test(epoch):\n",
    "        net.eval()\n",
    "        test_loss, correct, total = 0, 0, 0\n",
    "        with torch.no_grad():\n",
    "            for batch_idx, (inputs, targets) in enumerate(testloader):\n",
    "                inputs, targets = inputs.to(device), targets.to(device)\n",
    "                outputs = net(inputs)\n",
    "                loss = criterion(outputs, targets)\n",
    "\n",
    "                test_loss += loss.item()\n",
    "                _, predicted = outputs.max(1)\n",
    "                total += targets.size(0)\n",
    "                correct += predicted.eq(targets).sum().item()\n",
    "\n",
    "        acc = 100.*correct/total\n",
    "        reporter(epoch=epoch, accuracy=acc)\n",
    "\n",
    "    for epoch in tqdm(range(0, epochs)):\n",
    "        train(epoch)\n",
    "        test(epoch)"
   ]
  },
  {
   "cell_type": "markdown",
   "metadata": {},
   "source": [
    "## AutoGluon HPO\n",
    "\n",
    "In this sectin, we are talking about\n",
    "\n",
    "### Define A Searchable Network Achitecture\n",
    "\n",
    "Let's define a 'dynamic' network with searchable \n",
    "configurations by simply adding a decorator :func:`autogluon.obj`.\n",
    "In this example, we only search two arguments `hidden_conv` and\n",
    "`hidden_fc`, which represent the hidden channels in convolutional\n",
    "layer and fully connected layer. More info about searchable space\n",
    "is available at :meth:`autogluon.space`."
   ]
  },
  {
   "cell_type": "code",
   "execution_count": 4,
   "metadata": {},
   "outputs": [],
   "source": [
    "import autogluon as ag\n",
    "\n",
    "@ag.obj(\n",
    "    hidden_conv=ag.space.Int(6, 12),\n",
    "    hidden_fc=ag.space.Categorical(80, 120, 160),\n",
    ")\n",
    "class Net(nn.Module):\n",
    "    def __init__(self, hidden_conv, hidden_fc):\n",
    "        super().__init__()\n",
    "        self.conv1 = nn.Conv2d(1, hidden_conv, 5)\n",
    "        self.pool = nn.MaxPool2d(2, 2)\n",
    "        self.conv2 = nn.Conv2d(hidden_conv, 16, 5)\n",
    "        self.fc1 = nn.Linear(16 * 4 * 4, hidden_fc)\n",
    "        self.fc2 = nn.Linear(hidden_fc, 84)\n",
    "        self.fc3 = nn.Linear(84, 10)\n",
    "\n",
    "    def forward(self, x):\n",
    "        x = self.pool(F.relu(self.conv1(x)))\n",
    "        x = self.pool(F.relu(self.conv2(x)))\n",
    "        x = x.view(-1, 16 * 4 * 4)\n",
    "        x = F.relu(self.fc1(x))\n",
    "        x = F.relu(self.fc2(x))\n",
    "        x = self.fc3(x)\n",
    "        return x"
   ]
  },
  {
   "cell_type": "markdown",
   "metadata": {},
   "source": [
    "### Convert the Training Function to Be Searchable\n",
    "\n",
    "We can simply add a decorator :func:`autogluon.args` to convert the `train_cifar`\n",
    "function to AutoGluon Searchable."
   ]
  },
  {
   "cell_type": "code",
   "execution_count": 5,
   "metadata": {},
   "outputs": [],
   "source": [
    "@ag.args(\n",
    "    lr = ag.space.Real(0.01, 0.2, log=True),\n",
    "    wd = ag.space.Real(1e-4, 5e-4, log=True),\n",
    "    net = Net(),\n",
    "    epochs=5,\n",
    ")\n",
    "def ag_train_cifar(args, reporter):\n",
    "    return train_cifar(args, reporter)"
   ]
  },
  {
   "cell_type": "markdown",
   "metadata": {},
   "source": [
    "### Create the Scheduler and Launch the Experiment"
   ]
  },
  {
   "cell_type": "code",
   "execution_count": 6,
   "metadata": {},
   "outputs": [
    {
     "name": "stdout",
     "output_type": "stream",
     "text": [
      "FIFOScheduler(\n",
      "DistributedResourceManager{\n",
      "(Remote: Remote REMOTE_ID: 0, \n",
      "\t<Remote: 'inproc://172.16.19.215/4654/1' processes=1 threads=8, memory=64.38 GB>, Resource: NodeResourceManager(8 CPUs, 1 GPUs))\n",
      "})\n",
      "\n"
     ]
    }
   ],
   "source": [
    "myscheduler = ag.scheduler.FIFOScheduler(ag_train_cifar,\n",
    "                                         resource={'num_cpus': 4, 'num_gpus': 1},\n",
    "                                         num_trials=2,\n",
    "                                         time_attr='epoch',\n",
    "                                         reward_attr=\"accuracy\")\n",
    "print(myscheduler)"
   ]
  },
  {
   "cell_type": "code",
   "execution_count": 7,
   "metadata": {},
   "outputs": [
    {
     "data": {
      "application/vnd.jupyter.widget-view+json": {
       "model_id": "354c64f561dc4e868216631821515b10",
       "version_major": 2,
       "version_minor": 0
      },
      "text/plain": [
       "HBox(children=(IntProgress(value=0, max=2), HTML(value='')))"
      ]
     },
     "metadata": {},
     "output_type": "display_data"
    },
    {
     "name": "stdout",
     "output_type": "stream",
     "text": [
      "lr: 0.1383745909353965, wd: 0.00018963956721637821\n"
     ]
    },
    {
     "data": {
      "application/vnd.jupyter.widget-view+json": {
       "model_id": "6e6535c2f210454b80961aef04c56f69",
       "version_major": 2,
       "version_minor": 0
      },
      "text/plain": [
       "HBox(children=(IntProgress(value=0, max=5), HTML(value='')))"
      ]
     },
     "metadata": {},
     "output_type": "display_data"
    },
    {
     "name": "stdout",
     "output_type": "stream",
     "text": [
      "\n",
      "\n",
      "lr: 0.019479302878962705, wd: 0.00010333278586959975\n"
     ]
    },
    {
     "data": {
      "application/vnd.jupyter.widget-view+json": {
       "model_id": "7bb184508fc24bcb8489d17809064e1e",
       "version_major": 2,
       "version_minor": 0
      },
      "text/plain": [
       "HBox(children=(IntProgress(value=0, max=5), HTML(value='')))"
      ]
     },
     "metadata": {},
     "output_type": "display_data"
    },
    {
     "name": "stdout",
     "output_type": "stream",
     "text": [
      "\n"
     ]
    }
   ],
   "source": [
    "myscheduler.run()\n",
    "myscheduler.join_jobs()"
   ]
  },
  {
   "cell_type": "markdown",
   "metadata": {},
   "source": [
    "Plot the results."
   ]
  },
  {
   "cell_type": "code",
   "execution_count": 8,
   "metadata": {},
   "outputs": [
    {
     "data": {
      "image/png": "[encoded data removed]",
      "text/plain": [
       "<Figure size 432x288 with 1 Axes>"
      ]
     },
     "metadata": {
      "needs_background": "light"
     },
     "output_type": "display_data"
    },
    {
     "name": "stdout",
     "output_type": "stream",
     "text": [
      "The Best Configuration and Accuracy are: {'lr': 0.019479302878962705, 'net.hidden_conv': 10, 'net.hidden_fc.choice': 0, 'wd': 0.00010333278586959975}, 98.91\n"
     ]
    }
   ],
   "source": [
    "myscheduler.get_training_curves(plot=True,use_legend=False)\n",
    "print('The Best Configuration and Accuracy are: {}, {}'.format(myscheduler.get_best_config(),\n",
    "                                                               myscheduler.get_best_reward()))"
   ]
  },
  {
   "cell_type": "markdown",
   "metadata": {},
   "source": [
    "Finish and exit:"
   ]
  },
  {
   "cell_type": "code",
   "execution_count": 9,
   "metadata": {},
   "outputs": [],
   "source": [
    "ag.done()"
   ]
  }
 ],
 "metadata": {
  "kernelspec": {
   "display_name": "conda_autogluon",
   "language": "python",
   "name": "conda_autogluon"
  },
  "language_info": {
   "codemirror_mode": {
    "name": "ipython",
    "version": 3
   },
   "file_extension": ".py",
   "mimetype": "text/x-python",
   "name": "python",
   "nbconvert_exporter": "python",
   "pygments_lexer": "ipython3",
   "version": "3.7.5"
  },
  "widgets": {
   "application/vnd.jupyter.widget-state+json": {
    "state": {
     "01dee0ed485142b78c1dd6ac64ac79a4": {
      "model_module": "@jupyter-widgets/controls",
      "model_module_version": "1.5.0",
      "model_name": "HTMLModel",
      "state": {
       "layout": "IPY_MODEL_66f6a59342094252b3bd5b4a80684abe",
       "style": "IPY_MODEL_6c2e0b860af7470fa1db1d229076d2ae",
       "value": " 0/5 [00:00&lt;?, ?it/s]"
      }
     },
     "01fa1f5419fb461c8b62e8d2ee42cef3": {
      "model_module": "@jupyter-widgets/base",
      "model_module_version": "1.2.0",
      "model_name": "LayoutModel",
      "state": {}
     },
     "03b8846eb95444e38f16ee259b652e97": {
      "model_module": "@jupyter-widgets/controls",
      "model_module_version": "1.5.0",
      "model_name": "ProgressStyleModel",
      "state": {
       "description_width": "initial"
      }
     },
     "03f9670104744a8490484f7c3e7626d0": {
      "model_module": "@jupyter-widgets/controls",
      "model_module_version": "1.5.0",
      "model_name": "DescriptionStyleModel",
      "state": {
       "description_width": ""
      }
     },
     "04295251d3b346c8b81494bda80d4e23": {
      "model_module": "@jupyter-widgets/controls",
      "model_module_version": "1.5.0",
      "model_name": "IntProgressModel",
      "state": {
       "bar_style": "success",
       "description": "100%",
       "layout": "IPY_MODEL_e8baf8c3a49e450391eca073a975e6e6",
       "max": 5,
       "style": "IPY_MODEL_17ddb9795444479f8329c38dac1aff69",
       "value": 5
      }
     },
     "04ad7ac4341f4677a1edff17b45a741e": {
      "model_module": "@jupyter-widgets/controls",
      "model_module_version": "1.5.0",
      "model_name": "DescriptionStyleModel",
      "state": {
       "description_width": ""
      }
     },
     "061fb602338a40f995ba6202e59a9a4f": {
      "model_module": "@jupyter-widgets/base",
      "model_module_version": "1.2.0",
      "model_name": "LayoutModel",
      "state": {}
     },
     "082622f986fd405480028215182b11f9": {
      "model_module": "@jupyter-widgets/controls",
      "model_module_version": "1.5.0",
      "model_name": "HTMLModel",
      "state": {
       "layout": "IPY_MODEL_85637e4a191f423db80412a7eb065a55",
       "style": "IPY_MODEL_9b09dbbbdcf8411382a13f5799c33bfe",
       "value": " 0/5 [00:00&lt;?, ?it/s]"
      }
     },
     "092727d57e9a44bdb2de1a4de8993ca3": {
      "model_module": "@jupyter-widgets/controls",
      "model_module_version": "1.5.0",
      "model_name": "HTMLModel",
      "state": {
       "layout": "IPY_MODEL_8490db740d7b4711b4b52e6e1830c61c",
       "style": "IPY_MODEL_2900946334814052b74ec65b283fe46e",
       "value": " 2/5 [00:00&lt;00:00, 12.82it/s]"
      }
     },
     "0e82ab4c6e4748ef900be85b7993329f": {
      "model_module": "@jupyter-widgets/base",
      "model_module_version": "1.2.0",
      "model_name": "LayoutModel",
      "state": {}
     },
     "0eb4a4fd9c5e40c4b31dda2beff64fa4": {
      "model_module": "@jupyter-widgets/base",
      "model_module_version": "1.2.0",
      "model_name": "LayoutModel",
      "state": {}
     },
     "1258d5a0e8444b6695018a84b1969672": {
      "model_module": "@jupyter-widgets/controls",
      "model_module_version": "1.5.0",
      "model_name": "HBoxModel",
      "state": {
       "children": [
        "IPY_MODEL_e5a2b683a30549388d8fb41fc7918db0",
        "IPY_MODEL_082622f986fd405480028215182b11f9"
       ],
       "layout": "IPY_MODEL_a2ad339aec3b44c9ac944770050875dd"
      }
     },
     "13321565ec284ea28f5dfcdc61859e76": {
      "model_module": "@jupyter-widgets/controls",
      "model_module_version": "1.5.0",
      "model_name": "HTMLModel",
      "state": {
       "layout": "IPY_MODEL_28eedf9f46654053b08a349bd94ef0af",
       "style": "IPY_MODEL_03f9670104744a8490484f7c3e7626d0",
       "value": " 0/5 [00:00&lt;?, ?it/s]"
      }
     },
     "17ddb9795444479f8329c38dac1aff69": {
      "model_module": "@jupyter-widgets/controls",
      "model_module_version": "1.5.0",
      "model_name": "ProgressStyleModel",
      "state": {
       "description_width": "initial"
      }
     },
     "19b4c8adfaec4e2b8b7f85d95ea1a8cc": {
      "model_module": "@jupyter-widgets/base",
      "model_module_version": "1.2.0",
      "model_name": "LayoutModel",
      "state": {}
     },
     "19e20c3454f44f2c8c4c713032f871fa": {
      "model_module": "@jupyter-widgets/controls",
      "model_module_version": "1.5.0",
      "model_name": "ProgressStyleModel",
      "state": {
       "description_width": "initial"
      }
     },
     "1a80f40c75224c5f9c812d5b04af990a": {
      "model_module": "@jupyter-widgets/controls",
      "model_module_version": "1.5.0",
      "model_name": "HTMLModel",
      "state": {
       "layout": "IPY_MODEL_01fa1f5419fb461c8b62e8d2ee42cef3",
       "style": "IPY_MODEL_3ac751bed74e45d5868ed91f8dbb75df",
       "value": " 5/5 [00:07&lt;00:00,  1.41s/it]"
      }
     },
     "1d79b6d1ec0f476b831b4e59d63df80a": {
      "model_module": "@jupyter-widgets/controls",
      "model_module_version": "1.5.0",
      "model_name": "DescriptionStyleModel",
      "state": {
       "description_width": ""
      }
     },
     "1fba47143a83493fa3378d0d6f30ceb0": {
      "model_module": "@jupyter-widgets/base",
      "model_module_version": "1.2.0",
      "model_name": "LayoutModel",
      "state": {}
     },
     "1fc82dd5db274974b4c3f44e7f0ed043": {
      "model_module": "@jupyter-widgets/base",
      "model_module_version": "1.2.0",
      "model_name": "LayoutModel",
      "state": {}
     },
     "2292a787e2c7427e8f6e1a5c0a215a52": {
      "model_module": "@jupyter-widgets/controls",
      "model_module_version": "1.5.0",
      "model_name": "ProgressStyleModel",
      "state": {
       "description_width": "initial"
      }
     },
     "22ee1bbe8ed142329e723e2ac3f6580b": {
      "model_module": "@jupyter-widgets/controls",
      "model_module_version": "1.5.0",
      "model_name": "ProgressStyleModel",
      "state": {
       "description_width": "initial"
      }
     },
     "22ffbf240698471eb25d701016ae3b71": {
      "model_module": "@jupyter-widgets/controls",
      "model_module_version": "1.5.0",
      "model_name": "IntProgressModel",
      "state": {
       "bar_style": "success",
       "description": "100%",
       "layout": "IPY_MODEL_8c07940522144db48ff49a4b4aa42770",
       "max": 5,
       "style": "IPY_MODEL_b8a368de39d14671af27392499a83027",
       "value": 5
      }
     },
     "2480d9b49d1245b5bf9d2a4ccbd5e9b9": {
      "model_module": "@jupyter-widgets/base",
      "model_module_version": "1.2.0",
      "model_name": "LayoutModel",
      "state": {}
     },
     "25431e7b53af404b8d49197779de4c8b": {
      "model_module": "@jupyter-widgets/controls",
      "model_module_version": "1.5.0",
      "model_name": "DescriptionStyleModel",
      "state": {
       "description_width": ""
      }
     },
     "257fa3743b0941359a8c6056e1253a29": {
      "model_module": "@jupyter-widgets/base",
      "model_module_version": "1.2.0",
      "model_name": "LayoutModel",
      "state": {}
     },
     "282b3c777831408786beea7f330c0357": {
      "model_module": "@jupyter-widgets/controls",
      "model_module_version": "1.5.0",
      "model_name": "ProgressStyleModel",
      "state": {
       "description_width": "initial"
      }
     },
     "28eedf9f46654053b08a349bd94ef0af": {
      "model_module": "@jupyter-widgets/base",
      "model_module_version": "1.2.0",
      "model_name": "LayoutModel",
      "state": {}
     },
     "2900946334814052b74ec65b283fe46e": {
      "model_module": "@jupyter-widgets/controls",
      "model_module_version": "1.5.0",
      "model_name": "DescriptionStyleModel",
      "state": {
       "description_width": ""
      }
     },
     "2aeedbf0e781446d9265d743f8f917bf": {
      "model_module": "@jupyter-widgets/controls",
      "model_module_version": "1.5.0",
      "model_name": "IntProgressModel",
      "state": {
       "bar_style": "success",
       "description": "100%",
       "layout": "IPY_MODEL_f0964ad1f0da42e0bc617c46214f85de",
       "max": 469,
       "style": "IPY_MODEL_617cd3caaac440218bece022f026eb68",
       "value": 469
      }
     },
     "2f3850cff2b0458fbc95e1d8bd5b160e": {
      "model_module": "@jupyter-widgets/controls",
      "model_module_version": "1.5.0",
      "model_name": "IntProgressModel",
      "state": {
       "bar_style": "danger",
       "description": " 60%",
       "layout": "IPY_MODEL_e4fb9b80b8b647f3ad4ec887aa0c9f24",
       "max": 5,
       "style": "IPY_MODEL_783a596db657448b9f3b50cb48ca8bef",
       "value": 3
      }
     },
     "2f3bf7b00eca42589b8261697468b321": {
      "model_module": "@jupyter-widgets/controls",
      "model_module_version": "1.5.0",
      "model_name": "DescriptionStyleModel",
      "state": {
       "description_width": ""
      }
     },
     "31fc837ab7824c69bdc7242a218759f4": {
      "model_module": "@jupyter-widgets/controls",
      "model_module_version": "1.5.0",
      "model_name": "HBoxModel",
      "state": {
       "children": [
        "IPY_MODEL_f7a97ae684ea4e9c8ff7409164c6fb89",
        "IPY_MODEL_95596a052c5248fc943a91180a83dd9f"
       ],
       "layout": "IPY_MODEL_c77fd11b3da24505b53b86b4dd584db8"
      }
     },
     "354c64f561dc4e868216631821515b10": {
      "model_module": "@jupyter-widgets/controls",
      "model_module_version": "1.5.0",
      "model_name": "HBoxModel",
      "state": {
       "children": [
        "IPY_MODEL_85b0c79a50624e2f869d0b6cfe4c9b46",
        "IPY_MODEL_f92ce1dd948f456e8f74b40945e54743"
       ],
       "layout": "IPY_MODEL_d8a7ff0ec8ec4fc8b450dee9dbe61b11"
      }
     },
     "38885cbeaff54c1d97f1137b3d55b3bb": {
      "model_module": "@jupyter-widgets/controls",
      "model_module_version": "1.5.0",
      "model_name": "IntProgressModel",
      "state": {
       "bar_style": "success",
       "description": "100%",
       "layout": "IPY_MODEL_f5c97db747bc494cae22370adbc5233f",
       "max": 469,
       "style": "IPY_MODEL_f6d939112b29402997811ee9d3d29543",
       "value": 469
      }
     },
     "38c9f50010e446cdbfb51f35102c2ab4": {
      "model_module": "@jupyter-widgets/controls",
      "model_module_version": "1.5.0",
      "model_name": "HTMLModel",
      "state": {
       "layout": "IPY_MODEL_7f8e9b936f80447d9ccb14266b28e47d",
       "style": "IPY_MODEL_cdde279205b24454b6cea75054df3e88",
       "value": " 469/469 [00:06&lt;00:00, 70.46it/s]"
      }
     },
     "3ac751bed74e45d5868ed91f8dbb75df": {
      "model_module": "@jupyter-widgets/controls",
      "model_module_version": "1.5.0",
      "model_name": "DescriptionStyleModel",
      "state": {
       "description_width": ""
      }
     },
     "3eb385f88393452eb3ed85f3d5ccd395": {
      "model_module": "@jupyter-widgets/base",
      "model_module_version": "1.2.0",
      "model_name": "LayoutModel",
      "state": {}
     },
     "3ec306c76c4a4be3ae8651396adc315c": {
      "model_module": "@jupyter-widgets/base",
      "model_module_version": "1.2.0",
      "model_name": "LayoutModel",
      "state": {}
     },
     "41d8b8e89cd64788952da84c3b74031b": {
      "model_module": "@jupyter-widgets/base",
      "model_module_version": "1.2.0",
      "model_name": "LayoutModel",
      "state": {}
     },
     "4464eafe9fd7422a979683f685359913": {
      "model_module": "@jupyter-widgets/controls",
      "model_module_version": "1.5.0",
      "model_name": "HTMLModel",
      "state": {
       "layout": "IPY_MODEL_50090b1fbb4e49308dd38e23f6052c79",
       "style": "IPY_MODEL_abdeb3222198433f88f652fb103f27a6",
       "value": " 5/5 [00:37&lt;00:00,  7.53s/it]"
      }
     },
     "44e12bcc3a24409d984b11e45104fb5d": {
      "model_module": "@jupyter-widgets/controls",
      "model_module_version": "1.5.0",
      "model_name": "IntProgressModel",
      "state": {
       "bar_style": "success",
       "description": "100%",
       "layout": "IPY_MODEL_19b4c8adfaec4e2b8b7f85d95ea1a8cc",
       "max": 469,
       "style": "IPY_MODEL_c5da064699c941279c3fd92c5c290e61",
       "value": 469
      }
     },
     "46900430c8ef475699719ee4cc973c65": {
      "model_module": "@jupyter-widgets/base",
      "model_module_version": "1.2.0",
      "model_name": "LayoutModel",
      "state": {}
     },
     "50090b1fbb4e49308dd38e23f6052c79": {
      "model_module": "@jupyter-widgets/base",
      "model_module_version": "1.2.0",
      "model_name": "LayoutModel",
      "state": {}
     },
     "520d8a653f8f49589ea65ff83db684bc": {
      "model_module": "@jupyter-widgets/controls",
      "model_module_version": "1.5.0",
      "model_name": "HTMLModel",
      "state": {
       "layout": "IPY_MODEL_abd832cc29884b188ee3aa077d09ff9b",
       "style": "IPY_MODEL_1d79b6d1ec0f476b831b4e59d63df80a",
       "value": " 469/469 [00:06&lt;00:00, 75.44it/s]"
      }
     },
     "53b44fb4f58e4fcb9b5d45f742224a91": {
      "model_module": "@jupyter-widgets/controls",
      "model_module_version": "1.5.0",
      "model_name": "DescriptionStyleModel",
      "state": {
       "description_width": ""
      }
     },
     "54a7aa8b19084bb19e6b1a8778445ea4": {
      "model_module": "@jupyter-widgets/base",
      "model_module_version": "1.2.0",
      "model_name": "LayoutModel",
      "state": {}
     },
     "57fdcb986f34415da244c3183bb24ed3": {
      "model_module": "@jupyter-widgets/controls",
      "model_module_version": "1.5.0",
      "model_name": "ProgressStyleModel",
      "state": {
       "description_width": "initial"
      }
     },
     "597e00c5229746b495e4e0a935329617": {
      "model_module": "@jupyter-widgets/controls",
      "model_module_version": "1.5.0",
      "model_name": "HBoxModel",
      "state": {
       "children": [
        "IPY_MODEL_677ad8aecd334cce93a734f9a8506457",
        "IPY_MODEL_c182517b006847e9986398e26fdccde9"
       ],
       "layout": "IPY_MODEL_d6f0ac23f8fb4bc59131d9c394af0d46"
      }
     },
     "5ab32d96bd184e96a464c3a982c454f2": {
      "model_module": "@jupyter-widgets/controls",
      "model_module_version": "1.5.0",
      "model_name": "HBoxModel",
      "state": {
       "children": [
        "IPY_MODEL_2aeedbf0e781446d9265d743f8f917bf",
        "IPY_MODEL_a23bee597c8047ec89611438a7b29d72"
       ],
       "layout": "IPY_MODEL_fdc3876966244ff9bcf8766faf4537e7"
      }
     },
     "617cd3caaac440218bece022f026eb68": {
      "model_module": "@jupyter-widgets/controls",
      "model_module_version": "1.5.0",
      "model_name": "ProgressStyleModel",
      "state": {
       "description_width": "initial"
      }
     },
     "65d6dd736f834187ae85f7d215009b28": {
      "model_module": "@jupyter-widgets/controls",
      "model_module_version": "1.5.0",
      "model_name": "HBoxModel",
      "state": {
       "children": [
        "IPY_MODEL_eaef084001f2481389e9753a4820d087",
        "IPY_MODEL_13321565ec284ea28f5dfcdc61859e76"
       ],
       "layout": "IPY_MODEL_ce2c03f69a1d4adfbcc515137c00568e"
      }
     },
     "66f6a59342094252b3bd5b4a80684abe": {
      "model_module": "@jupyter-widgets/base",
      "model_module_version": "1.2.0",
      "model_name": "LayoutModel",
      "state": {}
     },
     "677ad8aecd334cce93a734f9a8506457": {
      "model_module": "@jupyter-widgets/controls",
      "model_module_version": "1.5.0",
      "model_name": "IntProgressModel",
      "state": {
       "bar_style": "success",
       "description": "100%",
       "layout": "IPY_MODEL_c032906d03cd4022bb3b323ad6c3c8da",
       "max": 2,
       "style": "IPY_MODEL_e3b32c3f415b48b6b0392ad8ae0430be",
       "value": 2
      }
     },
     "67ebd48d496d4720be03576b1c2deb50": {
      "model_module": "@jupyter-widgets/controls",
      "model_module_version": "1.5.0",
      "model_name": "HBoxModel",
      "state": {
       "children": [
        "IPY_MODEL_af066cec9d9841b19f4bc3332e15951b",
        "IPY_MODEL_092727d57e9a44bdb2de1a4de8993ca3"
       ],
       "layout": "IPY_MODEL_2480d9b49d1245b5bf9d2a4ccbd5e9b9"
      }
     },
     "6c2e0b860af7470fa1db1d229076d2ae": {
      "model_module": "@jupyter-widgets/controls",
      "model_module_version": "1.5.0",
      "model_name": "DescriptionStyleModel",
      "state": {
       "description_width": ""
      }
     },
     "6e6535c2f210454b80961aef04c56f69": {
      "model_module": "@jupyter-widgets/controls",
      "model_module_version": "1.5.0",
      "model_name": "HBoxModel",
      "state": {
       "children": [
        "IPY_MODEL_04295251d3b346c8b81494bda80d4e23",
        "IPY_MODEL_b8acd99c8d9e4de18ff806355cf0996b"
       ],
       "layout": "IPY_MODEL_c04da1148eee4cfc942edbec83678f9f"
      }
     },
     "75322c1eb75349de81ab1b6072cbbbc1": {
      "model_module": "@jupyter-widgets/controls",
      "model_module_version": "1.5.0",
      "model_name": "DescriptionStyleModel",
      "state": {
       "description_width": ""
      }
     },
     "783a596db657448b9f3b50cb48ca8bef": {
      "model_module": "@jupyter-widgets/controls",
      "model_module_version": "1.5.0",
      "model_name": "ProgressStyleModel",
      "state": {
       "description_width": "initial"
      }
     },
     "7a040ee3801e48208052ab4df67cf01f": {
      "model_module": "@jupyter-widgets/controls",
      "model_module_version": "1.5.0",
      "model_name": "ProgressStyleModel",
      "state": {
       "description_width": "initial"
      }
     },
     "7bb184508fc24bcb8489d17809064e1e": {
      "model_module": "@jupyter-widgets/controls",
      "model_module_version": "1.5.0",
      "model_name": "HBoxModel",
      "state": {
       "children": [
        "IPY_MODEL_c1e524f3b573451382fc31292d8452ea",
        "IPY_MODEL_4464eafe9fd7422a979683f685359913"
       ],
       "layout": "IPY_MODEL_fe3c17ab40904846b1d71a45ab9a8b07"
      }
     },
     "7bd969fd9bd14250a85bb4a4d49952d9": {
      "model_module": "@jupyter-widgets/controls",
      "model_module_version": "1.5.0",
      "model_name": "HBoxModel",
      "state": {
       "children": [
        "IPY_MODEL_44e12bcc3a24409d984b11e45104fb5d",
        "IPY_MODEL_520d8a653f8f49589ea65ff83db684bc"
       ],
       "layout": "IPY_MODEL_8edfb66c1cf74608989e8ef1ff54b66c"
      }
     },
     "7f8e9b936f80447d9ccb14266b28e47d": {
      "model_module": "@jupyter-widgets/base",
      "model_module_version": "1.2.0",
      "model_name": "LayoutModel",
      "state": {}
     },
     "83ed845f9b2f4d80b33225b365565ded": {
      "model_module": "@jupyter-widgets/base",
      "model_module_version": "1.2.0",
      "model_name": "LayoutModel",
      "state": {}
     },
     "8490db740d7b4711b4b52e6e1830c61c": {
      "model_module": "@jupyter-widgets/base",
      "model_module_version": "1.2.0",
      "model_name": "LayoutModel",
      "state": {}
     },
     "85637e4a191f423db80412a7eb065a55": {
      "model_module": "@jupyter-widgets/base",
      "model_module_version": "1.2.0",
      "model_name": "LayoutModel",
      "state": {}
     },
     "85b0c79a50624e2f869d0b6cfe4c9b46": {
      "model_module": "@jupyter-widgets/controls",
      "model_module_version": "1.5.0",
      "model_name": "IntProgressModel",
      "state": {
       "bar_style": "success",
       "description": "100%",
       "layout": "IPY_MODEL_0eb4a4fd9c5e40c4b31dda2beff64fa4",
       "max": 2,
       "style": "IPY_MODEL_57fdcb986f34415da244c3183bb24ed3",
       "value": 2
      }
     },
     "8c07940522144db48ff49a4b4aa42770": {
      "model_module": "@jupyter-widgets/base",
      "model_module_version": "1.2.0",
      "model_name": "LayoutModel",
      "state": {}
     },
     "8edfb66c1cf74608989e8ef1ff54b66c": {
      "model_module": "@jupyter-widgets/base",
      "model_module_version": "1.2.0",
      "model_name": "LayoutModel",
      "state": {}
     },
     "8fbcf39937cb4f848a08d39f761acb79": {
      "model_module": "@jupyter-widgets/base",
      "model_module_version": "1.2.0",
      "model_name": "LayoutModel",
      "state": {}
     },
     "95596a052c5248fc943a91180a83dd9f": {
      "model_module": "@jupyter-widgets/controls",
      "model_module_version": "1.5.0",
      "model_name": "HTMLModel",
      "state": {
       "layout": "IPY_MODEL_8fbcf39937cb4f848a08d39f761acb79",
       "style": "IPY_MODEL_53b44fb4f58e4fcb9b5d45f742224a91",
       "value": " 0/5 [00:00&lt;?, ?it/s]"
      }
     },
     "9766908d188d492996bf477e014e13a2": {
      "model_module": "@jupyter-widgets/base",
      "model_module_version": "1.2.0",
      "model_name": "LayoutModel",
      "state": {}
     },
     "9996e29159f2485fb7e0e01491c1a394": {
      "model_module": "@jupyter-widgets/controls",
      "model_module_version": "1.5.0",
      "model_name": "HBoxModel",
      "state": {
       "children": [
        "IPY_MODEL_22ffbf240698471eb25d701016ae3b71",
        "IPY_MODEL_1a80f40c75224c5f9c812d5b04af990a"
       ],
       "layout": "IPY_MODEL_1fba47143a83493fa3378d0d6f30ceb0"
      }
     },
     "9b09dbbbdcf8411382a13f5799c33bfe": {
      "model_module": "@jupyter-widgets/controls",
      "model_module_version": "1.5.0",
      "model_name": "DescriptionStyleModel",
      "state": {
       "description_width": ""
      }
     },
     "9b33f0e64b204eddba77ad73cd3fcfea": {
      "model_module": "@jupyter-widgets/base",
      "model_module_version": "1.2.0",
      "model_name": "LayoutModel",
      "state": {}
     },
     "9bd7a023fb6642d1b08a905004ae46f1": {
      "model_module": "@jupyter-widgets/controls",
      "model_module_version": "1.5.0",
      "model_name": "DescriptionStyleModel",
      "state": {
       "description_width": ""
      }
     },
     "a11dfc07cee94bd6b094bc8c657730ee": {
      "model_module": "@jupyter-widgets/controls",
      "model_module_version": "1.5.0",
      "model_name": "IntProgressModel",
      "state": {
       "description": "  0%",
       "layout": "IPY_MODEL_83ed845f9b2f4d80b33225b365565ded",
       "max": 5,
       "style": "IPY_MODEL_7a040ee3801e48208052ab4df67cf01f"
      }
     },
     "a23bee597c8047ec89611438a7b29d72": {
      "model_module": "@jupyter-widgets/controls",
      "model_module_version": "1.5.0",
      "model_name": "HTMLModel",
      "state": {
       "layout": "IPY_MODEL_9b33f0e64b204eddba77ad73cd3fcfea",
       "style": "IPY_MODEL_9bd7a023fb6642d1b08a905004ae46f1",
       "value": " 469/469 [00:06&lt;00:00, 76.00it/s]"
      }
     },
     "a2ad339aec3b44c9ac944770050875dd": {
      "model_module": "@jupyter-widgets/base",
      "model_module_version": "1.2.0",
      "model_name": "LayoutModel",
      "state": {}
     },
     "a390228d0ac046c1af2b36c4e8230b2a": {
      "model_module": "@jupyter-widgets/base",
      "model_module_version": "1.2.0",
      "model_name": "LayoutModel",
      "state": {}
     },
     "a8f7838eae354db69cc223d20c5805ac": {
      "model_module": "@jupyter-widgets/controls",
      "model_module_version": "1.5.0",
      "model_name": "HBoxModel",
      "state": {
       "children": [
        "IPY_MODEL_2f3850cff2b0458fbc95e1d8bd5b160e",
        "IPY_MODEL_cc06046673e2451d875439ce73ebe9e2"
       ],
       "layout": "IPY_MODEL_a390228d0ac046c1af2b36c4e8230b2a"
      }
     },
     "abd832cc29884b188ee3aa077d09ff9b": {
      "model_module": "@jupyter-widgets/base",
      "model_module_version": "1.2.0",
      "model_name": "LayoutModel",
      "state": {}
     },
     "abdeb3222198433f88f652fb103f27a6": {
      "model_module": "@jupyter-widgets/controls",
      "model_module_version": "1.5.0",
      "model_name": "DescriptionStyleModel",
      "state": {
       "description_width": ""
      }
     },
     "aef10abef04f4ec8ab9f93f63ff3ddd8": {
      "model_module": "@jupyter-widgets/controls",
      "model_module_version": "1.5.0",
      "model_name": "HTMLModel",
      "state": {
       "layout": "IPY_MODEL_46900430c8ef475699719ee4cc973c65",
       "style": "IPY_MODEL_25431e7b53af404b8d49197779de4c8b",
       "value": " 469/469 [00:06&lt;00:00, 76.19it/s]"
      }
     },
     "af066cec9d9841b19f4bc3332e15951b": {
      "model_module": "@jupyter-widgets/controls",
      "model_module_version": "1.5.0",
      "model_name": "IntProgressModel",
      "state": {
       "description": " 40%",
       "layout": "IPY_MODEL_3ec306c76c4a4be3ae8651396adc315c",
       "max": 5,
       "style": "IPY_MODEL_19e20c3454f44f2c8c4c713032f871fa",
       "value": 2
      }
     },
     "b88d3dbd50d741bd84b69ab4d40aff28": {
      "model_module": "@jupyter-widgets/controls",
      "model_module_version": "1.5.0",
      "model_name": "HBoxModel",
      "state": {
       "children": [
        "IPY_MODEL_a11dfc07cee94bd6b094bc8c657730ee",
        "IPY_MODEL_01dee0ed485142b78c1dd6ac64ac79a4"
       ],
       "layout": "IPY_MODEL_c84d931bde49475eb8f722e100dbc182"
      }
     },
     "b8a368de39d14671af27392499a83027": {
      "model_module": "@jupyter-widgets/controls",
      "model_module_version": "1.5.0",
      "model_name": "ProgressStyleModel",
      "state": {
       "description_width": "initial"
      }
     },
     "b8acd99c8d9e4de18ff806355cf0996b": {
      "model_module": "@jupyter-widgets/controls",
      "model_module_version": "1.5.0",
      "model_name": "HTMLModel",
      "state": {
       "layout": "IPY_MODEL_41d8b8e89cd64788952da84c3b74031b",
       "style": "IPY_MODEL_75322c1eb75349de81ab1b6072cbbbc1",
       "value": " 5/5 [00:37&lt;00:00,  7.45s/it]"
      }
     },
     "bba7891dcf7c4e74b21e4ac17e457932": {
      "model_module": "@jupyter-widgets/controls",
      "model_module_version": "1.5.0",
      "model_name": "IntProgressModel",
      "state": {
       "bar_style": "success",
       "description": "100%",
       "layout": "IPY_MODEL_0e82ab4c6e4748ef900be85b7993329f",
       "max": 469,
       "style": "IPY_MODEL_22ee1bbe8ed142329e723e2ac3f6580b",
       "value": 469
      }
     },
     "c032906d03cd4022bb3b323ad6c3c8da": {
      "model_module": "@jupyter-widgets/base",
      "model_module_version": "1.2.0",
      "model_name": "LayoutModel",
      "state": {}
     },
     "c04da1148eee4cfc942edbec83678f9f": {
      "model_module": "@jupyter-widgets/base",
      "model_module_version": "1.2.0",
      "model_name": "LayoutModel",
      "state": {}
     },
     "c182517b006847e9986398e26fdccde9": {
      "model_module": "@jupyter-widgets/controls",
      "model_module_version": "1.5.0",
      "model_name": "HTMLModel",
      "state": {
       "layout": "IPY_MODEL_d750dbab8dcf4248a62f818910a1e8bc",
       "style": "IPY_MODEL_ef66a5e8938b451798b55fc2635bd38c",
       "value": " 2/2 [00:23&lt;00:00, 11.66s/it]"
      }
     },
     "c1e524f3b573451382fc31292d8452ea": {
      "model_module": "@jupyter-widgets/controls",
      "model_module_version": "1.5.0",
      "model_name": "IntProgressModel",
      "state": {
       "bar_style": "success",
       "description": "100%",
       "layout": "IPY_MODEL_54a7aa8b19084bb19e6b1a8778445ea4",
       "max": 5,
       "style": "IPY_MODEL_2292a787e2c7427e8f6e1a5c0a215a52",
       "value": 5
      }
     },
     "c5da064699c941279c3fd92c5c290e61": {
      "model_module": "@jupyter-widgets/controls",
      "model_module_version": "1.5.0",
      "model_name": "ProgressStyleModel",
      "state": {
       "description_width": "initial"
      }
     },
     "c77fd11b3da24505b53b86b4dd584db8": {
      "model_module": "@jupyter-widgets/base",
      "model_module_version": "1.2.0",
      "model_name": "LayoutModel",
      "state": {}
     },
     "c84d931bde49475eb8f722e100dbc182": {
      "model_module": "@jupyter-widgets/base",
      "model_module_version": "1.2.0",
      "model_name": "LayoutModel",
      "state": {}
     },
     "cc06046673e2451d875439ce73ebe9e2": {
      "model_module": "@jupyter-widgets/controls",
      "model_module_version": "1.5.0",
      "model_name": "HTMLModel",
      "state": {
       "layout": "IPY_MODEL_d609e288f23447cca18a3ef354001fcd",
       "style": "IPY_MODEL_04ad7ac4341f4677a1edff17b45a741e",
       "value": " 3/5 [03:31&lt;02:20, 70.41s/it]"
      }
     },
     "cdde279205b24454b6cea75054df3e88": {
      "model_module": "@jupyter-widgets/controls",
      "model_module_version": "1.5.0",
      "model_name": "DescriptionStyleModel",
      "state": {
       "description_width": ""
      }
     },
     "ce2c03f69a1d4adfbcc515137c00568e": {
      "model_module": "@jupyter-widgets/base",
      "model_module_version": "1.2.0",
      "model_name": "LayoutModel",
      "state": {}
     },
     "d4ad61fe1f604fe2aee6e363dbfe32b1": {
      "model_module": "@jupyter-widgets/controls",
      "model_module_version": "1.5.0",
      "model_name": "HBoxModel",
      "state": {
       "children": [
        "IPY_MODEL_bba7891dcf7c4e74b21e4ac17e457932",
        "IPY_MODEL_aef10abef04f4ec8ab9f93f63ff3ddd8"
       ],
       "layout": "IPY_MODEL_061fb602338a40f995ba6202e59a9a4f"
      }
     },
     "d5146fdc4e7f4b22b8641aad9ca1091c": {
      "model_module": "@jupyter-widgets/controls",
      "model_module_version": "1.5.0",
      "model_name": "HBoxModel",
      "state": {
       "children": [
        "IPY_MODEL_38885cbeaff54c1d97f1137b3d55b3bb",
        "IPY_MODEL_38c9f50010e446cdbfb51f35102c2ab4"
       ],
       "layout": "IPY_MODEL_257fa3743b0941359a8c6056e1253a29"
      }
     },
     "d609e288f23447cca18a3ef354001fcd": {
      "model_module": "@jupyter-widgets/base",
      "model_module_version": "1.2.0",
      "model_name": "LayoutModel",
      "state": {}
     },
     "d6f0ac23f8fb4bc59131d9c394af0d46": {
      "model_module": "@jupyter-widgets/base",
      "model_module_version": "1.2.0",
      "model_name": "LayoutModel",
      "state": {}
     },
     "d750dbab8dcf4248a62f818910a1e8bc": {
      "model_module": "@jupyter-widgets/base",
      "model_module_version": "1.2.0",
      "model_name": "LayoutModel",
      "state": {}
     },
     "d8a7ff0ec8ec4fc8b450dee9dbe61b11": {
      "model_module": "@jupyter-widgets/base",
      "model_module_version": "1.2.0",
      "model_name": "LayoutModel",
      "state": {}
     },
     "e0c5f8ab70b4453d96592d1cad49815e": {
      "model_module": "@jupyter-widgets/base",
      "model_module_version": "1.2.0",
      "model_name": "LayoutModel",
      "state": {}
     },
     "e3b32c3f415b48b6b0392ad8ae0430be": {
      "model_module": "@jupyter-widgets/controls",
      "model_module_version": "1.5.0",
      "model_name": "ProgressStyleModel",
      "state": {
       "description_width": "initial"
      }
     },
     "e4fb9b80b8b647f3ad4ec887aa0c9f24": {
      "model_module": "@jupyter-widgets/base",
      "model_module_version": "1.2.0",
      "model_name": "LayoutModel",
      "state": {}
     },
     "e5a2b683a30549388d8fb41fc7918db0": {
      "model_module": "@jupyter-widgets/controls",
      "model_module_version": "1.5.0",
      "model_name": "IntProgressModel",
      "state": {
       "description": "  0%",
       "layout": "IPY_MODEL_e0c5f8ab70b4453d96592d1cad49815e",
       "max": 5,
       "style": "IPY_MODEL_282b3c777831408786beea7f330c0357"
      }
     },
     "e8baf8c3a49e450391eca073a975e6e6": {
      "model_module": "@jupyter-widgets/base",
      "model_module_version": "1.2.0",
      "model_name": "LayoutModel",
      "state": {}
     },
     "eaef084001f2481389e9753a4820d087": {
      "model_module": "@jupyter-widgets/controls",
      "model_module_version": "1.5.0",
      "model_name": "IntProgressModel",
      "state": {
       "description": "  0%",
       "layout": "IPY_MODEL_3eb385f88393452eb3ed85f3d5ccd395",
       "max": 5,
       "style": "IPY_MODEL_03b8846eb95444e38f16ee259b652e97"
      }
     },
     "ef66a5e8938b451798b55fc2635bd38c": {
      "model_module": "@jupyter-widgets/controls",
      "model_module_version": "1.5.0",
      "model_name": "DescriptionStyleModel",
      "state": {
       "description_width": ""
      }
     },
     "f0964ad1f0da42e0bc617c46214f85de": {
      "model_module": "@jupyter-widgets/base",
      "model_module_version": "1.2.0",
      "model_name": "LayoutModel",
      "state": {}
     },
     "f5c97db747bc494cae22370adbc5233f": {
      "model_module": "@jupyter-widgets/base",
      "model_module_version": "1.2.0",
      "model_name": "LayoutModel",
      "state": {}
     },
     "f6d939112b29402997811ee9d3d29543": {
      "model_module": "@jupyter-widgets/controls",
      "model_module_version": "1.5.0",
      "model_name": "ProgressStyleModel",
      "state": {
       "description_width": "initial"
      }
     },
     "f7a97ae684ea4e9c8ff7409164c6fb89": {
      "model_module": "@jupyter-widgets/controls",
      "model_module_version": "1.5.0",
      "model_name": "IntProgressModel",
      "state": {
       "description": "  0%",
       "layout": "IPY_MODEL_9766908d188d492996bf477e014e13a2",
       "max": 5,
       "style": "IPY_MODEL_fc36aee7582f4127bf9a9410d0d16b2c"
      }
     },
     "f92ce1dd948f456e8f74b40945e54743": {
      "model_module": "@jupyter-widgets/controls",
      "model_module_version": "1.5.0",
      "model_name": "HTMLModel",
      "state": {
       "layout": "IPY_MODEL_1fc82dd5db274974b4c3f44e7f0ed043",
       "style": "IPY_MODEL_2f3bf7b00eca42589b8261697468b321",
       "value": " 2/2 [00:46&lt;00:00, 23.05s/it]"
      }
     },
     "fc36aee7582f4127bf9a9410d0d16b2c": {
      "model_module": "@jupyter-widgets/controls",
      "model_module_version": "1.5.0",
      "model_name": "ProgressStyleModel",
      "state": {
       "description_width": "initial"
      }
     },
     "fdc3876966244ff9bcf8766faf4537e7": {
      "model_module": "@jupyter-widgets/base",
      "model_module_version": "1.2.0",
      "model_name": "LayoutModel",
      "state": {}
     },
     "fe3c17ab40904846b1d71a45ab9a8b07": {
      "model_module": "@jupyter-widgets/base",
      "model_module_version": "1.2.0",
      "model_name": "LayoutModel",
      "state": {}
     }
    },
    "version_major": 2,
    "version_minor": 0
   }
  }
 },
 "nbformat": 4,
 "nbformat_minor": 2
}
